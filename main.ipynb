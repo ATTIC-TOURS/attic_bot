{
 "cells": [
  {
   "cell_type": "markdown",
   "metadata": {},
   "source": [
    "# RAG"
   ]
  },
  {
   "cell_type": "code",
   "execution_count": 245,
   "metadata": {},
   "outputs": [],
   "source": [
    "import os\n",
    "from dotenv import load_dotenv\n",
    "\n",
    "# load the environment variables\n",
    "load_dotenv() \n",
    "\n",
    "os.environ[\"LANGCHAIN_TRACING_V2\"] = \"true\"\n",
    "os.environ[\"LANGCHAIN_API_KEY\"] = os.getenv(\"LANGCHAIN_API_KEY\")\n",
    "os.environ[\"LANGCHAIN_ENDPOINT\"] = os.getenv(\"LANGCHAIN_ENDPOINT\")\n",
    "os.environ[\"LANGCHAIN_PROJECT\"] = os.getenv(\"LANGCHAIN_PROJECT\")\n",
    "os.environ[\"OPENAI_API_KEY\"] = os.getenv(\"OPENAI_API_KEY\")"
   ]
  },
  {
   "cell_type": "markdown",
   "metadata": {},
   "source": [
    "## Retrieve PDFs (target)"
   ]
  },
  {
   "cell_type": "markdown",
   "metadata": {},
   "source": [
    "get the pdf paths"
   ]
  },
  {
   "cell_type": "code",
   "execution_count": 246,
   "metadata": {},
   "outputs": [],
   "source": [
    "from pathlib import Path\n",
    "\n",
    "pdf_paths = list(Path(\"pdfs\").glob(\"*.pdf\"))\n",
    "pdf_paths = [pdf_path.as_posix() for pdf_path in pdf_paths]"
   ]
  },
  {
   "cell_type": "code",
   "execution_count": 247,
   "metadata": {},
   "outputs": [],
   "source": [
    "pdf_contents = {idx:path for idx, path in enumerate(pdf_paths)}"
   ]
  },
  {
   "cell_type": "code",
   "execution_count": 248,
   "metadata": {},
   "outputs": [
    {
     "data": {
      "text/plain": [
       "{0: 'pdfs/MULTIPLE-ENTRY VISA FOR TEMPORARY VISITOR.pdf',\n",
       " 1: 'pdfs/PACKAGE_TOUR.pdf',\n",
       " 2: 'pdfs/VISITING RELATIVES.pdf',\n",
       " 3: 'pdfs/VISITING US MIILITALY PERSONNEL.pdf',\n",
       " 4: 'pdfs/TRANSIT.pdf',\n",
       " 5: 'pdfs/OFFICIAL.pdf',\n",
       " 6: 'pdfs/MULTIPLE-ENTRY VISA FOR TEMPORARY VISITOR FOR BUSINESS.pdf',\n",
       " 7: 'pdfs/STUDENT, WORKER AND DEPENDENT.pdf',\n",
       " 8: 'pdfs/HOUSEKEEPER OF DIPLOMAT.pdf',\n",
       " 9: 'pdfs/MULTIPLE-ENTRY TEMPORARY VISITOR VISA (PHILIPPINE NATIONALS WITH.pdf',\n",
       " 10: 'pdfs/ATTIC TOURS SM FAIRVIEW (1).pdf',\n",
       " 11: 'pdfs/TOURISM.pdf',\n",
       " 12: 'pdfs/BUSINESS.pdf',\n",
       " 13: 'pdfs/SPOUSE OR CHLID OF JAPANESE NATIONAL RESIDING IN THE PHILIPPINES.pdf',\n",
       " 14: 'pdfs/VISITING FRIENDS OR DISTANT RELATIVES.pdf',\n",
       " 15: 'pdfs/NIKKEI-JIN (JAPANESE DESCENDANT).pdf'}"
      ]
     },
     "execution_count": 248,
     "metadata": {},
     "output_type": "execute_result"
    }
   ],
   "source": [
    "pdf_contents"
   ]
  },
  {
   "cell_type": "markdown",
   "metadata": {},
   "source": [
    "**PER PDF LEVEL CHUNCKING**"
   ]
  },
  {
   "cell_type": "code",
   "execution_count": 249,
   "metadata": {},
   "outputs": [],
   "source": [
    "from langchain_community.document_loaders import PyPDFLoader\n",
    "\n",
    "\n",
    "documents = []\n",
    "count = 0\n",
    "for pdf_path in pdf_paths:\n",
    "    loader = PyPDFLoader(pdf_path)\n",
    "    for document in loader.lazy_load():\n",
    "        documents.append(document)"
   ]
  },
  {
   "cell_type": "code",
   "execution_count": 250,
   "metadata": {},
   "outputs": [
    {
     "data": {
      "text/plain": [
       "[Document(metadata={'source': 'pdfs/MULTIPLE-ENTRY VISA FOR TEMPORARY VISITOR.pdf', 'page': 0}, page_content='MULTIPLE-ENTRY VISA FOR TEMPORARY VISITOR  \\nMay 2024  \\n  \\nA. PURPOSE  \\nVisit Japan several times as temporary visitor for tourism, business or visiting relatives, etc.  \\n☞ Applicants need to satisfy one of the following conditions from I to IV.  \\n☞ The period of each stay in Japan must be within 30 days.  \\n  \\nB. Requirements（Details→https://www.ph.emb-japan.go.jp/itpr_ja/11_000001_00898.html）  \\n  ※ Downloadable from this website   \\n   COMMON REQUIREMENTS  \\n(1) Passport（Holder’s signature required）  \\n(2) Application Form ※（A facial Photo (4.5×3.5cm) must be attached.）  \\n(3) Request for Multiple-Entry Visa ※  \\n(4) PSA issued Birth Certificate and Marriage Certificate (for married applicants), issued within 1 year \\n☞ Unnecessary if there is used Japan Visa on passport.  \\n【ADDITIONAL REQUIREMENTS】  \\n- If (4) is unreadable, submit Birth/Marriage certificate issued by Local Civil Registrar.  \\n- If Birth Certificate is “LATE REGISTRATION”, submit Baptismal Certificate and School Record (Form 137).  \\n- If there is no record of Birth/Marriage in PSA, submit Birth Certificate issued by Local Civil Registrar and \\nNegative Certificate issued by PSA.  \\n(5) Itinerary in Japan ※  \\n(6) Applicant’s Bank Certificate (balance within the last six months must be shown)  \\n* If the Average Daily Balance (ADB) in the last six months is not indicated, bank statement must \\nbe submitted to prove transactions within the last six months. \\n(7) Applicant’s Tax Payment Certificate  \\n* Form 2316, must have signature of the Employer and Employee \\n* For business owners, proof of actual payment of tax must be submitted in addition to the BIR Tax \\nPayment Certificate Form (copy acceptable) \\n(8) Applicant’s Employment Certificate (must indicate period of employment, salary  and position) \\n* For business owners, Department of Trade and Industry (DTI) “Certificate of Business Name \\nRegistration” and Mayor’s Permit from the City Hall must be submitted.  \\n* If for any reason other than being a retiree, full-time housewife or unemployed, applicant is \\nunable to submit (7) and (8) above, a letter of explanation about the reason must be submitted. \\nFor students, a copy of School ID or Certificate of Enrollment in School must be submitted.  \\n \\n \\nCONDITIONS AND SPECIFIC REQUIREMENTS  \\nI. Applicant who travelled Japan as temporary visitor in the last 3 years and has financial capacity  \\n→ Used visa must be in the passport (old/expired passports with used Japan Visa may also be \\nsubmitted)  \\n*Used Japanese visa and landing permission as temporary visitor in the last 3 years    \\nII. Applicant who travelled Japan (as temporary visitor) and G7 countries (several times, except Japan)   \\n→Used visa must be in the passport (old/expired passports with used Visa may also be submitted) '),\n",
       " Document(metadata={'source': 'pdfs/MULTIPLE-ENTRY VISA FOR TEMPORARY VISITOR.pdf', 'page': 1}, page_content='*Used Japanese Visa and landing permission as temporary visitor in the last 3 years    \\n*Used visas and landing permissions of G7 countries (except Japan) in the last 3 years  \\n  \\nIII. Applicant with sufficient financial capacity  \\n* In case [ those with sufficient financial capacity] is checked, the embassy examine and determine whether \\nthe applicant falls under [Multiple-Entry Visa for Temporary Visitor] or [Multiple-Entry Visa Temporary \\nVisitor Visa for Philippine Nationals with Considerable Financial Capacity].  \\n \\nIV. Spouse/Child of “III” (Applicant with sufficient financial capacity)  \\n(1) Proof of relationship with (III) above (PSA issued Birth Certificate and Marriage Certificate, if \\napplicable)  \\n(2) Passport and multiple entry visa copy and documents (6) , (7)  and (8) of (III.) above. \\n \\n-   \\n  '),\n",
       " Document(metadata={'source': 'pdfs/PACKAGE_TOUR.pdf', 'page': 0}, page_content='PACKAGE TOUR ARRANGED BY REGISTERED TRAVEL AGENCIES  \\nOCTOBER 2022 \\nA. PURPOSE \\nJoin a package tour for sightseeing arranged by registered travel agency of the Embassy. \\n(For the Philippine nationals only . T he term of stay in Japan must be within 15 days. The lis t of \\nregistered travel agencies is on our website.)  \\nB. Requirements（Details→https://www.ph.emb-japan.go.jp/itpr_ja/11_000001_00898.html ） \\n  ※ Downloadable from this website   \\nAPPLICANT’S REQUIREMENTS  \\n(1) Passport（Holder’s signature required ） \\n(2) Application Form  ※（A facial Photo ( 4.5×3.5cm) must be attached. ） \\n   (3) (For a corporate incentive tour) Documents to show an outline of the sponsor corporation \\n       (e.g., a hard copy of the website , a photocopy of a certificate of business registration, etc.)   \\n☞ If there is a used Japanese visa on your passport, the following (4) and (5) are unnecessary. \\n   (4) Birth Certificate (issued by PSA within 1 year)  \\n    【ADDITIONAL REQUIREMENTS 】 \\n    - If the certificate is unreadable, submit a Birth certificate issued by Local Civil Registrar.  \\n    - If the birth certificate is “LATE REGIS TRATION”, submit a Baptismal Certificate and School Record \\n(Form 137). \\n    - If there is no record of birth in PSA, submit a Birth Certificate issued by Local Civil Registrar and \\nNegative Certificate issued by PSA.  \\n   (5) Marriage Certificate ( issued by PSA within 1 year. For the married only.) \\n    【ADDITIONAL REQUIREMENTS 】 \\n    - If the certificate is unreadable, submit a Marriage certificate issued by Local Civil Registrar.  \\n- If there is no record of marriage in PSA , submit a Marriage  Certificate issued by Local Civil Registrar \\nand Negative Certificate issued by PSA. \\n \\n \\n REQUIREMENTS OF REGISTERED TRAVEL AGENCY IN THE PHILIPPINES  \\n(6) List of tour participants  \\n(7) Itinerary (including flight, hotel and transportation information and addresses that tour participants are \\nindividually visiting during the  tour and their contact numbers in Japan) \\n   (8) A copy of the advertisement(s) for the tour (website, leaflet, etc.)  \\n(9) Round-trip airplane ticket reservation slips (air tickets need not to be issued at the time of visa \\napplication) \\n(10) (For a tour accompanied by a tour conductor ) Tour conductor’s certificate of employment  \\n - If the tour conductor is not full -time employee of the registered travel agency , submit a copy of \\nthe tour conductor’s employment contract  \\n       \\n \\nREQUIREMENTS OF CONTRACT JAPANESE TRAVEL AGENCY \\n(11) Itinerary in Japanese  \\n(12) Copies of hotel reservation slips  \\n(13) Copies of domestic transportation service reservation slips (for domestic flights, Shinkansen and express \\ntrains, buses, etc.) if applicable  \\n         \\n '),\n",
       " Document(metadata={'source': 'pdfs/VISITING RELATIVES.pdf', 'page': 0}, page_content='VISITING RELATIVES  \\nMAY 2023 \\nA. PURPOSE \\nVisit relatives residing in Japan within the third degree. \\n(If you visit relatives beyond the third degree, refer the requirements for “VISITNG FRIENDS  AND \\nDISTANT RELATIVES”.) \\nB. Requirements（Details→https://www.ph.emb-japan.go.jp/itpr_ja/11_000001_00898.html ） \\n  ※ Downloadable from this website   \\n APPLICANT’S REQUIREMENTS  \\n(1) Passport（Holder’s signature required ） \\n(2) Application Form ※（A facial Photo (4.5×3.5cm) must be attached. ） \\n☞ Submit All the relatives’ Birth Certificate/Marriage Certificate enough to prove the third degree \\nrelationship between Applicant and Inviter.  \\n   (3) Birth Certificate (issued by PSA within 1 year)  \\n   【ADDITIONAL REQUIREMENTS 】 \\n    - If (3) is unreadable, submit a Birth certificate  issued by Local Civil Registrar. \\n    - If (3) is “LATE REGISTRATION”, submit Baptismal Certificate and School Record ( DepEd:Form 137). \\n    - If there is no r ecord of birth in PSA, submit Birth Certificate issued by Local Civil Registrar and \\nNegative Certificate issued by PSA.  \\n   (4) Marriage Certificate (issued by PSA within 1 year. For the married only.)  \\n    【ADDITIONAL REQUIREMENTS 】 \\n    - If (4) is unreadable, submit Marriage certificate issued by Local Civil Registrar.  \\n- If there is no reco rd of marriage in PSA, submit Marriage Certificate issued by Local Civil Registrar \\nand Negative Certificate issued by PSA. \\n【In case that applicant will shoulder part/all of travel expense 】  \\n(5) Bank Certificate   \\n(6) Photocopy of Income Tax Return ( BIR Form) \\n  INVEITER’S REQUIREMENTS  \\n     (7) Invitation Letter ※ \\n     (8) Itinerary in Japan ※ \\n     (9) Residence Certificate (Jumin -hyo) of Inviter and Guarantor \\n☞ Jumin-hyo must describe all household members, without omission of description except Individual \\nNumber and Jumin-hyo Code.  \\n  【ADDITIONAL REQUIREMENTS 】 \\n    - If inviter or his/her spouse is Japanese,  submit his/her Koseki -tohon. \\n- If inviter/guarantor is not Japanese, submit his/her photocopy of Residence Card (both sides) . \\n  【In case that guarantor will shoulder part/all of travel expense 】 \\n    (10) Guarantee Letter ※ \\n(11) One/some of the Latest Following Documents \\n (To show guarantor’s precise capability to pay, submission of some of the following is allowed .) \\n- Income Certificate (Shotoku-shomeisho) \\n- Tax Certificate (Nozei-shomeisho. It must include description of the total amount of income)  \\n- Photocopy of Final Tax Return Form (Kakutei -shinkokusyo) \\n- Bank Certificate \\n \\n '),\n",
       " Document(metadata={'source': 'pdfs/VISITING US MIILITALY PERSONNEL.pdf', 'page': 0}, page_content='VISITING US MIILITALY PERSONNEL \\nMAY 2023 \\nA. PURPOSE \\nVisit a US military personnel stationed in Japan or his/her dependent . \\n \\nB. Requirements（Details→https://www.ph.emb-japan.go.jp/itpr_ja/11_000001_00898.html ） \\n \\n  ※ Downloadable from this website   \\n APPLICANT’S R EQUIREMENTS \\n \\n(1) Passport（Holder’s signature required ） \\n(2) Application Form ※（A facial Photo (4.5×3.5cm) must be attached. ） \\n   (3) Birth Certificate (issued by PSA within 1 year)  \\n   【ADDITIONAL REQUIREMENTS 】 \\n    - If (3) is unreadable, submit Birth certificate issued by Local Civil Registrar.  \\n    - If (3) is “LATE REGISTRATION”, submit Baptismal Certificate and School Record ( DepEd:Form 137). \\n    - If there is no r ecord of birth in PSA, submit Birth Certificate issued by Local Civil Registrar and \\nNegative Certificate issued by PSA.  \\n   (4) Marriage Certificate (issued by PSA within 1 year. For the married only.)  \\n    【ADDITIONAL REQUIREMENTS 】 \\n    - If the certificate is unreadable, submit Marriage certificate issued by Local Civil Registrar.  \\n- If there is no reco rd of marriage in PSA, submit Marriage Certificate issued by Local Civil Registrar \\nand Negative Certificate issued by PSA. \\n【In case that applicant will shoulder part/all of travel expense 】  \\n(5) Bank Certificate   \\n(6) Photocopy of Income Tax Return ( BIR Form) \\n \\n   \\nINVEITER’S REQUIREMENTS  \\n \\n     (7) Invitation Letter ※ \\n     (8) Itinerary in Japan ※ \\n     (9) Statement of Service (including E -mail address of attestant, if possible)  \\n    (10) Photocopy of Inviter’s passport (Pages of ID and stamps in Japan) \\n(11) Proof of Relationship \\n    - If you are relatives, submit Birth Certificate or Marriage Certificate (iss ued by PSA within 1 year).  \\n- If you are friends, submit photos, E -mails, receipt of remittance or parcel, etc.  \\n     \\n  【In case that US military personnel  will shoulder part/all of travel expense 】 \\n    (12) Guarantee Letter ※ \\n(13) US Individual Income Tax Return (IRS: Form 1040 and W-2) \\n \\n '),\n",
       " Document(metadata={'source': 'pdfs/TRANSIT.pdf', 'page': 0}, page_content='TRANSIT \\nMAY 2023  \\n \\nA. PURPOSE \\nStay in Japan temporarily only for transit of flight or vessel . \\n☞ If you have other purpose than transit such as tourism, business or visiting relatives, submit other \\nrequirements according to the  purpose. \\n \\nB. Requirements（Details→https://www.ph.emb-japan.go.jp/itpr_ja/11_000001_00898.html ） \\n   \\n※ Downloadable from this website   \\n     \\n(1) Passport（Holder’s signature and valid visa for  the final destination  required） \\n(2) Application Form  ※（A facial Photo ( 4.5×3.5cm) must be attached .） \\n \\n☞ If there is a used Japanese visa on your passport, the following (3) and (4) are unnecessary. \\n \\n   (3) Birth Certificate (issued by PSA within 1 year)  \\n   【ADDITIONAL REQUIREMENTS 】 \\n    - If (3) is unreadable, submit Birth certificate issued  by Local Civil Registrar. \\n    - If (3) is “LATE REGISTRATION”, submit Baptismal Certificate and School Record ( DepEd: Form 137). \\n    - If there is no r ecord of birth in PSA, submit Birth Certificate issued by Local Civil Registrar and \\nNegative Certificate issued by PSA.  \\n \\n   (4) Marriage Certificate ( issued by PSA within 1 year. For the married only.)  \\n    【ADDITIONAL REQUIREMENTS 】 \\n    - If (4) is unreadable, submit Marriage certificate issued by Local Civil Registrar.  \\n- If there is no reco rd of marriage in PSA, submit Marriage Certificate issued by Local Civil Registrar \\nand Negative Certificate issued by PSA. \\n \\n   (5) Itinerary in Japan ※ \\n (6) Bank Certificate \\n(7) Photocopy of Income Tax Return (BIR form) \\n(8) E-ticket or other document to prove the flight (or vessel) schedule \\n \\n '),\n",
       " Document(metadata={'source': 'pdfs/OFFICIAL.pdf', 'page': 0}, page_content='OFFICIAL     \\n OCT 2024     \\n    \\nA. PURPOSE    \\nVisit Japan on official purpose (including accompanying dependents).    \\n    \\nB. REQURIEMENTS（Details→https://www.ph.emb-japan.go.jp/itprtop_en/11_000001_00896.html）    \\n      \\n※ Downloadable from this website     \\n(1) Passport（Holder’s signature required）    \\n(2) Application Form ※（A facial Photo (4.5×3.5cm) must be attached.）    \\n(3) Note Verbale (or other official documents issued by foreign government/international organization) - It \\nmust include applicant’s identification, position, intended purpose and term to stay in Japan.    \\n【In case that you have Certificate of Eligibility issued by a Regional Immigration Services Bureau in Japan】  \\n(4) Photocopy of Certificate of Eligibility   \\n    \\n    '),\n",
       " Document(metadata={'source': 'pdfs/MULTIPLE-ENTRY VISA FOR TEMPORARY VISITOR FOR BUSINESS.pdf', 'page': 0}, page_content=' - continued on next page -  \\nMULTIPLE-ENTRY VISA FOR TEMPORARY VISITOR  \\n (FOR BUSINESS PURPOSE  AND CULTURAL OR INTELLECTUAL FIGURES )  \\n \\nOCTOBER 2022 \\nA. ELIGIBILITY FOR APPLICANT \\nPhilippine nationals who are  applicable to one of the following categories  in A1 or A2 and his/her \\nspouse or children \\n- Validity of this visa will be 1, 3, 5 or 10  years and period of stay will be 15, 30 or 90 days.  \\n- This visa is for business affairs , but from the second visit it’s possible to use for other purpose such as \\ntourism, visiting relatives etc.  \\n \\n1. BUSINESS PURPOSE \\n (Only regular employees belonging to (1) - (6) or with travel records of (7) or (8) ) \\n(1) A public (government) enterprise  \\n (2) A private company listed on the stock exchange (including Japan and third countries)  \\n      (3) A Japanese-affiliated company which is a me mber of the Japan Chamber of Commerce and has a \\nmanagement base in Japan  \\n      (4) A joint venture company, a subsidiary company or a bran ch office of a company listed on the stock \\nexchange (including Japan and the third countries)  \\n      (5) A private company with constant business transactions w ith a Japanese company listed on the stock \\nexchange \\n      (6) A private company included in Top 1,000 corporations of the Philippines in gross revenue. \\n (7) With a travel record to Japan for business purpose and travel records to G7 countries (except Japan) in \\nthe last three years. \\n      (8) With more than three travel records to Japan for business purpose in the last three years . \\n \\n2.CULTURAL or INTELLECTUAL FIGURES,  etc. \\n(1) An artist (Fine Ar t, Literary Art, Music, Stage Play, Dance etc.) , a specialist in humanities (Literature, \\nLaw, Economics etc.), or a scientist (Technology, Medicine etc.) who has relevant accomplishments  \\n(2) A lawyer, certified public accountant, patent attorney, judicial  scrivener, notary, medical doctor who \\nhas a national or international qualification and actually working as the same position.  \\n(3) An amateur sports player who has relevant accomplishments  \\n(4) A full-time professor, assistant professor, or lecturer of a university or a college  \\n(5) A director or higher post of a national or public research institution or a museum  \\n(6) A Senator, Congressman, Governor /Vice-Governor of a Province, City Mayor, Bishop of the Roman \\nCatholic Church, government official, local asse mblyman, local government official  \\n \\nB. REQUIREMENTS（Details→https://www.ph.emb-japan.go.jp/itpr_ja/11_000001_00898.html ） \\n※ Downloadable from this website  \\n(1) Passport（Holder’s signature required ）                            \\n(2) Application Form ※（A facial Photo (4.5×3.5cm) must be attached. ） \\n(3) Request for Multiple-Entry Visa ※ \\n(4) Employment Certificate  (including salary, tenure and position)  \\n- If applicant is self -employed, submit a Certificate of Business Registration.  \\n(5) Documents to prove qualification for one of the categories in A1 or  A2. \\n '),\n",
       " Document(metadata={'source': 'pdfs/MULTIPLE-ENTRY VISA FOR TEMPORARY VISITOR FOR BUSINESS.pdf', 'page': 1}, page_content='  \\n \\n \\n【SPECIFIC REQUIREMENTS】 \\n- A1 (Business Purpose) → Document to explain the necessity of multiple  visa (e.g. Letter of mission or  \\n travel requisition by employer, etc.) \\n- A1 (7) or (8) → Current or old passport with used visa and entry stamps of Japan or G7 countri es.  \\n- A2 (2) → Photocopy of ID card issued by Profession Regulation Commission  \\n- “Lawyer” of A2 (2) → Photocopy of membership card issued by Integrated Bar of the Philippines  \\n- Spouse/Child of A1 or A2  → Marriage Certificate/Birth Certificate issued by PS A \\n- Spouse/Child of A1 or A2 (If applying separately from the above-mentioned in A1 and A2) \\n→ Photocopy of his/her passport (Pages of ID and Japanese multiple -entry visa) \\n \\n '),\n",
       " Document(metadata={'source': 'pdfs/STUDENT, WORKER AND DEPENDENT.pdf', 'page': 0}, page_content='STUDENT, WORKER AND DEPENDENT  \\n MARCH 2023   \\n \\nA. PURPOSE \\nStudy, work (including “Technical Trainee Intern” and “Entertainer”) or live with a spouse or parent(s) \\n(Your Inviter needs to apply Japan Immigration for a Certificate of Eligibility  (COE) in advance.) \\n \\n☞ As of Diplomat, Official , Medical Stay and House keeper hired by Dipl omat/Official, please check its own \\nrequirements on this website. \\n \\nB. REQUIREMENTS（Details→https://www.ph.emb-japan.go.jp/itpr_ja/11_000001_00898.html ） \\n   \\n※ Downloadable from this website   \\n    (1) Passport（Holder’s signature required） \\n(2) Application Form ※（A facial Photo (4.5×3.5cm) must be attached.） \\n(3) Certificate of Eligibility ( photocopy, no need original ) \\n* If you receive d a Certificate of eligi bility by email from Japan Immigration, submit a \\nphotocopy of the email.  \\n \\n \\n   【For COE Holders of SPOUSE/CHILD OF JAPANESE, SPOUSE/CHLILD OF PERMANETN RESIDENT ,  \\nLONG TERM RESIDENT and DEPENDENT】 \\n \\n   (4) Birth Certificate (issued by PSA within 1 year)  \\n   【ADDITIONAL REQUIREMENTS 】 \\n    - If the certificate is unreadable, submit Birth certificate issued by Local Civil Registrar.  \\n    - If the birth certificate i s “LATE REGISTRATION”, submit Baptismal Certificate and School Record \\n(DepEd: Form 137). \\n    - If there is no r ecord of birth in PSA, submit Birth Certificate issu ed by Local Civil Registrar and \\nNegative Certificate issued by PSA.  \\n \\n   (5) Marriage Certificate (issued by PSA within 1 year. For the married only.)  \\n    【ADDITIONAL REQUIREMENTS 】 \\n    - If the certificate is unreadable, submit Marriage certificate issued b y Local Civil Registrar. \\n- If there is no reco rd of marriage in PSA, submit Marriage Certificate issued by Local Civil Registrar \\nand Negative Certificate issued by PSA.  \\n \\n '),\n",
       " Document(metadata={'source': 'pdfs/HOUSEKEEPER OF DIPLOMAT.pdf', 'page': 0}, page_content='HOUSEKEEPER OF DIPLOMAT/OFFICIAL  \\n NOVEMBER 2022  \\n \\nA. PURPOSE \\nWork in Japan as private housekeeper  of persons holding diplomatic or official status in Japan . \\n \\nB. REQUIREMENTS（Details→https://www.ph.emb-japan.go.jp/itpr_ja/11_000001_00898.html ） \\n   \\n※ Downloadable from this website   \\n APPLICANT’S REQUIREMENTS  \\n (1) Passport（Holder’s signature required） \\n(2) Application Form  ※（A facial Photo ( 4.5×3.5cm) must be attached. ） \\n(3) Photocopy of employment contract  \\n \\n  \\nEMPLOYER’S REQUIREMENTS \\n   (4) Invitation Letter ※ \\n(5) Letter of Guarantee ※ \\n(6) Photocopy of ID card issued by the Ministry of Foreign Affairs in Japan  \\n【In case that you have Certificate of Eligibility issued by a Regional Immigration Services Bureau in Japan 】 \\n(7) Certificate of Eligibility (Original and p hotocopy) \\n \\n '),\n",
       " Document(metadata={'source': 'pdfs/MULTIPLE-ENTRY TEMPORARY VISITOR VISA (PHILIPPINE NATIONALS WITH.pdf', 'page': 0}, page_content='  \\nMULTIPLE-ENTRY TEMPORARY VISITOR VISA (PHILIPPINE NATIONALS  WITH \\nCONSIDERABLE FINANCIAL CAPACITY)  \\nMay 2024  \\n  \\nA. PURPOSE  \\nApplicants with considerably high income who intend to visit Japan several times as temporary visitor \\nfor tourism, business or visiting relatives, etc.   \\n☞ The period of each stay in Japan must be within 90 days. \\n  ※ Downloadable from this website   \\n   COMMON REQUIREMENTS  \\n(1) Passport（Holder’s signature required）  \\n(2) Application Form ※（A facial Photo (4.5×3.5cm) must be attached.）  \\n(3) Request for Multiple-Entry Visa ※  \\n* In case [ those with sufficient financial capacity] is checked, the embassy examine and determine whether the \\napplicant falls under [Multiple-Entry Visa for Temporary Visitor] or [Multiple-Entry Visa Temporary Visitor Visa \\nfor Philippine Nationals with Considerable Financial Capacity].  \\n(4) PSA issued Birth Certificate and Marriage Certificate (for married applicants), issued within 1 year \\n☞ Unnecessary if there is used Japan Visa on passport.  \\n【ADDITIONAL REQUIREMENTS】  \\n- If (4) is unreadable, submit Birth/Marriage certificate issued by Local Civil Registrar.  \\n- If Birth Certificate is “LATE REGISTRATION”, submit Baptismal Certificate and School Record (Form 137).  \\n-If there is no record of Birth/Marriage in PSA, submit Birth Certificate issued by Local Civil Registrar and Negative  \\nCertificate issued by PSA.  \\n(5) Itinerary in Japan ※  \\n \\nCONDITIONS AND SPECIFIC REQUIREMENTS  \\nI. Applicant with considerably high income  \\n(1) Applicant’s Bank Certificate (Balance within the last six months must be shown) \\n* If the Average Daily Balance (ADB) in the last six months is not indicated, bank statement \\nmust be submitted to prove transactions within the last six months.  \\n(2) Applicant’s Tax Payment Certificate issued by Bureau of Internal Revenue (copy acceptable)  \\n* Form 2316, must have signature of the Employer and Employee \\n*For business owners, proof of actual payment of tax must be submitted in addition to the \\nBIR Tax Payment Certificate Form (copy acceptable)  \\n(3) Applicant’s Employment Certificate (must indicate period of employment, salary  and  \\nposition) \\n* For business owners, Department of Trade and Industry “Certificate of Business Name \\nRegistration” and Mayor’s Permit from the City Hall must be submitted. \\n* If for any reason other than being a retiree, full-time housewife or unemployed, applicant \\nis unable to submit (2) and (3) above, a letter of explanation about the reason must be '),\n",
       " Document(metadata={'source': 'pdfs/MULTIPLE-ENTRY TEMPORARY VISITOR VISA (PHILIPPINE NATIONALS WITH.pdf', 'page': 1}, page_content='B. Requirements（Details→https://www.ph.emb-japan.go.jp/itpr_ja/11_000001_00898.html）  \\nsubmitted. For students, a copy of School ID or Certificate of Enrollment in School must be \\nsubmitted.  \\n  \\nII. Spouse or Child of (I) \\n(1) Proof of relationship with (I) above (PSA issued Birth Certificate and Marriage Certificate, if \\napplicable)  \\n(2) Passport and multiple entry visa copy or documents of (I) above.  '),\n",
       " Document(metadata={'source': 'pdfs/ATTIC TOURS SM FAIRVIEW (1).pdf', 'page': 0}, page_content='ATTIC TOURS SM FAIRVIEW \\nAttic Tours SM Fairview is currently located on the Upper Ground Level Park way Building within SM City \\nFairview. The office will be open when the mall hours are available from 10am – 9pm except holidays when \\nthe SM Fairview is close. The Attic Tours SM Fairview does not have specific slots need to be filled within the \\nday but have a cut off until 1pm. \\nWhen entering the Attic Tours SM Fairview the first thing that you need to do is get your queuing number and \\nwait for your number to be called and  if ever you r number is a lready called and you’re not in the area  your \\nnumber might get skip and you need to get a new queuing number.  \\nAt least one of the applicants will be applying for Japan Visa, no authorization is allowed when applying for \\nvisa, it is also applicable when getting your passport . All the docu ments should be provided  the same day \\nyou’re applying because Attic Tours does not accept  pending document s and if you can ’t provide  the \\ndocuments that are needed you need to provide an explanation letter.  \\nEvery Attic Tours have a Japanese that can read your do cuments to have an accurate translation in you r \\napplication. Japanese in the Attic Tours doe s not translate documents that are not included in th e \\ndocuments for applying for Japanese Visa. \\nThe processing of your visa application might take 1-2 weeks but not guaranteed since some application s \\nmay took 2-3 days or longer than 2 week s. Processing fee is 1680 per person then if you want to apply for \\nmultiple you need to add 500 pe sos, so it will be 2180 per persons. If your application is a lready on the \\nprocess you can wait for our call or text if ever you need send some additional documents or you can already \\npick up your passport. If you want to know an update in your appl ication you can contact us in this number \\n0916 618 6165 or Facebook Page ATTIC TOURS SM FAIRVIEW. \\nIf your application got denied you can re-apply for the same category after 6 months, however if you apply \\nfor different categories you can try to apply again but still it’s not guaranteed because this is still be decided \\nby the embassy. \\nEmbassy does not give specific reason for your denial. \\nEmbassy does not giv e specific amount on you r bank accou nt but you should have  bank certificate wi th  \\nADB (Average Daily Balance) for 6 months, if yo u can’t present a bank certificate with ADB (Average Daily \\nBalance)  6 months you sho uld attach a bank statement with ADB  (Average Daily Ba lance) 6 months , \\nhowever if your bank certificate does have ADB /YTD (Average Daily Balance / Year  to Date)  it will be \\nacceptable. Your bank certificate should be we t signed, if your bank certificate is e -signed i t should have \\nexplanation letter or have a word that it is a e-signature  \\nYou need to have a original PSA issued within 1 year if you are a first timer, however if you have a previous \\nit is not applicable. If your guarantor does not have a previous in Japan you both need a new PSA, if you’re \\nfirst timer in Japan and your guarantor h ave previous you still both need a new PSA . If you and your \\nguarantor does have previous in the Japan you need to provide  a copy even though it is no t issued within \\nyear. '),\n",
       " Document(metadata={'source': 'pdfs/ATTIC TOURS SM FAIRVIEW (1).pdf', 'page': 1}, page_content=' \\nGuarantor should provide their bank certificate, COE (Certificate of Employment) and ITR (Income Tax Return) \\n2316 if employed, if under business property either 1701 or 1702. \\nAvailing ticket before applying for visa is not applicable because it is not guaranteed if you will be approved \\nor denied, wait for your visa before applying.  \\nWhen applying for multiple you need to have your own financial documents with or without guarantor. You \\nalso need to provide the multiple request form and check all the applicable to your application. \\nThe documents is still available in Japan within 3 months of the issuance and it shoul d be A4 size. Other \\ndocuments like bank certificate, certificate of employment and itr can be used even though it is no t A4 \\nsize. \\nAppearance is not applicable in the Japan Embassy but you need to have an appearance when you apply to \\nthe Attic Tours because at least one of the applicants should be applying for the Japan Visa. \\nThe validity of Single Entry visa is 3 months, for Multiple Entry is either 5 years or 10 years . It is still be the \\ndiscretion of the embassy. Your multiple entry may not be granted and can be Single Entry. \\nPassport is a very important document that need to provide. You need to sign your passport when applying \\nfor visa. If your old passport that have Japan Visa is lost you need to still acknowledge it but it w ill be a lost \\npassport in your application. \\nAll the payments that have been done is not refundable even if you are not granted a Multiple Entry. \\nResults cannot be done over the phone , the results will only be know n when the applicants pick up their \\npassports. \\nIf you want to apply for long term in Japan the person you know may help you process a Certificate of Eligibility \\nin the Japan. \\nAll Japanese documents can be a original or scanned copy but make sure that the details are readable. It can \\nbe black and white or colored. \\nIf you have a boyfriend/girlfriend/fiancé you can apply for Japan Visa under Visiting Friends/Fiance. They can \\nalso be your guarantor when you go to Japan.  \\nYou might check the nearest Attic Tours Branch : \\nMain Office where in Roxas Boulevard next to Japan Embassy \\nContact us : 0917 631 0845 \\nSM Mall of Asia Branch - Unit 126 Level 1, South parking building, Marina Way, Mall of Asia Complex, Pasay, \\nMetro Manila '),\n",
       " Document(metadata={'source': 'pdfs/ATTIC TOURS SM FAIRVIEW (1).pdf', 'page': 2}, page_content='Contact us : 0917 631 0848 \\nSM Megamall Branch - 5th Floor, Bldg. B, SM Megamall, Doña Julia Vargas Ave. cor. EDSA Wack-Wack Village, \\nMandaluyong City 1555. \\nContact us : 0906 516 3246 \\nSM North Edsa Branch -  Ground Floor, The Block, SM City North EDSA, Quezon City \\nContact us : 0917 898 0905 \\nSM Southmall Branch -  343, 3/F , SM Southmall, Almanza Uno, Las Piñas City \\nContact us : 0917 186 6853 \\nSM Fairview Branch - Upper Ground Level Parkway Building within SM City Fairview \\nContact us : 0916 618 6165 \\nSM Clark Branch - Annex 3 Upper Ground Floor, Parkway Building, SM City Fairview, Novaliches, Quezon City, \\nMetro Manila \\nContact us : 0917 305 4292 \\nSM Cebu Branch - Lower Ground Floor, SM City Cebu, Cebu City, 6000 Cebu \\nContact us : 0956 551 9834 \\nSM Davao Branch - 109 G/F Court View Inn Bldg Quimpo Blvd, Cor Guillermo E. Torres St, Davao City, Davao \\ndel Sur \\nContact us : 0917 321 1328 '),\n",
       " Document(metadata={'source': 'pdfs/TOURISM.pdf', 'page': 0}, page_content='TOURISM   \\nMay 2024  \\n  \\nA. PURPOSE  \\nVisit Japan for tourism.  \\n  \\nB. Requirements（Details→https://www.ph.emb-japan.go.jp/itpr_ja/11_000001_00898.html）  \\n    \\n※ Downloadable from this website   \\n      \\n(1) Passport（Holder’s signature required）  \\n(2) Application Form ※（A facial Photo (4.5×3.5cm) must be attached.）  \\n(3) PSA issued Birth Certificate and Marriage Certificate (for married applicants), issued within 1 year \\n☞ Unnecessary if there is used Japan Visa on passport. \\n【ADDITIONAL REQUIREMENTS】  \\n- If (3) is unreadable, submit Birth/Marriage certificate issued by Local Civil Registrar.  \\n- If Birth Certificate is “LATE REGISTRATION”, submit Baptismal Certificate and School Record (Form 137).  \\n-If there is no record of Birth/Marriage in PSA, submit Birth Certificate issued by Local Civil Registrar and Negative  \\nCertificate issued by PSA.  \\n(4) Itinerary in Japan  \\n \\n【In case that applicant will shoulder part/all of travel expense】   \\n \\n(5) Applicant’s Bank Certificate (balance within the last six months must be shown)  \\n* If the Average Daily Balance (ADB) in the last six months is not indicated, bank statement must be \\nsubmitted to prove transactions within the last six months. \\n(6) Applicant’s Tax Payment Certificate  \\n* Form 2316, must have signature of the Employer and Employee \\n* For business owners, proof of actual payment of tax must be submitted in addition to the BIR Tax \\nPayment Certificate Form (copy acceptable) \\n(7) Applicant’s Employment Certificate (must indicate period of employment, salary and position) \\n* For business owners, Department of Trade and Industry (DTI) “Certificate of Business Name \\nRegistration” and Mayor’s Permit from the City Hall must be submitted.  \\n* If for any reason other than being a retiree, full-time housewife or unemployed, applicant is unable to \\nsubmit (6) and (7) above, a letter of explanation about the reason must be submitted. For students, a \\ncopy of School ID or Certificate of Enrollment in School must be submitted. \\n  \\n【In case that guarantor in the Philippines will shoulder part/all of travel expense】  \\n(8) Guarantee Letter ※  \\n(9) Proof of relationship between applicant and guarantor(e.g. Birth Certificates or Photos)  \\n(10) Bank Certificate [see (5) above] \\n(11) Photocopy of Tax Payment Certificate [see (6) above]  \\n(12) Employment Certificate [see (7) above] \\n  \\n  '),\n",
       " Document(metadata={'source': 'pdfs/BUSINESS.pdf', 'page': 0}, page_content='BUSINESS, CONFERENCE or CULTURAL EXCHANGE, etc.  \\nMAY 2023 \\n \\nA. PURPOSE \\n1. Visit Japan for business meeting, advertising, after -sales service, market research, training, etc. \\n(If a practical training is planned, “Certificate of Eligibility”  is required regardless of the length of stay.) \\n  \\n    2. Attend international conference, seminar or cultural exchange program, etc.  \\n  \\nB. Requirements（Details→https://www.ph.emb-japan.go.jp/itpr_ja/11_000001_00898.html ） \\n   \\n※ Downloadable from this website   \\n  APPLICANT’S REQUIREMENTS   \\n \\n(1) Passport（Holder’s signature required ） \\n(2) Application Form  ※（A facial Photo ( 4.5×3.5cm) must be attached. ） \\n(3) Employment Certificate/Certificate of Membership  \\n - If applicant is self -employed, submit a Certificate of Business Registration . \\n     (4) Travel Order/Dispatch Letter \\n \\n【In case that applicant will shoulder part/all of travel expense 】  \\n(5) Bank Certificate  \\n(6) Photocopy of Income Tax Return ( BIR Form) \\n \\n   INVEITER’S REQUIREMENTS  \\n \\n     (7) Invitation Letter ※ \\n     (8) Itinerary in Japan ※ \\n     (9) Tokibo-Tohon, Company Brochure, Pamphlet or Details of Company/Organization  ※ \\n- If inviter  is a listed company  on a stock exchange, a photocopy of the latest Quarterl y Report \\n(Shiki-Ho) can be alternative . \\n- If inviter is a person (not company or organization), submit his/her Employment Certificate or \\nBusiness License. \\n    (10) Proof of Activities in Japan  \\n       - Business trip → photocopy or contract, material of transaction or meeting , etc. \\n       - Attend conference/seminar → pamphlet or material of conference/seminar. \\n       - Training → Acceptance Letter of Trainee and Training Schedule \\n        (Training Schedule must include the notes of the necessity of training in Japan, content, method, \\nplace, period, daily schedule, person in -charge and language to be used.  \\n  \\n  【In case that guarantor will shoulder part/all of travel expense 】 \\n    (11) Guarantee Letter ※ \\n \\n '),\n",
       " Document(metadata={'source': 'pdfs/SPOUSE OR CHLID OF JAPANESE NATIONAL RESIDING IN THE PHILIPPINES.pdf', 'page': 0}, page_content='SPOUSE OR CHLID OF JAPANESE NATIONAL RESIDING IN THE PHILIPPINES  \\nMAY 2023 \\n \\nA. PURPOSE \\nSpouse/child of Japanese national residing in the Philippines visit s Japan temporarily.  \\n☞ To apply for this visa, the Japanese spouse/ parent needs to stay in the Philippin es with long term visa \\nvalid for 6 months or over. If he/she stays in the Philippines as temporary visitor, this visa is not \\navailable. \\n \\nB. Requirements（Details→https://www.ph.emb-japan.go.jp/itpr_ja/11_000001_00898.html ） \\n   \\n※ Downloadable from this website   \\n     \\n(1) Passport（Holder’s signature required ） \\n(2) Application Form  ※（A facial Photo ( 4.5×3.5cm) must be attached. ） \\n   (3) Birth Certificate (issued by PSA within 1 year)  \\n   【ADDITIONAL REQUIREMENTS 】 \\n    - If (3) is unreadable, submit Birth certificate iss ued by Local Civil Registrar. \\n    - If (3) is “LATE REGISTRATION”, submit Baptismal Certificate and School Record ( DepEd: Form 137). \\n    - If there is no r ecord of birth in PSA, submit Birth Certificate issued by Local Civil Registrar and \\nNegative Certificate issued by PSA. \\n \\n   (4) Marriage Certificate ( issued by PSA within 1 year. For the married only.)  \\n    【ADDITIONAL REQUIREMENTS 】 \\n    - If (4) is unreadable, submit Marriage certificate issued by Local Civil Registrar.  \\n- If there is no reco rd of marriage in PSA, submit Marriage Certificate issued by Local Civil Registrar \\nand Negative Certificate issued by PS A. \\n \\n【Documents of Japanese Spouse/Parent 】  \\n(5) Photocopy of Arian Certificate of Registration Card  \\n(6) Photocopy of Japanese Passport ( Identification  page and valid visa of the Philippi nes) \\n  \\n【Documents of Householder 】 \\n(7) Employment Certificate (If impossible, submit explanation for it.)  \\n(8) Photocopy of Income Tax Return ( BIR form) or Bank Certificate  \\n \\n【In case you wish a multiple -entry visa】 \\n☞ Even if you have a multipl e-entry visa, y ou cannot stay in Japan over a half of year in total  with a \\nstatus of “Temporary Visitor” (You need to obtai n a status for a long-term stay). \\n. \\n(9) Request for multiple -entry temporary visitor visa ※ \\n(10) Koseki-tohon \\n \\n '),\n",
       " Document(metadata={'source': 'pdfs/VISITING FRIENDS OR DISTANT RELATIVES.pdf', 'page': 0}, page_content='VISITING FRIENDS OR DISTANT RELATIVES  \\nMAY 2023 \\nA. PURPOSE \\nVisit friends or distant relatives beyond the third degree of relationship. \\nB. Requirements（Details→https://www.ph.emb-japan.go.jp/itpr_ja/11_000001_00898.html ） \\nAPPLICANT’S REQUIREMENTS                                   ※ Downloadable from this website  \\n(1) Passport（Holder’s signature required ） \\n(2) Application Form ※（A facial Photo (4.5×3.5cm) must be attached. ） \\n☞ If there is a used Japanese visa on your passport, the following (3) and (4) are unnecessa ry. \\n   (3) Birth Certificate (issued by PSA within 1 year)  \\n   【ADDITIONAL REQUIREMENTS 】 \\n    - If (3) is unreadable, submit a Birth certificate issued by Local Civil Registrar.  \\n    - If (3) is “LATE REGISTRATION”, submit Baptismal Certificate and School Record ( DepEd:Form 137). \\n    - If there is no r ecord of birth in PSA, submit Birth Certificate issued by Local Civil Registrar and \\nNegative Certificate issued by PSA.  \\n   (4) Marriage Certificate (issued by PSA within 1 year. For the married only.) \\n    【ADDITIONAL REQUIREMENTS 】 \\n    - If (4) is unreadable, submit Marriage certificate issued by Local Civil Registrar.  \\n- If there is no reco rd of marriage in PSA, submit Marriage Certificate issued by Local Civil Registrar \\nand Negative Certificate issued by PSA. \\n【In case that applicant will shoulder part/all of travel expense 】  \\n(5) Bank Certificate   \\n(6) Photocopy of Income Tax Return ( BIR Form) \\n  INVEITER’S REQUIREMENTS  \\n     (7) Invitation Letter (Describe relationship between Applicant and I nviter in detail) ※ \\n     (8) Itinerary in Japan ※ \\n     (9) Residence Certificate (Jumin -hyo) of Inviter and Guarantor \\n☞ Jumin-hyo must describe all household members, without omission of description except Individual \\nNumber and Jumin-hyo Code.  \\n  【ADDITIONAL REQUIREMENTS】 \\n    - If inviter/guarantor is not Japanese, submit his/her photocopy of Residence Card (both sides) . \\n  (10)Proof of Relationship  \\n    - If you are friends, submit photos, E -mails, receipt of remittance or parcel, photocopy of passport \\nincluding stamps of friend’s country, etc. \\n    - If you are relatives beyond the third degree, submit Birth Certificate, Marriage Certificate or \\nKoseki-tohon.  \\n  【In case that guarantor will shoulder part/all of travel expense 】 \\n    (10) Guarantee Letter ※ \\n(11) One/some of the Latest Following Documents \\n (To show guarantor’s precise capability to pay, submission of  some of the following is allowed .) \\n- Income Certificate (Shotoku-shomeisho) \\n- Tax Certificate (Nozei-shomeisho. It must include description of the tot al amount of income .) \\n- Photocopy of Final Tax Return Form (Kakutei -shinkokusyo) \\n- Bank Certificate \\n '),\n",
       " Document(metadata={'source': 'pdfs/NIKKEI-JIN (JAPANESE DESCENDANT).pdf', 'page': 0}, page_content='NIKKEI-JIN (JAPANESE DESCENDANT)  \\n NOVEMBER 2022  \\n \\nA. ELIGIBILITY FOR APPLICATION  \\n(1) Children of Japanese Nationals who migrated to the Philippines before or during the World War II \\n(refered to as the 2 nd Generation). To be recognized as the 2nd Generation, they are required to have \\nbeen in the Philippines at the end of the War. \\n(2) Descendants of the 2nd Generation  \\n(3) Spouse of the 2nd Generation and their descendants  \\n \\nB. REQUIREMENTS（Details→https://www.ph.emb-japan.go.jp/itpr_ja/11_000001_00898.html ） \\n   \\n※ Downloadable from this website   \\nI.  APPLICATION WITH CERTIFICATE OF ELIGIBILITY  (COE) \\n(1) Passport（Holder’s signature required） \\n      - If you apply the Consulate General in Cebu or Davao, submit a photocopy of passport together.  \\n(2) Application Form ※（A facial Photo (4.5×3.5cm) must be attached. ） \\n(3) Koseki-tohon of the 1st and 2nd Generation  \\n(4) Birth Certificate (issued by PSA within 1 year)  \\n   【ADDITIONAL REQUIREMENTS 】 \\n    - If the certifica te is unreadable, submit Birth Certificate issued by Local Civil Regist rar. \\n    - If the Birth Certificate is “LATE REGISTRATION”, submit Baptismal Certificate and School Record (DepEd: \\nForm 137). \\n    - If there is no record of birth in PSA, submit Birth Certificate issued by Local Civil Registrar and Negative \\nCertificate iss ued by PSA.  \\n(5) Marriage Certificate (issued by PSA with in 1 year, for the married only) \\n   【ADDITIONAL REQUIREMENTS 】 \\n    - If the certificate is unreadable, submit Marriage Certificate issued by Local Civil Registrar.  \\n- If there is no record of marriage in PSA, submit Marriage Certificate issued by Local Civil Registrar and \\nNegative Certificate issued by PSA.  \\n(6) Family Tree ※ \\n- It must include all the descendants from the 1 st Generation to the present  and the deceased.  \\n(7) Family Photo (old and new)  \\n- Taken with parents, siblings and other relatives. Digital modification is forbidd en.  \\n(8) Wedding Photo (for the married only) \\n(9) Certificate of Eligibility (Original and photocopy)  \\n \\nII.  APPLICATION WITHOUT COE (The followings are required in addition to “I”) \\n(1) Photocopy of passport \\n(2) Baptismal Certificate  \\n(3) School Record (DepEd: Form 137) \\n(4) Philippines National Police (PNP) Clearance \\n(5) National Bureau of Investigation (NBI) Clearance \\n【In case that applicant is planning to work for a living in Japan 】 \\n(6) Photocopy of employment contract with Japanese c ompany, etc. \\n '),\n",
       " Document(metadata={'source': 'pdfs/NIKKEI-JIN (JAPANESE DESCENDANT).pdf', 'page': 1}, page_content='【In case that applicant will be supported by relatives in Japan 】 \\n(7) Letter of Guarantee ※ \\n(8) Guarantor’s Residence Certif icate (Jumin-hyo)  \\n☞ Jumin-hyo must describe all household members  without omission of description . \\n However, Individual Number and Jumin -hyo Code must be omitted or blotted out.  \\n   【ADDITIONAL REQUIREMENTS 】 \\n    - If inviter or his/her spouse is Japanese, submit his/her Koseki -tohon. \\n- If inviter/guarantor is not Japanese, submit his/her photocopy of Residence Card (both sides) . \\n \\nIII.  APPLICATION WITH OUT COE AND NO DESCENDANT OF THE 2ND GENERATION HAS BEEN GRANTED \\nNIKKEI-JIN VISA (The followings are required in addition to “I” and “II”.) \\n \\n (1) Background history about the 1st and 2nd Generation in English and its Japanese translation  \\n   (2) Birth Certificate (Spouse of the 1st Generation, the 2nd Generation and his/her spouse)  \\n     - See I, (4) for additional documents     \\n(3) Marriage Certificate (the 1st and 2nd Generation) \\n  - See I, (5) for additional documents  \\n   (4) Death Certificate (if the 1 st or 2nd Generation deceased) \\n   【ADDITIONAL REQUIREMENTS 】 \\n    - If the certificate is unreadable, submit Death certificate issued by Local Civ il Registrar. \\n- If there is no reco rd of death  in PSA, submit Death Certificate issued by Local Civil Registrar and Negative \\nCertificate issued by PSA.  \\n   (5) Family Photo of the 1st and 2nd Generation and their descendants  \\n \\n【In case that the 2nd Generation is not registered in Koseki -tohon, submit following documents 】 \\n(6) Documents to indicate the 1st Generation’s migration to the Philippines  \\n  - The 1st Generation’s Wedding Photo, passport or Koseki-tohon, etc. \\n(7) Documents to incicate  the relationship b etween the descendant s of the 2nd Generation in the \\nPhilippines and their relatives in Japan \\n- Letters from relatives of the 1st Generation or his/her descendants in Japan \\n- Photos taken when the relatives in Japan visited the Philippines, etc.    \\n(8) Other documents to indicate the relationship between the 1 st and present Generation \\n \\n \\nC. Procedure of Application  \\n(1) Without COE , you need apply for visa through one of the accredited agencies or the registered Nikkei-Jin \\nagencies. Please put all the requiremen ts into a large envelope and submit it without seal.  \\n(2) With COE, you can apply for visa directly the Embassy of Japan in the Philippines,  the Consulate General \\nin Cebu or Davao (You can also apply for visa through one of the agencies abovementioned.)  \\n \\nD.  Important Notice  \\n  (1) Visa examination might take  a long time, so it is encouraged to apply for a visa well -ahead of the desired \\ndate of departure. \\n  (2) We cannot basically return the submitted documents. However, if you wish some of them to be returned  \\n(such as the 1st Generation’s photo or passport , etc.) , please submit the photocopy and list of them \\ntogether. \\n(3) If you cannot submit one of the above -mentioned requirement, please submit explanation letter for it.  '),\n",
       " Document(metadata={'source': 'pdfs/NIKKEI-JIN (JAPANESE DESCENDANT).pdf', 'page': 2}, page_content='(4) We might request  to submit additional docume nts for examinations . If you don’t submit them within 3 \\nmonths from the date of request , we will cease the examination and return your passport.  \\n(5) We might  have an interview with applicant or his/her relatives. In such a case, we wil l take a contact \\nwith appli cant directly or through accredited agencies/ registered Nikkei-Jin agencies to arrange  the date \\nand time of interview.    ')]"
      ]
     },
     "execution_count": 250,
     "metadata": {},
     "output_type": "execute_result"
    }
   ],
   "source": [
    "documents"
   ]
  },
  {
   "cell_type": "code",
   "execution_count": 251,
   "metadata": {},
   "outputs": [],
   "source": [
    "from langchain.text_splitter import RecursiveCharacterTextSplitter\n",
    "\n",
    "\n",
    "def splitDocuments(documents, chunk_size=100, chunk_overlap=20):\n",
    "    \"\"\"Documents further splitting\n",
    "\n",
    "    Args:\n",
    "        documents (Document): This Document is too large because it is per PDF pages.\n",
    "    \n",
    "    Return:\n",
    "        additional_documents: documents that are splitted more\n",
    "    \"\"\"\n",
    "    \n",
    "    splitter = RecursiveCharacterTextSplitter(\n",
    "        chunk_size=chunk_size,\n",
    "        chunk_overlap=chunk_overlap,\n",
    "        length_function=len,\n",
    "        is_separator_regex=False,\n",
    "    )\n",
    "    \n",
    "    additional_documents = []\n",
    "    for document in documents:\n",
    "        # Split the content of each document using the splitter\n",
    "        current_documents = splitter.create_documents([document.page_content])\n",
    "        # Add metadata to each new chunk (preserving original document metadata)\n",
    "        for chunk in current_documents:\n",
    "            chunk.metadata = document.metadata\n",
    "            \n",
    "        additional_documents.append(current_documents)\n",
    "    \n",
    "    return additional_documents"
   ]
  },
  {
   "cell_type": "code",
   "execution_count": 252,
   "metadata": {},
   "outputs": [],
   "source": [
    "additional_documents = splitDocuments(documents)"
   ]
  },
  {
   "cell_type": "markdown",
   "metadata": {},
   "source": [
    "combine"
   ]
  },
  {
   "cell_type": "code",
   "execution_count": 253,
   "metadata": {},
   "outputs": [],
   "source": [
    "documents = documents + additional_documents[0]"
   ]
  },
  {
   "cell_type": "code",
   "execution_count": 254,
   "metadata": {},
   "outputs": [
    {
     "data": {
      "text/plain": [
       "[Document(metadata={'source': 'pdfs/MULTIPLE-ENTRY VISA FOR TEMPORARY VISITOR.pdf', 'page': 0}, page_content='MULTIPLE-ENTRY VISA FOR TEMPORARY VISITOR  \\nMay 2024  \\n  \\nA. PURPOSE  \\nVisit Japan several times as temporary visitor for tourism, business or visiting relatives, etc.  \\n☞ Applicants need to satisfy one of the following conditions from I to IV.  \\n☞ The period of each stay in Japan must be within 30 days.  \\n  \\nB. Requirements（Details→https://www.ph.emb-japan.go.jp/itpr_ja/11_000001_00898.html）  \\n  ※ Downloadable from this website   \\n   COMMON REQUIREMENTS  \\n(1) Passport（Holder’s signature required）  \\n(2) Application Form ※（A facial Photo (4.5×3.5cm) must be attached.）  \\n(3) Request for Multiple-Entry Visa ※  \\n(4) PSA issued Birth Certificate and Marriage Certificate (for married applicants), issued within 1 year \\n☞ Unnecessary if there is used Japan Visa on passport.  \\n【ADDITIONAL REQUIREMENTS】  \\n- If (4) is unreadable, submit Birth/Marriage certificate issued by Local Civil Registrar.  \\n- If Birth Certificate is “LATE REGISTRATION”, submit Baptismal Certificate and School Record (Form 137).  \\n- If there is no record of Birth/Marriage in PSA, submit Birth Certificate issued by Local Civil Registrar and \\nNegative Certificate issued by PSA.  \\n(5) Itinerary in Japan ※  \\n(6) Applicant’s Bank Certificate (balance within the last six months must be shown)  \\n* If the Average Daily Balance (ADB) in the last six months is not indicated, bank statement must \\nbe submitted to prove transactions within the last six months. \\n(7) Applicant’s Tax Payment Certificate  \\n* Form 2316, must have signature of the Employer and Employee \\n* For business owners, proof of actual payment of tax must be submitted in addition to the BIR Tax \\nPayment Certificate Form (copy acceptable) \\n(8) Applicant’s Employment Certificate (must indicate period of employment, salary  and position) \\n* For business owners, Department of Trade and Industry (DTI) “Certificate of Business Name \\nRegistration” and Mayor’s Permit from the City Hall must be submitted.  \\n* If for any reason other than being a retiree, full-time housewife or unemployed, applicant is \\nunable to submit (7) and (8) above, a letter of explanation about the reason must be submitted. \\nFor students, a copy of School ID or Certificate of Enrollment in School must be submitted.  \\n \\n \\nCONDITIONS AND SPECIFIC REQUIREMENTS  \\nI. Applicant who travelled Japan as temporary visitor in the last 3 years and has financial capacity  \\n→ Used visa must be in the passport (old/expired passports with used Japan Visa may also be \\nsubmitted)  \\n*Used Japanese visa and landing permission as temporary visitor in the last 3 years    \\nII. Applicant who travelled Japan (as temporary visitor) and G7 countries (several times, except Japan)   \\n→Used visa must be in the passport (old/expired passports with used Visa may also be submitted) '),\n",
       " Document(metadata={'source': 'pdfs/MULTIPLE-ENTRY VISA FOR TEMPORARY VISITOR.pdf', 'page': 1}, page_content='*Used Japanese Visa and landing permission as temporary visitor in the last 3 years    \\n*Used visas and landing permissions of G7 countries (except Japan) in the last 3 years  \\n  \\nIII. Applicant with sufficient financial capacity  \\n* In case [ those with sufficient financial capacity] is checked, the embassy examine and determine whether \\nthe applicant falls under [Multiple-Entry Visa for Temporary Visitor] or [Multiple-Entry Visa Temporary \\nVisitor Visa for Philippine Nationals with Considerable Financial Capacity].  \\n \\nIV. Spouse/Child of “III” (Applicant with sufficient financial capacity)  \\n(1) Proof of relationship with (III) above (PSA issued Birth Certificate and Marriage Certificate, if \\napplicable)  \\n(2) Passport and multiple entry visa copy and documents (6) , (7)  and (8) of (III.) above. \\n \\n-   \\n  '),\n",
       " Document(metadata={'source': 'pdfs/PACKAGE_TOUR.pdf', 'page': 0}, page_content='PACKAGE TOUR ARRANGED BY REGISTERED TRAVEL AGENCIES  \\nOCTOBER 2022 \\nA. PURPOSE \\nJoin a package tour for sightseeing arranged by registered travel agency of the Embassy. \\n(For the Philippine nationals only . T he term of stay in Japan must be within 15 days. The lis t of \\nregistered travel agencies is on our website.)  \\nB. Requirements（Details→https://www.ph.emb-japan.go.jp/itpr_ja/11_000001_00898.html ） \\n  ※ Downloadable from this website   \\nAPPLICANT’S REQUIREMENTS  \\n(1) Passport（Holder’s signature required ） \\n(2) Application Form  ※（A facial Photo ( 4.5×3.5cm) must be attached. ） \\n   (3) (For a corporate incentive tour) Documents to show an outline of the sponsor corporation \\n       (e.g., a hard copy of the website , a photocopy of a certificate of business registration, etc.)   \\n☞ If there is a used Japanese visa on your passport, the following (4) and (5) are unnecessary. \\n   (4) Birth Certificate (issued by PSA within 1 year)  \\n    【ADDITIONAL REQUIREMENTS 】 \\n    - If the certificate is unreadable, submit a Birth certificate issued by Local Civil Registrar.  \\n    - If the birth certificate is “LATE REGIS TRATION”, submit a Baptismal Certificate and School Record \\n(Form 137). \\n    - If there is no record of birth in PSA, submit a Birth Certificate issued by Local Civil Registrar and \\nNegative Certificate issued by PSA.  \\n   (5) Marriage Certificate ( issued by PSA within 1 year. For the married only.) \\n    【ADDITIONAL REQUIREMENTS 】 \\n    - If the certificate is unreadable, submit a Marriage certificate issued by Local Civil Registrar.  \\n- If there is no record of marriage in PSA , submit a Marriage  Certificate issued by Local Civil Registrar \\nand Negative Certificate issued by PSA. \\n \\n \\n REQUIREMENTS OF REGISTERED TRAVEL AGENCY IN THE PHILIPPINES  \\n(6) List of tour participants  \\n(7) Itinerary (including flight, hotel and transportation information and addresses that tour participants are \\nindividually visiting during the  tour and their contact numbers in Japan) \\n   (8) A copy of the advertisement(s) for the tour (website, leaflet, etc.)  \\n(9) Round-trip airplane ticket reservation slips (air tickets need not to be issued at the time of visa \\napplication) \\n(10) (For a tour accompanied by a tour conductor ) Tour conductor’s certificate of employment  \\n - If the tour conductor is not full -time employee of the registered travel agency , submit a copy of \\nthe tour conductor’s employment contract  \\n       \\n \\nREQUIREMENTS OF CONTRACT JAPANESE TRAVEL AGENCY \\n(11) Itinerary in Japanese  \\n(12) Copies of hotel reservation slips  \\n(13) Copies of domestic transportation service reservation slips (for domestic flights, Shinkansen and express \\ntrains, buses, etc.) if applicable  \\n         \\n '),\n",
       " Document(metadata={'source': 'pdfs/VISITING RELATIVES.pdf', 'page': 0}, page_content='VISITING RELATIVES  \\nMAY 2023 \\nA. PURPOSE \\nVisit relatives residing in Japan within the third degree. \\n(If you visit relatives beyond the third degree, refer the requirements for “VISITNG FRIENDS  AND \\nDISTANT RELATIVES”.) \\nB. Requirements（Details→https://www.ph.emb-japan.go.jp/itpr_ja/11_000001_00898.html ） \\n  ※ Downloadable from this website   \\n APPLICANT’S REQUIREMENTS  \\n(1) Passport（Holder’s signature required ） \\n(2) Application Form ※（A facial Photo (4.5×3.5cm) must be attached. ） \\n☞ Submit All the relatives’ Birth Certificate/Marriage Certificate enough to prove the third degree \\nrelationship between Applicant and Inviter.  \\n   (3) Birth Certificate (issued by PSA within 1 year)  \\n   【ADDITIONAL REQUIREMENTS 】 \\n    - If (3) is unreadable, submit a Birth certificate  issued by Local Civil Registrar. \\n    - If (3) is “LATE REGISTRATION”, submit Baptismal Certificate and School Record ( DepEd:Form 137). \\n    - If there is no r ecord of birth in PSA, submit Birth Certificate issued by Local Civil Registrar and \\nNegative Certificate issued by PSA.  \\n   (4) Marriage Certificate (issued by PSA within 1 year. For the married only.)  \\n    【ADDITIONAL REQUIREMENTS 】 \\n    - If (4) is unreadable, submit Marriage certificate issued by Local Civil Registrar.  \\n- If there is no reco rd of marriage in PSA, submit Marriage Certificate issued by Local Civil Registrar \\nand Negative Certificate issued by PSA. \\n【In case that applicant will shoulder part/all of travel expense 】  \\n(5) Bank Certificate   \\n(6) Photocopy of Income Tax Return ( BIR Form) \\n  INVEITER’S REQUIREMENTS  \\n     (7) Invitation Letter ※ \\n     (8) Itinerary in Japan ※ \\n     (9) Residence Certificate (Jumin -hyo) of Inviter and Guarantor \\n☞ Jumin-hyo must describe all household members, without omission of description except Individual \\nNumber and Jumin-hyo Code.  \\n  【ADDITIONAL REQUIREMENTS 】 \\n    - If inviter or his/her spouse is Japanese,  submit his/her Koseki -tohon. \\n- If inviter/guarantor is not Japanese, submit his/her photocopy of Residence Card (both sides) . \\n  【In case that guarantor will shoulder part/all of travel expense 】 \\n    (10) Guarantee Letter ※ \\n(11) One/some of the Latest Following Documents \\n (To show guarantor’s precise capability to pay, submission of some of the following is allowed .) \\n- Income Certificate (Shotoku-shomeisho) \\n- Tax Certificate (Nozei-shomeisho. It must include description of the total amount of income)  \\n- Photocopy of Final Tax Return Form (Kakutei -shinkokusyo) \\n- Bank Certificate \\n \\n '),\n",
       " Document(metadata={'source': 'pdfs/VISITING US MIILITALY PERSONNEL.pdf', 'page': 0}, page_content='VISITING US MIILITALY PERSONNEL \\nMAY 2023 \\nA. PURPOSE \\nVisit a US military personnel stationed in Japan or his/her dependent . \\n \\nB. Requirements（Details→https://www.ph.emb-japan.go.jp/itpr_ja/11_000001_00898.html ） \\n \\n  ※ Downloadable from this website   \\n APPLICANT’S R EQUIREMENTS \\n \\n(1) Passport（Holder’s signature required ） \\n(2) Application Form ※（A facial Photo (4.5×3.5cm) must be attached. ） \\n   (3) Birth Certificate (issued by PSA within 1 year)  \\n   【ADDITIONAL REQUIREMENTS 】 \\n    - If (3) is unreadable, submit Birth certificate issued by Local Civil Registrar.  \\n    - If (3) is “LATE REGISTRATION”, submit Baptismal Certificate and School Record ( DepEd:Form 137). \\n    - If there is no r ecord of birth in PSA, submit Birth Certificate issued by Local Civil Registrar and \\nNegative Certificate issued by PSA.  \\n   (4) Marriage Certificate (issued by PSA within 1 year. For the married only.)  \\n    【ADDITIONAL REQUIREMENTS 】 \\n    - If the certificate is unreadable, submit Marriage certificate issued by Local Civil Registrar.  \\n- If there is no reco rd of marriage in PSA, submit Marriage Certificate issued by Local Civil Registrar \\nand Negative Certificate issued by PSA. \\n【In case that applicant will shoulder part/all of travel expense 】  \\n(5) Bank Certificate   \\n(6) Photocopy of Income Tax Return ( BIR Form) \\n \\n   \\nINVEITER’S REQUIREMENTS  \\n \\n     (7) Invitation Letter ※ \\n     (8) Itinerary in Japan ※ \\n     (9) Statement of Service (including E -mail address of attestant, if possible)  \\n    (10) Photocopy of Inviter’s passport (Pages of ID and stamps in Japan) \\n(11) Proof of Relationship \\n    - If you are relatives, submit Birth Certificate or Marriage Certificate (iss ued by PSA within 1 year).  \\n- If you are friends, submit photos, E -mails, receipt of remittance or parcel, etc.  \\n     \\n  【In case that US military personnel  will shoulder part/all of travel expense 】 \\n    (12) Guarantee Letter ※ \\n(13) US Individual Income Tax Return (IRS: Form 1040 and W-2) \\n \\n '),\n",
       " Document(metadata={'source': 'pdfs/TRANSIT.pdf', 'page': 0}, page_content='TRANSIT \\nMAY 2023  \\n \\nA. PURPOSE \\nStay in Japan temporarily only for transit of flight or vessel . \\n☞ If you have other purpose than transit such as tourism, business or visiting relatives, submit other \\nrequirements according to the  purpose. \\n \\nB. Requirements（Details→https://www.ph.emb-japan.go.jp/itpr_ja/11_000001_00898.html ） \\n   \\n※ Downloadable from this website   \\n     \\n(1) Passport（Holder’s signature and valid visa for  the final destination  required） \\n(2) Application Form  ※（A facial Photo ( 4.5×3.5cm) must be attached .） \\n \\n☞ If there is a used Japanese visa on your passport, the following (3) and (4) are unnecessary. \\n \\n   (3) Birth Certificate (issued by PSA within 1 year)  \\n   【ADDITIONAL REQUIREMENTS 】 \\n    - If (3) is unreadable, submit Birth certificate issued  by Local Civil Registrar. \\n    - If (3) is “LATE REGISTRATION”, submit Baptismal Certificate and School Record ( DepEd: Form 137). \\n    - If there is no r ecord of birth in PSA, submit Birth Certificate issued by Local Civil Registrar and \\nNegative Certificate issued by PSA.  \\n \\n   (4) Marriage Certificate ( issued by PSA within 1 year. For the married only.)  \\n    【ADDITIONAL REQUIREMENTS 】 \\n    - If (4) is unreadable, submit Marriage certificate issued by Local Civil Registrar.  \\n- If there is no reco rd of marriage in PSA, submit Marriage Certificate issued by Local Civil Registrar \\nand Negative Certificate issued by PSA. \\n \\n   (5) Itinerary in Japan ※ \\n (6) Bank Certificate \\n(7) Photocopy of Income Tax Return (BIR form) \\n(8) E-ticket or other document to prove the flight (or vessel) schedule \\n \\n '),\n",
       " Document(metadata={'source': 'pdfs/OFFICIAL.pdf', 'page': 0}, page_content='OFFICIAL     \\n OCT 2024     \\n    \\nA. PURPOSE    \\nVisit Japan on official purpose (including accompanying dependents).    \\n    \\nB. REQURIEMENTS（Details→https://www.ph.emb-japan.go.jp/itprtop_en/11_000001_00896.html）    \\n      \\n※ Downloadable from this website     \\n(1) Passport（Holder’s signature required）    \\n(2) Application Form ※（A facial Photo (4.5×3.5cm) must be attached.）    \\n(3) Note Verbale (or other official documents issued by foreign government/international organization) - It \\nmust include applicant’s identification, position, intended purpose and term to stay in Japan.    \\n【In case that you have Certificate of Eligibility issued by a Regional Immigration Services Bureau in Japan】  \\n(4) Photocopy of Certificate of Eligibility   \\n    \\n    '),\n",
       " Document(metadata={'source': 'pdfs/MULTIPLE-ENTRY VISA FOR TEMPORARY VISITOR FOR BUSINESS.pdf', 'page': 0}, page_content=' - continued on next page -  \\nMULTIPLE-ENTRY VISA FOR TEMPORARY VISITOR  \\n (FOR BUSINESS PURPOSE  AND CULTURAL OR INTELLECTUAL FIGURES )  \\n \\nOCTOBER 2022 \\nA. ELIGIBILITY FOR APPLICANT \\nPhilippine nationals who are  applicable to one of the following categories  in A1 or A2 and his/her \\nspouse or children \\n- Validity of this visa will be 1, 3, 5 or 10  years and period of stay will be 15, 30 or 90 days.  \\n- This visa is for business affairs , but from the second visit it’s possible to use for other purpose such as \\ntourism, visiting relatives etc.  \\n \\n1. BUSINESS PURPOSE \\n (Only regular employees belonging to (1) - (6) or with travel records of (7) or (8) ) \\n(1) A public (government) enterprise  \\n (2) A private company listed on the stock exchange (including Japan and third countries)  \\n      (3) A Japanese-affiliated company which is a me mber of the Japan Chamber of Commerce and has a \\nmanagement base in Japan  \\n      (4) A joint venture company, a subsidiary company or a bran ch office of a company listed on the stock \\nexchange (including Japan and the third countries)  \\n      (5) A private company with constant business transactions w ith a Japanese company listed on the stock \\nexchange \\n      (6) A private company included in Top 1,000 corporations of the Philippines in gross revenue. \\n (7) With a travel record to Japan for business purpose and travel records to G7 countries (except Japan) in \\nthe last three years. \\n      (8) With more than three travel records to Japan for business purpose in the last three years . \\n \\n2.CULTURAL or INTELLECTUAL FIGURES,  etc. \\n(1) An artist (Fine Ar t, Literary Art, Music, Stage Play, Dance etc.) , a specialist in humanities (Literature, \\nLaw, Economics etc.), or a scientist (Technology, Medicine etc.) who has relevant accomplishments  \\n(2) A lawyer, certified public accountant, patent attorney, judicial  scrivener, notary, medical doctor who \\nhas a national or international qualification and actually working as the same position.  \\n(3) An amateur sports player who has relevant accomplishments  \\n(4) A full-time professor, assistant professor, or lecturer of a university or a college  \\n(5) A director or higher post of a national or public research institution or a museum  \\n(6) A Senator, Congressman, Governor /Vice-Governor of a Province, City Mayor, Bishop of the Roman \\nCatholic Church, government official, local asse mblyman, local government official  \\n \\nB. REQUIREMENTS（Details→https://www.ph.emb-japan.go.jp/itpr_ja/11_000001_00898.html ） \\n※ Downloadable from this website  \\n(1) Passport（Holder’s signature required ）                            \\n(2) Application Form ※（A facial Photo (4.5×3.5cm) must be attached. ） \\n(3) Request for Multiple-Entry Visa ※ \\n(4) Employment Certificate  (including salary, tenure and position)  \\n- If applicant is self -employed, submit a Certificate of Business Registration.  \\n(5) Documents to prove qualification for one of the categories in A1 or  A2. \\n '),\n",
       " Document(metadata={'source': 'pdfs/MULTIPLE-ENTRY VISA FOR TEMPORARY VISITOR FOR BUSINESS.pdf', 'page': 1}, page_content='  \\n \\n \\n【SPECIFIC REQUIREMENTS】 \\n- A1 (Business Purpose) → Document to explain the necessity of multiple  visa (e.g. Letter of mission or  \\n travel requisition by employer, etc.) \\n- A1 (7) or (8) → Current or old passport with used visa and entry stamps of Japan or G7 countri es.  \\n- A2 (2) → Photocopy of ID card issued by Profession Regulation Commission  \\n- “Lawyer” of A2 (2) → Photocopy of membership card issued by Integrated Bar of the Philippines  \\n- Spouse/Child of A1 or A2  → Marriage Certificate/Birth Certificate issued by PS A \\n- Spouse/Child of A1 or A2 (If applying separately from the above-mentioned in A1 and A2) \\n→ Photocopy of his/her passport (Pages of ID and Japanese multiple -entry visa) \\n \\n '),\n",
       " Document(metadata={'source': 'pdfs/STUDENT, WORKER AND DEPENDENT.pdf', 'page': 0}, page_content='STUDENT, WORKER AND DEPENDENT  \\n MARCH 2023   \\n \\nA. PURPOSE \\nStudy, work (including “Technical Trainee Intern” and “Entertainer”) or live with a spouse or parent(s) \\n(Your Inviter needs to apply Japan Immigration for a Certificate of Eligibility  (COE) in advance.) \\n \\n☞ As of Diplomat, Official , Medical Stay and House keeper hired by Dipl omat/Official, please check its own \\nrequirements on this website. \\n \\nB. REQUIREMENTS（Details→https://www.ph.emb-japan.go.jp/itpr_ja/11_000001_00898.html ） \\n   \\n※ Downloadable from this website   \\n    (1) Passport（Holder’s signature required） \\n(2) Application Form ※（A facial Photo (4.5×3.5cm) must be attached.） \\n(3) Certificate of Eligibility ( photocopy, no need original ) \\n* If you receive d a Certificate of eligi bility by email from Japan Immigration, submit a \\nphotocopy of the email.  \\n \\n \\n   【For COE Holders of SPOUSE/CHILD OF JAPANESE, SPOUSE/CHLILD OF PERMANETN RESIDENT ,  \\nLONG TERM RESIDENT and DEPENDENT】 \\n \\n   (4) Birth Certificate (issued by PSA within 1 year)  \\n   【ADDITIONAL REQUIREMENTS 】 \\n    - If the certificate is unreadable, submit Birth certificate issued by Local Civil Registrar.  \\n    - If the birth certificate i s “LATE REGISTRATION”, submit Baptismal Certificate and School Record \\n(DepEd: Form 137). \\n    - If there is no r ecord of birth in PSA, submit Birth Certificate issu ed by Local Civil Registrar and \\nNegative Certificate issued by PSA.  \\n \\n   (5) Marriage Certificate (issued by PSA within 1 year. For the married only.)  \\n    【ADDITIONAL REQUIREMENTS 】 \\n    - If the certificate is unreadable, submit Marriage certificate issued b y Local Civil Registrar. \\n- If there is no reco rd of marriage in PSA, submit Marriage Certificate issued by Local Civil Registrar \\nand Negative Certificate issued by PSA.  \\n \\n '),\n",
       " Document(metadata={'source': 'pdfs/HOUSEKEEPER OF DIPLOMAT.pdf', 'page': 0}, page_content='HOUSEKEEPER OF DIPLOMAT/OFFICIAL  \\n NOVEMBER 2022  \\n \\nA. PURPOSE \\nWork in Japan as private housekeeper  of persons holding diplomatic or official status in Japan . \\n \\nB. REQUIREMENTS（Details→https://www.ph.emb-japan.go.jp/itpr_ja/11_000001_00898.html ） \\n   \\n※ Downloadable from this website   \\n APPLICANT’S REQUIREMENTS  \\n (1) Passport（Holder’s signature required） \\n(2) Application Form  ※（A facial Photo ( 4.5×3.5cm) must be attached. ） \\n(3) Photocopy of employment contract  \\n \\n  \\nEMPLOYER’S REQUIREMENTS \\n   (4) Invitation Letter ※ \\n(5) Letter of Guarantee ※ \\n(6) Photocopy of ID card issued by the Ministry of Foreign Affairs in Japan  \\n【In case that you have Certificate of Eligibility issued by a Regional Immigration Services Bureau in Japan 】 \\n(7) Certificate of Eligibility (Original and p hotocopy) \\n \\n '),\n",
       " Document(metadata={'source': 'pdfs/MULTIPLE-ENTRY TEMPORARY VISITOR VISA (PHILIPPINE NATIONALS WITH.pdf', 'page': 0}, page_content='  \\nMULTIPLE-ENTRY TEMPORARY VISITOR VISA (PHILIPPINE NATIONALS  WITH \\nCONSIDERABLE FINANCIAL CAPACITY)  \\nMay 2024  \\n  \\nA. PURPOSE  \\nApplicants with considerably high income who intend to visit Japan several times as temporary visitor \\nfor tourism, business or visiting relatives, etc.   \\n☞ The period of each stay in Japan must be within 90 days. \\n  ※ Downloadable from this website   \\n   COMMON REQUIREMENTS  \\n(1) Passport（Holder’s signature required）  \\n(2) Application Form ※（A facial Photo (4.5×3.5cm) must be attached.）  \\n(3) Request for Multiple-Entry Visa ※  \\n* In case [ those with sufficient financial capacity] is checked, the embassy examine and determine whether the \\napplicant falls under [Multiple-Entry Visa for Temporary Visitor] or [Multiple-Entry Visa Temporary Visitor Visa \\nfor Philippine Nationals with Considerable Financial Capacity].  \\n(4) PSA issued Birth Certificate and Marriage Certificate (for married applicants), issued within 1 year \\n☞ Unnecessary if there is used Japan Visa on passport.  \\n【ADDITIONAL REQUIREMENTS】  \\n- If (4) is unreadable, submit Birth/Marriage certificate issued by Local Civil Registrar.  \\n- If Birth Certificate is “LATE REGISTRATION”, submit Baptismal Certificate and School Record (Form 137).  \\n-If there is no record of Birth/Marriage in PSA, submit Birth Certificate issued by Local Civil Registrar and Negative  \\nCertificate issued by PSA.  \\n(5) Itinerary in Japan ※  \\n \\nCONDITIONS AND SPECIFIC REQUIREMENTS  \\nI. Applicant with considerably high income  \\n(1) Applicant’s Bank Certificate (Balance within the last six months must be shown) \\n* If the Average Daily Balance (ADB) in the last six months is not indicated, bank statement \\nmust be submitted to prove transactions within the last six months.  \\n(2) Applicant’s Tax Payment Certificate issued by Bureau of Internal Revenue (copy acceptable)  \\n* Form 2316, must have signature of the Employer and Employee \\n*For business owners, proof of actual payment of tax must be submitted in addition to the \\nBIR Tax Payment Certificate Form (copy acceptable)  \\n(3) Applicant’s Employment Certificate (must indicate period of employment, salary  and  \\nposition) \\n* For business owners, Department of Trade and Industry “Certificate of Business Name \\nRegistration” and Mayor’s Permit from the City Hall must be submitted. \\n* If for any reason other than being a retiree, full-time housewife or unemployed, applicant \\nis unable to submit (2) and (3) above, a letter of explanation about the reason must be '),\n",
       " Document(metadata={'source': 'pdfs/MULTIPLE-ENTRY TEMPORARY VISITOR VISA (PHILIPPINE NATIONALS WITH.pdf', 'page': 1}, page_content='B. Requirements（Details→https://www.ph.emb-japan.go.jp/itpr_ja/11_000001_00898.html）  \\nsubmitted. For students, a copy of School ID or Certificate of Enrollment in School must be \\nsubmitted.  \\n  \\nII. Spouse or Child of (I) \\n(1) Proof of relationship with (I) above (PSA issued Birth Certificate and Marriage Certificate, if \\napplicable)  \\n(2) Passport and multiple entry visa copy or documents of (I) above.  '),\n",
       " Document(metadata={'source': 'pdfs/ATTIC TOURS SM FAIRVIEW (1).pdf', 'page': 0}, page_content='ATTIC TOURS SM FAIRVIEW \\nAttic Tours SM Fairview is currently located on the Upper Ground Level Park way Building within SM City \\nFairview. The office will be open when the mall hours are available from 10am – 9pm except holidays when \\nthe SM Fairview is close. The Attic Tours SM Fairview does not have specific slots need to be filled within the \\nday but have a cut off until 1pm. \\nWhen entering the Attic Tours SM Fairview the first thing that you need to do is get your queuing number and \\nwait for your number to be called and  if ever you r number is a lready called and you’re not in the area  your \\nnumber might get skip and you need to get a new queuing number.  \\nAt least one of the applicants will be applying for Japan Visa, no authorization is allowed when applying for \\nvisa, it is also applicable when getting your passport . All the docu ments should be provided  the same day \\nyou’re applying because Attic Tours does not accept  pending document s and if you can ’t provide  the \\ndocuments that are needed you need to provide an explanation letter.  \\nEvery Attic Tours have a Japanese that can read your do cuments to have an accurate translation in you r \\napplication. Japanese in the Attic Tours doe s not translate documents that are not included in th e \\ndocuments for applying for Japanese Visa. \\nThe processing of your visa application might take 1-2 weeks but not guaranteed since some application s \\nmay took 2-3 days or longer than 2 week s. Processing fee is 1680 per person then if you want to apply for \\nmultiple you need to add 500 pe sos, so it will be 2180 per persons. If your application is a lready on the \\nprocess you can wait for our call or text if ever you need send some additional documents or you can already \\npick up your passport. If you want to know an update in your appl ication you can contact us in this number \\n0916 618 6165 or Facebook Page ATTIC TOURS SM FAIRVIEW. \\nIf your application got denied you can re-apply for the same category after 6 months, however if you apply \\nfor different categories you can try to apply again but still it’s not guaranteed because this is still be decided \\nby the embassy. \\nEmbassy does not give specific reason for your denial. \\nEmbassy does not giv e specific amount on you r bank accou nt but you should have  bank certificate wi th  \\nADB (Average Daily Balance) for 6 months, if yo u can’t present a bank certificate with ADB (Average Daily \\nBalance)  6 months you sho uld attach a bank statement with ADB  (Average Daily Ba lance) 6 months , \\nhowever if your bank certificate does have ADB /YTD (Average Daily Balance / Year  to Date)  it will be \\nacceptable. Your bank certificate should be we t signed, if your bank certificate is e -signed i t should have \\nexplanation letter or have a word that it is a e-signature  \\nYou need to have a original PSA issued within 1 year if you are a first timer, however if you have a previous \\nit is not applicable. If your guarantor does not have a previous in Japan you both need a new PSA, if you’re \\nfirst timer in Japan and your guarantor h ave previous you still both need a new PSA . If you and your \\nguarantor does have previous in the Japan you need to provide  a copy even though it is no t issued within \\nyear. '),\n",
       " Document(metadata={'source': 'pdfs/ATTIC TOURS SM FAIRVIEW (1).pdf', 'page': 1}, page_content=' \\nGuarantor should provide their bank certificate, COE (Certificate of Employment) and ITR (Income Tax Return) \\n2316 if employed, if under business property either 1701 or 1702. \\nAvailing ticket before applying for visa is not applicable because it is not guaranteed if you will be approved \\nor denied, wait for your visa before applying.  \\nWhen applying for multiple you need to have your own financial documents with or without guarantor. You \\nalso need to provide the multiple request form and check all the applicable to your application. \\nThe documents is still available in Japan within 3 months of the issuance and it shoul d be A4 size. Other \\ndocuments like bank certificate, certificate of employment and itr can be used even though it is no t A4 \\nsize. \\nAppearance is not applicable in the Japan Embassy but you need to have an appearance when you apply to \\nthe Attic Tours because at least one of the applicants should be applying for the Japan Visa. \\nThe validity of Single Entry visa is 3 months, for Multiple Entry is either 5 years or 10 years . It is still be the \\ndiscretion of the embassy. Your multiple entry may not be granted and can be Single Entry. \\nPassport is a very important document that need to provide. You need to sign your passport when applying \\nfor visa. If your old passport that have Japan Visa is lost you need to still acknowledge it but it w ill be a lost \\npassport in your application. \\nAll the payments that have been done is not refundable even if you are not granted a Multiple Entry. \\nResults cannot be done over the phone , the results will only be know n when the applicants pick up their \\npassports. \\nIf you want to apply for long term in Japan the person you know may help you process a Certificate of Eligibility \\nin the Japan. \\nAll Japanese documents can be a original or scanned copy but make sure that the details are readable. It can \\nbe black and white or colored. \\nIf you have a boyfriend/girlfriend/fiancé you can apply for Japan Visa under Visiting Friends/Fiance. They can \\nalso be your guarantor when you go to Japan.  \\nYou might check the nearest Attic Tours Branch : \\nMain Office where in Roxas Boulevard next to Japan Embassy \\nContact us : 0917 631 0845 \\nSM Mall of Asia Branch - Unit 126 Level 1, South parking building, Marina Way, Mall of Asia Complex, Pasay, \\nMetro Manila '),\n",
       " Document(metadata={'source': 'pdfs/ATTIC TOURS SM FAIRVIEW (1).pdf', 'page': 2}, page_content='Contact us : 0917 631 0848 \\nSM Megamall Branch - 5th Floor, Bldg. B, SM Megamall, Doña Julia Vargas Ave. cor. EDSA Wack-Wack Village, \\nMandaluyong City 1555. \\nContact us : 0906 516 3246 \\nSM North Edsa Branch -  Ground Floor, The Block, SM City North EDSA, Quezon City \\nContact us : 0917 898 0905 \\nSM Southmall Branch -  343, 3/F , SM Southmall, Almanza Uno, Las Piñas City \\nContact us : 0917 186 6853 \\nSM Fairview Branch - Upper Ground Level Parkway Building within SM City Fairview \\nContact us : 0916 618 6165 \\nSM Clark Branch - Annex 3 Upper Ground Floor, Parkway Building, SM City Fairview, Novaliches, Quezon City, \\nMetro Manila \\nContact us : 0917 305 4292 \\nSM Cebu Branch - Lower Ground Floor, SM City Cebu, Cebu City, 6000 Cebu \\nContact us : 0956 551 9834 \\nSM Davao Branch - 109 G/F Court View Inn Bldg Quimpo Blvd, Cor Guillermo E. Torres St, Davao City, Davao \\ndel Sur \\nContact us : 0917 321 1328 '),\n",
       " Document(metadata={'source': 'pdfs/TOURISM.pdf', 'page': 0}, page_content='TOURISM   \\nMay 2024  \\n  \\nA. PURPOSE  \\nVisit Japan for tourism.  \\n  \\nB. Requirements（Details→https://www.ph.emb-japan.go.jp/itpr_ja/11_000001_00898.html）  \\n    \\n※ Downloadable from this website   \\n      \\n(1) Passport（Holder’s signature required）  \\n(2) Application Form ※（A facial Photo (4.5×3.5cm) must be attached.）  \\n(3) PSA issued Birth Certificate and Marriage Certificate (for married applicants), issued within 1 year \\n☞ Unnecessary if there is used Japan Visa on passport. \\n【ADDITIONAL REQUIREMENTS】  \\n- If (3) is unreadable, submit Birth/Marriage certificate issued by Local Civil Registrar.  \\n- If Birth Certificate is “LATE REGISTRATION”, submit Baptismal Certificate and School Record (Form 137).  \\n-If there is no record of Birth/Marriage in PSA, submit Birth Certificate issued by Local Civil Registrar and Negative  \\nCertificate issued by PSA.  \\n(4) Itinerary in Japan  \\n \\n【In case that applicant will shoulder part/all of travel expense】   \\n \\n(5) Applicant’s Bank Certificate (balance within the last six months must be shown)  \\n* If the Average Daily Balance (ADB) in the last six months is not indicated, bank statement must be \\nsubmitted to prove transactions within the last six months. \\n(6) Applicant’s Tax Payment Certificate  \\n* Form 2316, must have signature of the Employer and Employee \\n* For business owners, proof of actual payment of tax must be submitted in addition to the BIR Tax \\nPayment Certificate Form (copy acceptable) \\n(7) Applicant’s Employment Certificate (must indicate period of employment, salary and position) \\n* For business owners, Department of Trade and Industry (DTI) “Certificate of Business Name \\nRegistration” and Mayor’s Permit from the City Hall must be submitted.  \\n* If for any reason other than being a retiree, full-time housewife or unemployed, applicant is unable to \\nsubmit (6) and (7) above, a letter of explanation about the reason must be submitted. For students, a \\ncopy of School ID or Certificate of Enrollment in School must be submitted. \\n  \\n【In case that guarantor in the Philippines will shoulder part/all of travel expense】  \\n(8) Guarantee Letter ※  \\n(9) Proof of relationship between applicant and guarantor(e.g. Birth Certificates or Photos)  \\n(10) Bank Certificate [see (5) above] \\n(11) Photocopy of Tax Payment Certificate [see (6) above]  \\n(12) Employment Certificate [see (7) above] \\n  \\n  '),\n",
       " Document(metadata={'source': 'pdfs/BUSINESS.pdf', 'page': 0}, page_content='BUSINESS, CONFERENCE or CULTURAL EXCHANGE, etc.  \\nMAY 2023 \\n \\nA. PURPOSE \\n1. Visit Japan for business meeting, advertising, after -sales service, market research, training, etc. \\n(If a practical training is planned, “Certificate of Eligibility”  is required regardless of the length of stay.) \\n  \\n    2. Attend international conference, seminar or cultural exchange program, etc.  \\n  \\nB. Requirements（Details→https://www.ph.emb-japan.go.jp/itpr_ja/11_000001_00898.html ） \\n   \\n※ Downloadable from this website   \\n  APPLICANT’S REQUIREMENTS   \\n \\n(1) Passport（Holder’s signature required ） \\n(2) Application Form  ※（A facial Photo ( 4.5×3.5cm) must be attached. ） \\n(3) Employment Certificate/Certificate of Membership  \\n - If applicant is self -employed, submit a Certificate of Business Registration . \\n     (4) Travel Order/Dispatch Letter \\n \\n【In case that applicant will shoulder part/all of travel expense 】  \\n(5) Bank Certificate  \\n(6) Photocopy of Income Tax Return ( BIR Form) \\n \\n   INVEITER’S REQUIREMENTS  \\n \\n     (7) Invitation Letter ※ \\n     (8) Itinerary in Japan ※ \\n     (9) Tokibo-Tohon, Company Brochure, Pamphlet or Details of Company/Organization  ※ \\n- If inviter  is a listed company  on a stock exchange, a photocopy of the latest Quarterl y Report \\n(Shiki-Ho) can be alternative . \\n- If inviter is a person (not company or organization), submit his/her Employment Certificate or \\nBusiness License. \\n    (10) Proof of Activities in Japan  \\n       - Business trip → photocopy or contract, material of transaction or meeting , etc. \\n       - Attend conference/seminar → pamphlet or material of conference/seminar. \\n       - Training → Acceptance Letter of Trainee and Training Schedule \\n        (Training Schedule must include the notes of the necessity of training in Japan, content, method, \\nplace, period, daily schedule, person in -charge and language to be used.  \\n  \\n  【In case that guarantor will shoulder part/all of travel expense 】 \\n    (11) Guarantee Letter ※ \\n \\n '),\n",
       " Document(metadata={'source': 'pdfs/SPOUSE OR CHLID OF JAPANESE NATIONAL RESIDING IN THE PHILIPPINES.pdf', 'page': 0}, page_content='SPOUSE OR CHLID OF JAPANESE NATIONAL RESIDING IN THE PHILIPPINES  \\nMAY 2023 \\n \\nA. PURPOSE \\nSpouse/child of Japanese national residing in the Philippines visit s Japan temporarily.  \\n☞ To apply for this visa, the Japanese spouse/ parent needs to stay in the Philippin es with long term visa \\nvalid for 6 months or over. If he/she stays in the Philippines as temporary visitor, this visa is not \\navailable. \\n \\nB. Requirements（Details→https://www.ph.emb-japan.go.jp/itpr_ja/11_000001_00898.html ） \\n   \\n※ Downloadable from this website   \\n     \\n(1) Passport（Holder’s signature required ） \\n(2) Application Form  ※（A facial Photo ( 4.5×3.5cm) must be attached. ） \\n   (3) Birth Certificate (issued by PSA within 1 year)  \\n   【ADDITIONAL REQUIREMENTS 】 \\n    - If (3) is unreadable, submit Birth certificate iss ued by Local Civil Registrar. \\n    - If (3) is “LATE REGISTRATION”, submit Baptismal Certificate and School Record ( DepEd: Form 137). \\n    - If there is no r ecord of birth in PSA, submit Birth Certificate issued by Local Civil Registrar and \\nNegative Certificate issued by PSA. \\n \\n   (4) Marriage Certificate ( issued by PSA within 1 year. For the married only.)  \\n    【ADDITIONAL REQUIREMENTS 】 \\n    - If (4) is unreadable, submit Marriage certificate issued by Local Civil Registrar.  \\n- If there is no reco rd of marriage in PSA, submit Marriage Certificate issued by Local Civil Registrar \\nand Negative Certificate issued by PS A. \\n \\n【Documents of Japanese Spouse/Parent 】  \\n(5) Photocopy of Arian Certificate of Registration Card  \\n(6) Photocopy of Japanese Passport ( Identification  page and valid visa of the Philippi nes) \\n  \\n【Documents of Householder 】 \\n(7) Employment Certificate (If impossible, submit explanation for it.)  \\n(8) Photocopy of Income Tax Return ( BIR form) or Bank Certificate  \\n \\n【In case you wish a multiple -entry visa】 \\n☞ Even if you have a multipl e-entry visa, y ou cannot stay in Japan over a half of year in total  with a \\nstatus of “Temporary Visitor” (You need to obtai n a status for a long-term stay). \\n. \\n(9) Request for multiple -entry temporary visitor visa ※ \\n(10) Koseki-tohon \\n \\n '),\n",
       " Document(metadata={'source': 'pdfs/VISITING FRIENDS OR DISTANT RELATIVES.pdf', 'page': 0}, page_content='VISITING FRIENDS OR DISTANT RELATIVES  \\nMAY 2023 \\nA. PURPOSE \\nVisit friends or distant relatives beyond the third degree of relationship. \\nB. Requirements（Details→https://www.ph.emb-japan.go.jp/itpr_ja/11_000001_00898.html ） \\nAPPLICANT’S REQUIREMENTS                                   ※ Downloadable from this website  \\n(1) Passport（Holder’s signature required ） \\n(2) Application Form ※（A facial Photo (4.5×3.5cm) must be attached. ） \\n☞ If there is a used Japanese visa on your passport, the following (3) and (4) are unnecessa ry. \\n   (3) Birth Certificate (issued by PSA within 1 year)  \\n   【ADDITIONAL REQUIREMENTS 】 \\n    - If (3) is unreadable, submit a Birth certificate issued by Local Civil Registrar.  \\n    - If (3) is “LATE REGISTRATION”, submit Baptismal Certificate and School Record ( DepEd:Form 137). \\n    - If there is no r ecord of birth in PSA, submit Birth Certificate issued by Local Civil Registrar and \\nNegative Certificate issued by PSA.  \\n   (4) Marriage Certificate (issued by PSA within 1 year. For the married only.) \\n    【ADDITIONAL REQUIREMENTS 】 \\n    - If (4) is unreadable, submit Marriage certificate issued by Local Civil Registrar.  \\n- If there is no reco rd of marriage in PSA, submit Marriage Certificate issued by Local Civil Registrar \\nand Negative Certificate issued by PSA. \\n【In case that applicant will shoulder part/all of travel expense 】  \\n(5) Bank Certificate   \\n(6) Photocopy of Income Tax Return ( BIR Form) \\n  INVEITER’S REQUIREMENTS  \\n     (7) Invitation Letter (Describe relationship between Applicant and I nviter in detail) ※ \\n     (8) Itinerary in Japan ※ \\n     (9) Residence Certificate (Jumin -hyo) of Inviter and Guarantor \\n☞ Jumin-hyo must describe all household members, without omission of description except Individual \\nNumber and Jumin-hyo Code.  \\n  【ADDITIONAL REQUIREMENTS】 \\n    - If inviter/guarantor is not Japanese, submit his/her photocopy of Residence Card (both sides) . \\n  (10)Proof of Relationship  \\n    - If you are friends, submit photos, E -mails, receipt of remittance or parcel, photocopy of passport \\nincluding stamps of friend’s country, etc. \\n    - If you are relatives beyond the third degree, submit Birth Certificate, Marriage Certificate or \\nKoseki-tohon.  \\n  【In case that guarantor will shoulder part/all of travel expense 】 \\n    (10) Guarantee Letter ※ \\n(11) One/some of the Latest Following Documents \\n (To show guarantor’s precise capability to pay, submission of  some of the following is allowed .) \\n- Income Certificate (Shotoku-shomeisho) \\n- Tax Certificate (Nozei-shomeisho. It must include description of the tot al amount of income .) \\n- Photocopy of Final Tax Return Form (Kakutei -shinkokusyo) \\n- Bank Certificate \\n '),\n",
       " Document(metadata={'source': 'pdfs/NIKKEI-JIN (JAPANESE DESCENDANT).pdf', 'page': 0}, page_content='NIKKEI-JIN (JAPANESE DESCENDANT)  \\n NOVEMBER 2022  \\n \\nA. ELIGIBILITY FOR APPLICATION  \\n(1) Children of Japanese Nationals who migrated to the Philippines before or during the World War II \\n(refered to as the 2 nd Generation). To be recognized as the 2nd Generation, they are required to have \\nbeen in the Philippines at the end of the War. \\n(2) Descendants of the 2nd Generation  \\n(3) Spouse of the 2nd Generation and their descendants  \\n \\nB. REQUIREMENTS（Details→https://www.ph.emb-japan.go.jp/itpr_ja/11_000001_00898.html ） \\n   \\n※ Downloadable from this website   \\nI.  APPLICATION WITH CERTIFICATE OF ELIGIBILITY  (COE) \\n(1) Passport（Holder’s signature required） \\n      - If you apply the Consulate General in Cebu or Davao, submit a photocopy of passport together.  \\n(2) Application Form ※（A facial Photo (4.5×3.5cm) must be attached. ） \\n(3) Koseki-tohon of the 1st and 2nd Generation  \\n(4) Birth Certificate (issued by PSA within 1 year)  \\n   【ADDITIONAL REQUIREMENTS 】 \\n    - If the certifica te is unreadable, submit Birth Certificate issued by Local Civil Regist rar. \\n    - If the Birth Certificate is “LATE REGISTRATION”, submit Baptismal Certificate and School Record (DepEd: \\nForm 137). \\n    - If there is no record of birth in PSA, submit Birth Certificate issued by Local Civil Registrar and Negative \\nCertificate iss ued by PSA.  \\n(5) Marriage Certificate (issued by PSA with in 1 year, for the married only) \\n   【ADDITIONAL REQUIREMENTS 】 \\n    - If the certificate is unreadable, submit Marriage Certificate issued by Local Civil Registrar.  \\n- If there is no record of marriage in PSA, submit Marriage Certificate issued by Local Civil Registrar and \\nNegative Certificate issued by PSA.  \\n(6) Family Tree ※ \\n- It must include all the descendants from the 1 st Generation to the present  and the deceased.  \\n(7) Family Photo (old and new)  \\n- Taken with parents, siblings and other relatives. Digital modification is forbidd en.  \\n(8) Wedding Photo (for the married only) \\n(9) Certificate of Eligibility (Original and photocopy)  \\n \\nII.  APPLICATION WITHOUT COE (The followings are required in addition to “I”) \\n(1) Photocopy of passport \\n(2) Baptismal Certificate  \\n(3) School Record (DepEd: Form 137) \\n(4) Philippines National Police (PNP) Clearance \\n(5) National Bureau of Investigation (NBI) Clearance \\n【In case that applicant is planning to work for a living in Japan 】 \\n(6) Photocopy of employment contract with Japanese c ompany, etc. \\n '),\n",
       " Document(metadata={'source': 'pdfs/NIKKEI-JIN (JAPANESE DESCENDANT).pdf', 'page': 1}, page_content='【In case that applicant will be supported by relatives in Japan 】 \\n(7) Letter of Guarantee ※ \\n(8) Guarantor’s Residence Certif icate (Jumin-hyo)  \\n☞ Jumin-hyo must describe all household members  without omission of description . \\n However, Individual Number and Jumin -hyo Code must be omitted or blotted out.  \\n   【ADDITIONAL REQUIREMENTS 】 \\n    - If inviter or his/her spouse is Japanese, submit his/her Koseki -tohon. \\n- If inviter/guarantor is not Japanese, submit his/her photocopy of Residence Card (both sides) . \\n \\nIII.  APPLICATION WITH OUT COE AND NO DESCENDANT OF THE 2ND GENERATION HAS BEEN GRANTED \\nNIKKEI-JIN VISA (The followings are required in addition to “I” and “II”.) \\n \\n (1) Background history about the 1st and 2nd Generation in English and its Japanese translation  \\n   (2) Birth Certificate (Spouse of the 1st Generation, the 2nd Generation and his/her spouse)  \\n     - See I, (4) for additional documents     \\n(3) Marriage Certificate (the 1st and 2nd Generation) \\n  - See I, (5) for additional documents  \\n   (4) Death Certificate (if the 1 st or 2nd Generation deceased) \\n   【ADDITIONAL REQUIREMENTS 】 \\n    - If the certificate is unreadable, submit Death certificate issued by Local Civ il Registrar. \\n- If there is no reco rd of death  in PSA, submit Death Certificate issued by Local Civil Registrar and Negative \\nCertificate issued by PSA.  \\n   (5) Family Photo of the 1st and 2nd Generation and their descendants  \\n \\n【In case that the 2nd Generation is not registered in Koseki -tohon, submit following documents 】 \\n(6) Documents to indicate the 1st Generation’s migration to the Philippines  \\n  - The 1st Generation’s Wedding Photo, passport or Koseki-tohon, etc. \\n(7) Documents to incicate  the relationship b etween the descendant s of the 2nd Generation in the \\nPhilippines and their relatives in Japan \\n- Letters from relatives of the 1st Generation or his/her descendants in Japan \\n- Photos taken when the relatives in Japan visited the Philippines, etc.    \\n(8) Other documents to indicate the relationship between the 1 st and present Generation \\n \\n \\nC. Procedure of Application  \\n(1) Without COE , you need apply for visa through one of the accredited agencies or the registered Nikkei-Jin \\nagencies. Please put all the requiremen ts into a large envelope and submit it without seal.  \\n(2) With COE, you can apply for visa directly the Embassy of Japan in the Philippines,  the Consulate General \\nin Cebu or Davao (You can also apply for visa through one of the agencies abovementioned.)  \\n \\nD.  Important Notice  \\n  (1) Visa examination might take  a long time, so it is encouraged to apply for a visa well -ahead of the desired \\ndate of departure. \\n  (2) We cannot basically return the submitted documents. However, if you wish some of them to be returned  \\n(such as the 1st Generation’s photo or passport , etc.) , please submit the photocopy and list of them \\ntogether. \\n(3) If you cannot submit one of the above -mentioned requirement, please submit explanation letter for it.  '),\n",
       " Document(metadata={'source': 'pdfs/NIKKEI-JIN (JAPANESE DESCENDANT).pdf', 'page': 2}, page_content='(4) We might request  to submit additional docume nts for examinations . If you don’t submit them within 3 \\nmonths from the date of request , we will cease the examination and return your passport.  \\n(5) We might  have an interview with applicant or his/her relatives. In such a case, we wil l take a contact \\nwith appli cant directly or through accredited agencies/ registered Nikkei-Jin agencies to arrange  the date \\nand time of interview.    '),\n",
       " Document(metadata={'source': 'pdfs/MULTIPLE-ENTRY VISA FOR TEMPORARY VISITOR.pdf', 'page': 0}, page_content='MULTIPLE-ENTRY VISA FOR TEMPORARY VISITOR  \\nMay 2024  \\n  \\nA. PURPOSE'),\n",
       " Document(metadata={'source': 'pdfs/MULTIPLE-ENTRY VISA FOR TEMPORARY VISITOR.pdf', 'page': 0}, page_content='Visit Japan several times as temporary visitor for tourism, business or visiting relatives, etc.'),\n",
       " Document(metadata={'source': 'pdfs/MULTIPLE-ENTRY VISA FOR TEMPORARY VISITOR.pdf', 'page': 0}, page_content='☞ Applicants need to satisfy one of the following conditions from I to IV.'),\n",
       " Document(metadata={'source': 'pdfs/MULTIPLE-ENTRY VISA FOR TEMPORARY VISITOR.pdf', 'page': 0}, page_content='☞ The period of each stay in Japan must be within 30 days.'),\n",
       " Document(metadata={'source': 'pdfs/MULTIPLE-ENTRY VISA FOR TEMPORARY VISITOR.pdf', 'page': 0}, page_content='B. Requirements（Details→https://www.ph.emb-japan.go.jp/itpr_ja/11_000001_00898.html）'),\n",
       " Document(metadata={'source': 'pdfs/MULTIPLE-ENTRY VISA FOR TEMPORARY VISITOR.pdf', 'page': 0}, page_content='※ Downloadable from this website   \\n   COMMON REQUIREMENTS'),\n",
       " Document(metadata={'source': 'pdfs/MULTIPLE-ENTRY VISA FOR TEMPORARY VISITOR.pdf', 'page': 0}, page_content='(1) Passport（Holder’s signature required）'),\n",
       " Document(metadata={'source': 'pdfs/MULTIPLE-ENTRY VISA FOR TEMPORARY VISITOR.pdf', 'page': 0}, page_content='(2) Application Form ※（A facial Photo (4.5×3.5cm) must be attached.）'),\n",
       " Document(metadata={'source': 'pdfs/MULTIPLE-ENTRY VISA FOR TEMPORARY VISITOR.pdf', 'page': 0}, page_content='(3) Request for Multiple-Entry Visa ※'),\n",
       " Document(metadata={'source': 'pdfs/MULTIPLE-ENTRY VISA FOR TEMPORARY VISITOR.pdf', 'page': 0}, page_content='(4) PSA issued Birth Certificate and Marriage Certificate (for married applicants), issued within 1'),\n",
       " Document(metadata={'source': 'pdfs/MULTIPLE-ENTRY VISA FOR TEMPORARY VISITOR.pdf', 'page': 0}, page_content='issued within 1 year'),\n",
       " Document(metadata={'source': 'pdfs/MULTIPLE-ENTRY VISA FOR TEMPORARY VISITOR.pdf', 'page': 0}, page_content='☞ Unnecessary if there is used Japan Visa on passport.  \\n【ADDITIONAL REQUIREMENTS】'),\n",
       " Document(metadata={'source': 'pdfs/MULTIPLE-ENTRY VISA FOR TEMPORARY VISITOR.pdf', 'page': 0}, page_content='- If (4) is unreadable, submit Birth/Marriage certificate issued by Local Civil Registrar.'),\n",
       " Document(metadata={'source': 'pdfs/MULTIPLE-ENTRY VISA FOR TEMPORARY VISITOR.pdf', 'page': 0}, page_content='- If Birth Certificate is “LATE REGISTRATION”, submit Baptismal Certificate and School Record (Form'),\n",
       " Document(metadata={'source': 'pdfs/MULTIPLE-ENTRY VISA FOR TEMPORARY VISITOR.pdf', 'page': 0}, page_content='School Record (Form 137).'),\n",
       " Document(metadata={'source': 'pdfs/MULTIPLE-ENTRY VISA FOR TEMPORARY VISITOR.pdf', 'page': 0}, page_content='- If there is no record of Birth/Marriage in PSA, submit Birth Certificate issued by Local Civil'),\n",
       " Document(metadata={'source': 'pdfs/MULTIPLE-ENTRY VISA FOR TEMPORARY VISITOR.pdf', 'page': 0}, page_content='by Local Civil Registrar and'),\n",
       " Document(metadata={'source': 'pdfs/MULTIPLE-ENTRY VISA FOR TEMPORARY VISITOR.pdf', 'page': 0}, page_content='Negative Certificate issued by PSA.  \\n(5) Itinerary in Japan ※'),\n",
       " Document(metadata={'source': 'pdfs/MULTIPLE-ENTRY VISA FOR TEMPORARY VISITOR.pdf', 'page': 0}, page_content='(6) Applicant’s Bank Certificate (balance within the last six months must be shown)'),\n",
       " Document(metadata={'source': 'pdfs/MULTIPLE-ENTRY VISA FOR TEMPORARY VISITOR.pdf', 'page': 0}, page_content='* If the Average Daily Balance (ADB) in the last six months is not indicated, bank statement must'),\n",
       " Document(metadata={'source': 'pdfs/MULTIPLE-ENTRY VISA FOR TEMPORARY VISITOR.pdf', 'page': 0}, page_content='be submitted to prove transactions within the last six months.'),\n",
       " Document(metadata={'source': 'pdfs/MULTIPLE-ENTRY VISA FOR TEMPORARY VISITOR.pdf', 'page': 0}, page_content='(7) Applicant’s Tax Payment Certificate'),\n",
       " Document(metadata={'source': 'pdfs/MULTIPLE-ENTRY VISA FOR TEMPORARY VISITOR.pdf', 'page': 0}, page_content='* Form 2316, must have signature of the Employer and Employee'),\n",
       " Document(metadata={'source': 'pdfs/MULTIPLE-ENTRY VISA FOR TEMPORARY VISITOR.pdf', 'page': 0}, page_content='* For business owners, proof of actual payment of tax must be submitted in addition to the BIR Tax'),\n",
       " Document(metadata={'source': 'pdfs/MULTIPLE-ENTRY VISA FOR TEMPORARY VISITOR.pdf', 'page': 0}, page_content='Payment Certificate Form (copy acceptable)'),\n",
       " Document(metadata={'source': 'pdfs/MULTIPLE-ENTRY VISA FOR TEMPORARY VISITOR.pdf', 'page': 0}, page_content='(8) Applicant’s Employment Certificate (must indicate period of employment, salary  and position)'),\n",
       " Document(metadata={'source': 'pdfs/MULTIPLE-ENTRY VISA FOR TEMPORARY VISITOR.pdf', 'page': 0}, page_content='* For business owners, Department of Trade and Industry (DTI) “Certificate of Business Name'),\n",
       " Document(metadata={'source': 'pdfs/MULTIPLE-ENTRY VISA FOR TEMPORARY VISITOR.pdf', 'page': 0}, page_content='Registration” and Mayor’s Permit from the City Hall must be submitted.'),\n",
       " Document(metadata={'source': 'pdfs/MULTIPLE-ENTRY VISA FOR TEMPORARY VISITOR.pdf', 'page': 0}, page_content='* If for any reason other than being a retiree, full-time housewife or unemployed, applicant is'),\n",
       " Document(metadata={'source': 'pdfs/MULTIPLE-ENTRY VISA FOR TEMPORARY VISITOR.pdf', 'page': 0}, page_content='unable to submit (7) and (8) above, a letter of explanation about the reason must be submitted.'),\n",
       " Document(metadata={'source': 'pdfs/MULTIPLE-ENTRY VISA FOR TEMPORARY VISITOR.pdf', 'page': 0}, page_content='For students, a copy of School ID or Certificate of Enrollment in School must be submitted.'),\n",
       " Document(metadata={'source': 'pdfs/MULTIPLE-ENTRY VISA FOR TEMPORARY VISITOR.pdf', 'page': 0}, page_content='CONDITIONS AND SPECIFIC REQUIREMENTS'),\n",
       " Document(metadata={'source': 'pdfs/MULTIPLE-ENTRY VISA FOR TEMPORARY VISITOR.pdf', 'page': 0}, page_content='I. Applicant who travelled Japan as temporary visitor in the last 3 years and has financial'),\n",
       " Document(metadata={'source': 'pdfs/MULTIPLE-ENTRY VISA FOR TEMPORARY VISITOR.pdf', 'page': 0}, page_content='and has financial capacity'),\n",
       " Document(metadata={'source': 'pdfs/MULTIPLE-ENTRY VISA FOR TEMPORARY VISITOR.pdf', 'page': 0}, page_content='→ Used visa must be in the passport (old/expired passports with used Japan Visa may also be'),\n",
       " Document(metadata={'source': 'pdfs/MULTIPLE-ENTRY VISA FOR TEMPORARY VISITOR.pdf', 'page': 0}, page_content='submitted)'),\n",
       " Document(metadata={'source': 'pdfs/MULTIPLE-ENTRY VISA FOR TEMPORARY VISITOR.pdf', 'page': 0}, page_content='*Used Japanese visa and landing permission as temporary visitor in the last 3 years'),\n",
       " Document(metadata={'source': 'pdfs/MULTIPLE-ENTRY VISA FOR TEMPORARY VISITOR.pdf', 'page': 0}, page_content='II. Applicant who travelled Japan (as temporary visitor) and G7 countries (several times, except'),\n",
       " Document(metadata={'source': 'pdfs/MULTIPLE-ENTRY VISA FOR TEMPORARY VISITOR.pdf', 'page': 0}, page_content='times, except Japan)'),\n",
       " Document(metadata={'source': 'pdfs/MULTIPLE-ENTRY VISA FOR TEMPORARY VISITOR.pdf', 'page': 0}, page_content='→Used visa must be in the passport (old/expired passports with used Visa may also be submitted)')]"
      ]
     },
     "execution_count": 254,
     "metadata": {},
     "output_type": "execute_result"
    }
   ],
   "source": [
    "documents"
   ]
  },
  {
   "cell_type": "markdown",
   "metadata": {},
   "source": [
    "## Embeddings"
   ]
  },
  {
   "cell_type": "code",
   "execution_count": 255,
   "metadata": {},
   "outputs": [],
   "source": [
    "from langchain_openai import OpenAIEmbeddings\n",
    "\n",
    "\n",
    "embeddings = OpenAIEmbeddings(model=\"text-embedding-3-large\")"
   ]
  },
  {
   "cell_type": "markdown",
   "metadata": {},
   "source": [
    "## Vector Database (HNSW)"
   ]
  },
  {
   "cell_type": "markdown",
   "metadata": {},
   "source": [
    "## HNSW"
   ]
  },
  {
   "cell_type": "code",
   "execution_count": 256,
   "metadata": {},
   "outputs": [],
   "source": [
    "import hnswlib\n",
    "from langchain_core.vectorstores import VectorStore\n",
    "import numpy as np\n",
    "\n",
    "\n",
    "class HNSWLibVectorStore(VectorStore):\n",
    "    def __init__(self, index, embedding_model, documents):\n",
    "        self.index = index\n",
    "        self.embedding_model = embedding_model\n",
    "        self.documents = [doc.page_content for doc in documents]\n",
    "\n",
    "    def similarity_search(self, query, k=3):\n",
    "        # Get embedding for the query\n",
    "        query_embedding = self.embedding_model.embed_documents([query])\n",
    "        query_embedding = np.array(query_embedding, dtype=np.float32)\n",
    "\n",
    "        # Perform the knn query\n",
    "        labels, distances = self.index.knn_query(query_embedding, k=k)\n",
    "\n",
    "        # Return the closest documents and their distances\n",
    "        results = [(self.documents[label], distances[0][i]) for i, label in enumerate(labels[0])]\n",
    "        return results\n",
    "    \n",
    "    @classmethod\n",
    "    def from_texts(cls, texts, embedding_model, **kwargs):\n",
    "        # Step 1: Get the embeddings for the texts\n",
    "        embeddings = embedding_model.embed(texts)\n",
    "        \n",
    "        # Step 2: Initialize the HNSW index (dimension should match embedding size)\n",
    "        dim = len(embeddings[0])\n",
    "        index = hnswlib.Index(space='cosine', dim=dim)  # Use cosine distance for similarity\n",
    "        index.init_index(max_elements=len(texts), ef_construction=200, M=16)\n",
    "        \n",
    "        # Step 3: Add embeddings to the index\n",
    "        embeddings = np.array(embeddings, dtype=np.float32)\n",
    "        index.add_items(embeddings)\n",
    "\n",
    "        # Step 4: Return an instance of the custom vector store\n",
    "        return cls(index=index, embedding_model=embedding_model, documents=texts)"
   ]
  },
  {
   "cell_type": "markdown",
   "metadata": {},
   "source": [
    "## test hnsw"
   ]
  },
  {
   "cell_type": "code",
   "execution_count": 257,
   "metadata": {},
   "outputs": [],
   "source": [
    "dim = 3072  # Dimensionality of the embedding vectors (adjust to match your model's output)\n",
    "num_elements = len(documents)  # Number of elements in your dataset\n",
    "\n",
    "# Initialize the HNSW index with 'cosine' similarity space\n",
    "index = hnswlib.Index(space='cosine', dim=dim)\n",
    "\n",
    "\n",
    "# PARAMETERS to tweak\n",
    "ef = 200 # 200 # Controls the quality of the graph construction\n",
    "M = 16  # 16   # Controls the number of neighbors for each node in the graph\n",
    "\n",
    "# Initialize the index with the number of elements\n",
    "index.init_index(max_elements=num_elements, ef_construction=ef, M=M)\n",
    "\n",
    "# Embed the documents\n",
    "texts = [doc.page_content for doc in documents]\n",
    "document_embeddings = embeddings.embed_documents(texts)\n",
    "\n",
    "\n",
    "# Convert document embeddings to numpy array and add them to the index\n",
    "document_embeddings = np.array(document_embeddings, dtype=np.float32)\n",
    "index.add_items(document_embeddings)\n",
    "\n",
    "# Create the custom vector store with HNSWLib\n",
    "vector_store = HNSWLibVectorStore(index=index, embedding_model=embeddings, documents=documents)"
   ]
  },
  {
   "cell_type": "code",
   "execution_count": 258,
   "metadata": {},
   "outputs": [
    {
     "name": "stdout",
     "output_type": "stream",
     "text": [
      "Document: (7) Applicant’s Tax Payment Certificate, Similarity score: 0.7448184490203857\n",
      "Document: be submitted to prove transactions within the last six months., Similarity score: 0.7824033498764038\n",
      "Document: * For business owners, proof of actual payment of tax must be submitted in addition to the BIR Tax, Similarity score: 0.7859665155410767\n",
      "Document: submitted), Similarity score: 0.7996006011962891\n",
      "Document: Registration” and Mayor’s Permit from the City Hall must be submitted., Similarity score: 0.8013794422149658\n",
      "Document: Payment Certificate Form (copy acceptable), Similarity score: 0.8068599700927734\n",
      "Document: issued within 1 year, Similarity score: 0.8082274198532104\n",
      "Document: (6) Applicant’s Bank Certificate (balance within the last six months must be shown), Similarity score: 0.8103916049003601\n",
      "Document: (2) Application Form ※（A facial Photo (4.5×3.5cm) must be attached.）, Similarity score: 0.8142542243003845\n",
      "Document: ※ Downloadable from this website   \n",
      "   COMMON REQUIREMENTS, Similarity score: 0.8189519643783569\n"
     ]
    }
   ],
   "source": [
    "# Perform a similarity search\n",
    "query = \"how much is the processing fee\"\n",
    "results = vector_store.similarity_search(query, k=10)\n",
    "\n",
    "# Print the results\n",
    "for doc, score in results:\n",
    "    print(f\"Document: {doc}, Similarity score: {score}\")"
   ]
  },
  {
   "cell_type": "markdown",
   "metadata": {},
   "source": [
    "evaluation"
   ]
  },
  {
   "cell_type": "code",
   "execution_count": 259,
   "metadata": {},
   "outputs": [],
   "source": [
    "import pandas as pd\n",
    "\n",
    "\n",
    "def evaluate(queries, vector_store=vector_store, k=3):\n",
    "    \n",
    "    _queries = []\n",
    "    _documents = []\n",
    "    _scores = []\n",
    "    for query in queries:\n",
    "        results = vector_store.similarity_search(query, k=k)\n",
    "        \n",
    "        for doc, score in results:\n",
    "            _documents.append(doc)\n",
    "            _scores.append(score)\n",
    "        \n",
    "        _queries = _queries + [query] * k\n",
    "    \n",
    "    evaluation = pd.DataFrame({\n",
    "        \"query\": _queries,\n",
    "        \"document\": _documents,\n",
    "        \"score\": _scores\n",
    "    })\n",
    "    \n",
    "    \n",
    "    \n",
    "    return evaluation\n",
    "        \n",
    "    "
   ]
  },
  {
   "cell_type": "code",
   "execution_count": 260,
   "metadata": {},
   "outputs": [],
   "source": [
    "temp_queries = [\n",
    "    \"What are the requirements for tourists visa?\",\n",
    "    \"What are the difference between tourists and visit relative or friend visa?\",\n",
    "    \"How can avail the visa for Japan as tourists?\",\n",
    "    \"What the tourists mean visa\",\n",
    "    \"When your office open ?\"\n",
    "]"
   ]
  },
  {
   "cell_type": "code",
   "execution_count": 261,
   "metadata": {},
   "outputs": [],
   "source": [
    "result = evaluate(temp_queries)"
   ]
  },
  {
   "cell_type": "markdown",
   "metadata": {},
   "source": [
    "## RAG"
   ]
  },
  {
   "cell_type": "code",
   "execution_count": 305,
   "metadata": {},
   "outputs": [],
   "source": [
    "from langchain_core.prompts import ChatPromptTemplate\n",
    "\n",
    "\n",
    "class RAG:\n",
    "    \n",
    "    def __init__(self, documents, llm, embeddings, ef=200, M=16, chunk_size=100, chunk_overlap=20):\n",
    "        self.chunk_size = chunk_size\n",
    "        self.chunk_overlap = chunk_overlap\n",
    "        self.documents = documents\n",
    "        self.llm = llm \n",
    "        self.embeddings = embeddings\n",
    "        self.vector_store = self.__configureVectorStore(ef=ef, M=M)\n",
    "        self.prompt_template = self.__configurePromptTemplate()\n",
    "        \n",
    "    \n",
    "    def __splitDocuments(self):\n",
    "        \"\"\"Documents further splitting\n",
    "\n",
    "        Args:\n",
    "            documents (Document): This Document is too large because it is per PDF pages.\n",
    "        \n",
    "        Return:\n",
    "            additional_documents: documents that are splitted more\n",
    "        \"\"\"\n",
    "        \n",
    "        splitter = RecursiveCharacterTextSplitter(\n",
    "            chunk_size=self.chunk_size,\n",
    "            chunk_overlap=self.chunk_overlap,\n",
    "            length_function=len,\n",
    "            is_separator_regex=False,\n",
    "        )\n",
    "        \n",
    "        additional_documents = []\n",
    "        for document in documents:\n",
    "            # Split the content of each document using the splitter\n",
    "            current_documents = splitter.create_documents([document.page_content])\n",
    "            # Add metadata to each new chunk (preserving original document metadata)\n",
    "            for chunk in current_documents:\n",
    "                chunk.metadata = document.metadata\n",
    "                \n",
    "            additional_documents.append(current_documents)\n",
    "        \n",
    "        return additional_documents\n",
    "\n",
    "        \n",
    "    def __configureVectorStore(self, ef, M):\n",
    "        \n",
    "        # SPLITTING TEXT\n",
    "        self.documents = self.documents + self.__splitDocuments()[0]\n",
    "        \n",
    "        # VECTORIZING\n",
    "        texts = [doc.page_content for doc in self.documents]\n",
    "        document_embeddings = self.embeddings.embed_documents(texts)\n",
    "        document_embeddings = np.array(document_embeddings, dtype=np.float32)\n",
    "        \n",
    "        dim = len(document_embeddings[0])\n",
    "        num_elements = len(self.documents) \n",
    "        \n",
    "        # INDEXING\n",
    "        index = hnswlib.Index(space='cosine', dim=dim)\n",
    "        index.init_index(max_elements=num_elements, ef_construction=ef, M=M)\n",
    "        index.add_items(document_embeddings)\n",
    "        \n",
    "        return HNSWLibVectorStore(index=index, embedding_model=self.embeddings, documents=self.documents)\n",
    "    \n",
    "    \n",
    "    def __configurePromptTemplate(self):\n",
    "        system_template = \"\"\"\n",
    "                            Answer the following based on this {context}, \n",
    "                            otherwise just give this url (https://www.ph.emb-japan.go.jp/itpr_en/00_000035.html) \n",
    "                            for more information about Japan Visa\n",
    "                        \"\"\"\n",
    "        return ChatPromptTemplate.from_messages([(\"system\", system_template), (\"user\", \"{query}\")])\n",
    "    \n",
    "        \n",
    "    def response(self, query):\n",
    "        \"\"\"\"return the response as str\"\"\"\n",
    "        \n",
    "        query = query + \" attic tours\"\n",
    "        \n",
    "        # ------------RETRIEVE------------\n",
    "        # SIMILARITY SEARCH\n",
    "        context = self.vector_store.similarity_search(query, k=10)\n",
    "        \n",
    "        # ------------AUGMENTED------------\n",
    "        prompt = self.prompt_template.invoke({\n",
    "            \"context\": context,\n",
    "            \"query\": query \n",
    "        })\n",
    "        \n",
    "        # ------------GENERATION------------\n",
    "        response = self.llm.invoke(prompt)\n",
    "        \n",
    "        return response.content"
   ]
  },
  {
   "cell_type": "code",
   "execution_count": 306,
   "metadata": {},
   "outputs": [],
   "source": [
    "from langchain_openai import ChatOpenAI\n",
    "\n",
    "\n",
    "llm = ChatOpenAI(model=\"gpt-4o-mini\")\n",
    "\n",
    "rag = RAG(documents=documents, llm=llm, embeddings=embeddings)"
   ]
  },
  {
   "cell_type": "code",
   "execution_count": 309,
   "metadata": {},
   "outputs": [],
   "source": [
    "response = rag.response(\"how much to process japan visa?\")"
   ]
  },
  {
   "cell_type": "code",
   "execution_count": 310,
   "metadata": {},
   "outputs": [
    {
     "name": "stdout",
     "output_type": "stream",
     "text": [
      "The processing fee for a Japan visa at Attic Tours is 1,680 pesos per person. If you want to apply for multiple visas, you need to add 500 pesos, making it a total of 2,180 pesos per person.\n"
     ]
    }
   ],
   "source": [
    "print(response)"
   ]
  }
 ],
 "metadata": {
  "kernelspec": {
   "display_name": ".venv",
   "language": "python",
   "name": "python3"
  },
  "language_info": {
   "codemirror_mode": {
    "name": "ipython",
    "version": 3
   },
   "file_extension": ".py",
   "mimetype": "text/x-python",
   "name": "python",
   "nbconvert_exporter": "python",
   "pygments_lexer": "ipython3",
   "version": "3.11.1"
  }
 },
 "nbformat": 4,
 "nbformat_minor": 2
}
