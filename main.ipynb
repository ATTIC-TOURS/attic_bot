{
 "cells": [
  {
   "cell_type": "markdown",
   "metadata": {},
   "source": [
    "# RAG (main)"
   ]
  },
  {
   "cell_type": "markdown",
   "metadata": {},
   "source": [
    "## Dependencies"
   ]
  },
  {
   "cell_type": "code",
   "execution_count": 1,
   "metadata": {},
   "outputs": [],
   "source": [
    "import os\n",
    "from dotenv import load_dotenv\n",
    "from langchain_openai import OpenAIEmbeddings, ChatOpenAI\n",
    "from langchain_core.prompts import ChatPromptTemplate"
   ]
  },
  {
   "cell_type": "code",
   "execution_count": 2,
   "metadata": {},
   "outputs": [
    {
     "data": {
      "text/plain": [
       "True"
      ]
     },
     "execution_count": 2,
     "metadata": {},
     "output_type": "execute_result"
    }
   ],
   "source": [
    "# load the environment variables\n",
    "load_dotenv() "
   ]
  },
  {
   "cell_type": "code",
   "execution_count": 3,
   "metadata": {},
   "outputs": [],
   "source": [
    "# setup\n",
    "\n",
    "# LangChain\n",
    "os.environ[\"LANGCHAIN_TRACING_V2\"] = \"true\"\n",
    "os.environ[\"LANGCHAIN_API_KEY\"] = os.getenv(\"LANGCHAIN_API_KEY\")\n",
    "os.environ[\"LANGCHAIN_ENDPOINT\"] = os.getenv(\"LANGCHAIN_ENDPOINT\")\n",
    "os.environ[\"LANGCHAIN_PROJECT\"] = os.getenv(\"LANGCHAIN_PROJECT\")\n",
    "\n",
    "# OpenAI\n",
    "os.environ[\"OPENAI_API_KEY\"] = os.getenv(\"OPENAI_API_KEY\")"
   ]
  },
  {
   "cell_type": "markdown",
   "metadata": {},
   "source": [
    "## Documents"
   ]
  },
  {
   "cell_type": "markdown",
   "metadata": {},
   "source": [
    "Things to Consider\n",
    "- chunking level\n",
    "- data cleaning\n",
    "- meta data"
   ]
  },
  {
   "cell_type": "code",
   "execution_count": 4,
   "metadata": {},
   "outputs": [],
   "source": [
    "from langchain_community.document_loaders import PyPDFLoader\n",
    "\n",
    "pdf_paths = [\n",
    "    \"https://www.ph.emb-japan.go.jp/files/100508281.pdf\", # TOURISM\n",
    "    \"https://www.ph.emb-japan.go.jp/files/100412012.pdf\", # PACKAGE TOUR\n",
    "    \"https://www.ph.emb-japan.go.jp/files/100508282.pdf\", # BUSINESS, CONFERENCE or CULTURAL EXCHANGE, etc.\n",
    "    \"https://www.ph.emb-japan.go.jp/files/100508283.pdf\", # VISITING RELATIVES\n",
    "    \"https://www.ph.emb-japan.go.jp/files/100508284.pdf\", # VISITING FRIENDS OR DISTANT RELATIVES\n",
    "    \"https://www.ph.emb-japan.go.jp/files/100508285.pdf\", # VISITING US MILITARY PERSONNEL\n",
    "    \"https://www.ph.emb-japan.go.jp/files/100585068.pdf\", # SPOUSE OR CHLID OF JAPANESE NATIONAL RESIDING IN THE PHILIPPINES\n",
    "    \"https://www.ph.emb-japan.go.jp/files/100508287.pdf\", # TRANSIT\n",
    "    \"https://www.ph.emb-japan.go.jp/files/100508288.pdf\", # MULTIPLE-ENTRY VISA FOR TEMPORARY VISITOR\n",
    "    \"https://www.ph.emb-japan.go.jp/files/100674192.pdf\", # MULTIPLE-ENTRY TEMPORARY VISITOR VISA (PHILIPPINE NATIONALS WITH CONSIDERABLE FINANCIAL CAPACITY) \n",
    "    \"https://www.ph.emb-japan.go.jp/files/100404404.pdf\", # MULTIPLE-ENTRY VISA FOR TEMPORARY VISITOR\n",
    "    \"https://www.ph.emb-japan.go.jp/files/100479463.pdf\", # STUDENT, WORKER AND DEPENDENT\n",
    "    \"https://www.ph.emb-japan.go.jp/files/100415046.pdf\", # OFFICIAL \n",
    "    \"https://www.ph.emb-japan.go.jp/files/100415047.pdf\", # HOUSEKEEPER OF DIPLOMAT/OFFICIAL\n",
    "    \"https://www.ph.emb-japan.go.jp/files/100415048.pdf\", # NIKKEI-JIN (JAPANESE DESCENDANT)\n",
    "    \"https://www.ph.emb-japan.go.jp/files/100508289.pdf\", # FILIPINO PARENTS TRAVELLING TO JAPAN WITH JAPANESE-FILIPINO CHILDREN\n",
    "]\n",
    "headers = {\n",
    "    \"User-Agent\": \"Mozilla/5.0 (Linux; Android 6.0; Nexus 5 Build/MRA58N) AppleWebKit/537.36 (KHTML, like Gecko) Chrome/131.0.0.0 Mobile Safari/537.36\"\n",
    "    }\n",
    "\n",
    "pages = []\n",
    "for pdf_path in pdf_paths:\n",
    "    loader = PyPDFLoader(pdf_path, headers=headers)\n",
    "    async for page in loader.alazy_load():\n",
    "        pages.append(page)"
   ]
  },
  {
   "cell_type": "code",
   "execution_count": 13,
   "metadata": {},
   "outputs": [
    {
     "data": {
      "text/plain": [
       "Document(metadata={'source': 'https://www.ph.emb-japan.go.jp/files/100508281.pdf', 'page': 0}, page_content='TOURISM   \\nMay 2024  \\n  \\nA. PURPOSE  \\nVisit Japan for tourism.  \\n  \\nB. Requirements（Details→https://www.ph.emb-japan.go.jp/itpr_ja/11_000001_00898.html）  \\n    \\n※ Downloadable from this website   \\n      \\n(1) Passport（Holder’s signature required）  \\n(2) Application Form ※（A facial Photo (4.5×3.5cm) must be attached.）  \\n(3) PSA issued Birth Certificate and Marriage Certificate (for married applicants), issued within 1 year \\n☞ Unnecessary if there is used Japan Visa on passport. \\n【ADDITIONAL REQUIREMENTS】  \\n- If (3) is unreadable, submit Birth/Marriage certificate issued by Local Civil Registrar.  \\n- If Birth Certificate is “LATE REGISTRATION”, submit Baptismal Certificate and School Record (Form 137).  \\n-If there is no record of Birth/Marriage in PSA, submit Birth Certificate issued by Local Civil Registrar and Negative  \\nCertificate issued by PSA.  \\n(4) Itinerary in Japan  \\n \\n【In case that applicant will shoulder part/all of travel expense】   \\n \\n(5) Applicant’s Bank Certificate (balance within the last six months must be shown)  \\n* If the Average Daily Balance (ADB) in the last six months is not indicated, bank statement must be \\nsubmitted to prove transactions within the last six months. \\n(6) Applicant’s Tax Payment Certificate  \\n* Form 2316, must have signature of the Employer and Employee \\n* For business owners, proof of actual payment of tax must be submitted in addition to the BIR Tax \\nPayment Certificate Form (copy acceptable) \\n(7) Applicant’s Employment Certificate (must indicate period of employment, salary and position) \\n* For business owners, Department of Trade and Industry (DTI) “Certificate of Business Name \\nRegistration” and Mayor’s Permit from the City Hall must be submitted.  \\n* If for any reason other than being a retiree, full-time housewife or unemployed, applicant is unable to \\nsubmit (6) and (7) above, a letter of explanation about the reason must be submitted. For students, a \\ncopy of School ID or Certificate of Enrollment in School must be submitted. \\n  \\n【In case that guarantor in the Philippines will shoulder part/all of travel expense】  \\n(8) Guarantee Letter ※  \\n(9) Proof of relationship between applicant and guarantor(e.g. Birth Certificates or Photos)  \\n(10) Bank Certificate [see (5) above] \\n(11) Photocopy of Tax Payment Certificate [see (6) above]  \\n(12) Employment Certificate [see (7) above] \\n  \\n  ')"
      ]
     },
     "execution_count": 13,
     "metadata": {},
     "output_type": "execute_result"
    }
   ],
   "source": [
    "pages[0]"
   ]
  },
  {
   "cell_type": "code",
   "execution_count": 5,
   "metadata": {},
   "outputs": [
    {
     "name": "stdout",
     "output_type": "stream",
     "text": [
      "page_content='TOURISM   \n",
      "May 2024  \n",
      "  \n",
      "A. PURPOSE  \n",
      "Visit Japan for tourism.  \n",
      "  \n",
      "B. Requirements（Details→https://www.ph.emb-japan.go.jp/itpr_ja/11_000001_00898.html）  \n",
      "    \n",
      "※ Downloadable from this website   \n",
      "      \n",
      "(1) Passport（Holder’s signature required）  \n",
      "(2) Application Form ※（A facial Photo (4.5×3.5cm) must be attached.）  \n",
      "(3) PSA issued Birth Certificate and Marriage Certificate (for married applicants), issued within 1 year \n",
      "☞ Unnecessary if there is used Japan Visa on passport. \n",
      "【ADDITIONAL REQUIREMENTS】  \n",
      "- If (3) is unreadable, submit Birth/Marriage certificate issued by Local Civil Registrar.  \n",
      "- If Birth Certificate is “LATE REGISTRATION”, submit Baptismal Certificate and School Record (Form 137).  \n",
      "-If there is no record of Birth/Marriage in PSA, submit Birth Certificate issued by Local Civil Registrar and Negative  \n",
      "Certificate issued by PSA.  \n",
      "(4) Itinerary in Japan  \n",
      " \n",
      "【In case that applicant will shoulder part/all of travel expense】   \n",
      " \n",
      "(5) Applicant’s Bank Certificate (balance within the last six months must be shown)  \n",
      "* If the Average Daily Balance (ADB) in the last six months is not indicated, bank statement must be \n",
      "submitted to prove transactions within the last six months. \n",
      "(6) Applicant’s Tax Payment Certificate  \n",
      "* Form 2316, must have signature of the Employer and Employee \n",
      "* For business owners, proof of actual payment of tax must be submitted in addition to the BIR Tax \n",
      "Payment Certificate Form (copy acceptable) \n",
      "(7) Applicant’s Employment Certificate (must indicate period of employment, salary and position) \n",
      "* For business owners, Department of Trade and Industry (DTI) “Certificate of Business Name \n",
      "Registration” and Mayor’s Permit from the City Hall must be submitted.  \n",
      "* If for any reason other than being a retiree, full-time housewife or unemployed, applicant is unable to \n",
      "submit (6) and (7) above, a letter of explanation about the reason must be submitted. For students, a \n",
      "copy of School ID or Certificate of Enrollment in School must be submitted. \n",
      "  \n",
      "【In case that guarantor in the Philippines will shoulder part/all of travel expense】  \n",
      "(8) Guarantee Letter ※  \n",
      "(9) Proof of relationship between applicant and guarantor(e.g. Birth Certificates or Photos)  \n",
      "(10) Bank Certificate [see (5) above] \n",
      "(11) Photocopy of Tax Payment Certificate [see (6) above]  \n",
      "(12) Employment Certificate [see (7) above] \n",
      "  \n",
      "  ' metadata={'source': 'https://www.ph.emb-japan.go.jp/files/100508281.pdf', 'page': 0}\n"
     ]
    }
   ],
   "source": [
    "print(pages[0])"
   ]
  },
  {
   "cell_type": "markdown",
   "metadata": {},
   "source": [
    "## Embeddings"
   ]
  },
  {
   "cell_type": "markdown",
   "metadata": {},
   "source": [
    "Things to Consider\n",
    "- Evaluation Metric\n",
    "- dataset\n",
    "- model"
   ]
  },
  {
   "cell_type": "code",
   "execution_count": 6,
   "metadata": {},
   "outputs": [],
   "source": [
    "embeddings = OpenAIEmbeddings(model=\"text-embedding-3-large\")"
   ]
  },
  {
   "cell_type": "markdown",
   "metadata": {},
   "source": [
    "## Vector Database"
   ]
  },
  {
   "cell_type": "markdown",
   "metadata": {},
   "source": [
    "Things to Consider\n",
    "- Evaluation Metric\n",
    "- HNSW parameters"
   ]
  },
  {
   "cell_type": "code",
   "execution_count": 7,
   "metadata": {},
   "outputs": [],
   "source": [
    "from langchain_core.vectorstores import InMemoryVectorStore\n",
    "\n",
    "vector_store = InMemoryVectorStore.from_documents(pages, embeddings)"
   ]
  },
  {
   "cell_type": "code",
   "execution_count": 8,
   "metadata": {},
   "outputs": [
    {
     "name": "stdout",
     "output_type": "stream",
     "text": [
      "Page 0: TOURISM   \n",
      "May 2024  \n",
      "  \n",
      "A. PURPOSE  \n",
      "Visit Japan for tourism.  \n",
      "  \n",
      "B. Requirements（Details→https://www.ph.emb-japan.go.jp/itpr_ja/11_000001_00898.html）  \n",
      "    \n",
      "※ Downloadable from this website   \n",
      "      \n",
      "(1) Passport（Holder’s signature required）  \n",
      "(2) Application Form ※（A facial Photo (4.5×3.5cm) must be attached.）  \n",
      "(3) PSA issued Birth Certificate and Marriage Certificate (for married applicants), issued within 1 year \n",
      "☞ Unnecessary if there is used Japan Visa on passport. \n",
      "【ADDITIONAL REQUIREMENTS】  \n",
      "- If (3) is unreadable, submit Birth/Marriage certificate issued by Local Civil Registrar.  \n",
      "- If Birth Certificate is “LATE REGISTRATION”, submit Baptismal Certificate and School Record (Form 137).  \n",
      "-If there is no record of Birth/Marriage in PSA, submit Birth Certificate issued by Local Civil Registrar and Negative  \n",
      "Certificate issued by PSA.  \n",
      "(4) Itinerary in Japan  \n",
      " \n",
      "【In case that applicant will shoulder part/all of travel expense】   \n",
      " \n",
      "(5) Applicant’s Bank Certificate (balance within the last six months must be shown)  \n",
      "* If the Average Daily Balance (ADB) in the last six months is not indicated, bank statement must be \n",
      "submitted to prove transactions within the last six months. \n",
      "(6) Applicant’s Tax Payment Certificate  \n",
      "* Form 2316, must have signature of the Employer and Employee \n",
      "* For business owners, proof of actual payment of tax must be submitted in addition to the BIR Tax \n",
      "Payment Certificate Form (copy acceptable) \n",
      "(7) Applicant’s Employment Certificate (must indicate period of employment, salary and position) \n",
      "* For business owners, Department of Trade and Industry (DTI) “Certificate of Business Name \n",
      "Registration” and Mayor’s Permit from the City Hall must be submitted.  \n",
      "* If for any reason other than being a retiree, full-time housewife or unemployed, applicant is unable to \n",
      "submit (6) and (7) above, a letter of explanation about the reason must be submitted. For students, a \n",
      "copy of School ID or Certificate of Enrollment in School must be submitted. \n",
      "  \n",
      "【In case that guarantor in the Philippines will shoulder part/all of travel expense】  \n",
      "(8) Guarantee Letter ※  \n",
      "(9) Proof of relationship between applicant and guarantor(e.g. Birth Certificates or Photos)  \n",
      "(10) Bank Certificate [see (5) above] \n",
      "(11) Photocopy of Tax Payment Certificate [see (6) above]  \n",
      "(12) Employment Certificate [see (7) above] \n",
      "  \n",
      "  \n",
      "\n"
     ]
    }
   ],
   "source": [
    "# check\n",
    "\n",
    "docs = vector_store.similarity_search(\"What is the requirements for tourism?\", k=1)\n",
    "for doc in docs:\n",
    "    print(f'Page {doc.metadata[\"page\"]}: {doc.page_content}\\n')"
   ]
  },
  {
   "cell_type": "markdown",
   "metadata": {},
   "source": [
    "## Prompt Template"
   ]
  },
  {
   "cell_type": "code",
   "execution_count": 9,
   "metadata": {},
   "outputs": [],
   "source": [
    "system_template = \"\"\"\n",
    "Answer the following based on this {context}, \n",
    "otherwise just give this url (https://www.ph.emb-japan.go.jp/itpr_en/00_000035.html) \n",
    "for more information about Japan Visa\"\"\"\n",
    "\n",
    "prompt_template = ChatPromptTemplate.from_messages(\n",
    "    [(\"system\", system_template), (\"user\", \"{question}\")]\n",
    ")"
   ]
  },
  {
   "cell_type": "markdown",
   "metadata": {},
   "source": [
    "## LLM"
   ]
  },
  {
   "cell_type": "code",
   "execution_count": 10,
   "metadata": {},
   "outputs": [],
   "source": [
    "llm = ChatOpenAI(model=\"gpt-4o-mini\")"
   ]
  },
  {
   "cell_type": "markdown",
   "metadata": {},
   "source": [
    "## RAG"
   ]
  },
  {
   "cell_type": "markdown",
   "metadata": {},
   "source": [
    "Things to Consider\n",
    "- Evaluation Metric"
   ]
  },
  {
   "cell_type": "code",
   "execution_count": 11,
   "metadata": {},
   "outputs": [],
   "source": [
    "# USER QUESTION\n",
    "question = input(\"question:\")\n",
    "\n",
    "# search similarity to the vector database (context)\n",
    "context = vector_store.similarity_search(question, k=1)\n",
    "\n",
    "# augmented prompt\n",
    "prompt = prompt_template.invoke({\n",
    "    \"context\": context,\n",
    "    \"question\": question\n",
    "})\n",
    "\n",
    "# generate response\n",
    "response = llm.invoke(prompt)"
   ]
  },
  {
   "cell_type": "code",
   "execution_count": 12,
   "metadata": {},
   "outputs": [
    {
     "name": "stdout",
     "output_type": "stream",
     "text": [
      "The requirements for a Nikkei-Jin Japan visa include the following:\n",
      "\n",
      "1. Background history about the 1st and 2nd Generation in English and its Japanese translation.\n",
      "2. Birth Certificates for the spouse of the 1st Generation, the 2nd Generation, and their spouses.\n",
      "3. Marriage Certificates for the 1st and 2nd Generation.\n",
      "4. Death Certificates if the 1st or 2nd Generation is deceased (if the certificate is unreadable, submit a Death Certificate issued by the Local Civil Registrar; if no record of death in PSA, submit a Death Certificate from Local Civil Registrar and a Negative Certificate from PSA).\n",
      "5. Family Photo of the 1st and 2nd Generation and their descendants.\n",
      "6. If the 2nd Generation is not registered in Koseki-tohon, submit documents to indicate the 1st Generation’s migration to the Philippines (such as the 1st Generation’s Wedding Photo, passport, or Koseki-tohon).\n",
      "7. Documents to indicate the relationship between the descendants of the 2nd Generation in the Philippines and their relatives in Japan (like letters from relatives or photos taken during visits).\n",
      "8. Other documents to indicate the relationship between the 1st and present Generation.\n",
      "\n",
      "Additionally, if you are being supported by relatives in Japan, you will need to provide:\n",
      "- A Letter of Guarantee.\n",
      "- A Guarantor’s Residence Certificate (Jumin-hyo), which must describe all household members without omission, though the Individual Number and Jumin-hyo Code must be omitted or blotted out.\n",
      "\n",
      "For more detailed information, please visit [Japan Visa Information](https://www.ph.emb-japan.go.jp/itpr_en/00_000035.html).\n"
     ]
    }
   ],
   "source": [
    "print(response.content)"
   ]
  }
 ],
 "metadata": {
  "kernelspec": {
   "display_name": ".venv",
   "language": "python",
   "name": "python3"
  },
  "language_info": {
   "codemirror_mode": {
    "name": "ipython",
    "version": 3
   },
   "file_extension": ".py",
   "mimetype": "text/x-python",
   "name": "python",
   "nbconvert_exporter": "python",
   "pygments_lexer": "ipython3",
   "version": "3.11.1"
  }
 },
 "nbformat": 4,
 "nbformat_minor": 2
}
