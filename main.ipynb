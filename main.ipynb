{
 "cells": [
  {
   "cell_type": "markdown",
   "metadata": {},
   "source": [
    "# RAG (main)"
   ]
  },
  {
   "cell_type": "markdown",
   "metadata": {},
   "source": [
    "## Dependencies"
   ]
  },
  {
   "cell_type": "code",
   "execution_count": 43,
   "metadata": {},
   "outputs": [],
   "source": [
    "import os\n",
    "from dotenv import load_dotenv\n",
    "from langchain_openai import OpenAIEmbeddings, ChatOpenAI\n",
    "from langchain_core.prompts import ChatPromptTemplate\n",
    "import hnswlib\n",
    "import numpy as np\n",
    "from langchain.vectorstores import VectorStore\n",
    "from langchain_community.document_loaders import PyPDFLoader\n",
    "from langchain_core.vectorstores import InMemoryVectorStore\n",
    "import pandas as pd\n",
    "import spacy\n",
    "from nltk.translate.bleu_score import sentence_bleu, SmoothingFunction"
   ]
  },
  {
   "cell_type": "markdown",
   "metadata": {},
   "source": [
    "## Environment Setup"
   ]
  },
  {
   "cell_type": "code",
   "execution_count": 44,
   "metadata": {},
   "outputs": [],
   "source": [
    "# load the environment variables\n",
    "load_dotenv() \n",
    "\n",
    "os.environ[\"LANGCHAIN_TRACING_V2\"] = \"true\"\n",
    "os.environ[\"LANGCHAIN_API_KEY\"] = os.getenv(\"LANGCHAIN_API_KEY\")\n",
    "os.environ[\"LANGCHAIN_ENDPOINT\"] = os.getenv(\"LANGCHAIN_ENDPOINT\")\n",
    "os.environ[\"LANGCHAIN_PROJECT\"] = os.getenv(\"LANGCHAIN_PROJECT\")\n",
    "os.environ[\"OPENAI_API_KEY\"] = os.getenv(\"OPENAI_API_KEY\")"
   ]
  },
  {
   "cell_type": "markdown",
   "metadata": {},
   "source": [
    "## Retrieve PDFs (target)"
   ]
  },
  {
   "cell_type": "markdown",
   "metadata": {},
   "source": [
    "Things to Consider\n",
    "- chunking level\n",
    "- data cleaning\n",
    "- meta data"
   ]
  },
  {
   "cell_type": "code",
   "execution_count": 45,
   "metadata": {},
   "outputs": [],
   "source": [
    "# PDFs (target)\n",
    "pdf_urls = [\n",
    "    \"https://www.ph.emb-japan.go.jp/files/100508281.pdf\", # TOURISM\n",
    "    \"https://www.ph.emb-japan.go.jp/files/100508282.pdf\", # BUSINESS, CONFERENCE or CULTURAL EXCHANGE, etc.\n",
    "    \"https://www.ph.emb-japan.go.jp/files/100508283.pdf\", # VISITING RELATIVES\n",
    "    \"https://www.ph.emb-japan.go.jp/files/100508284.pdf\", # VISITING FRIENDS OR DISTANT RELATIVES\n",
    "    \"https://www.ph.emb-japan.go.jp/files/100508285.pdf\", # VISITING US MILITARY PERSONNEL\n",
    "    \"https://www.ph.emb-japan.go.jp/files/100585068.pdf\", # SPOUSE OR CHLID OF JAPANESE NATIONAL RESIDING IN THE PHILIPPINES\n",
    "    \"https://www.ph.emb-japan.go.jp/files/100508287.pdf\", # TRANSIT\n",
    "    \"https://www.ph.emb-japan.go.jp/files/100508288.pdf\", # MULTIPLE-ENTRY VISA FOR TEMPORARY VISITOR\n",
    "    \"https://www.ph.emb-japan.go.jp/files/100674192.pdf\", # MULTIPLE-ENTRY TEMPORARY VISITOR VISA (PHILIPPINE NATIONALS WITH CONSIDERABLE FINANCIAL CAPACITY) \n",
    "    \"https://www.ph.emb-japan.go.jp/files/100404404.pdf\", # MULTIPLE-ENTRY VISA FOR TEMPORARY VISITOR\n",
    "    \"https://www.ph.emb-japan.go.jp/files/100479463.pdf\", # STUDENT, WORKER AND DEPENDENT\n",
    "    \"https://www.ph.emb-japan.go.jp/files/100415046.pdf\", # OFFICIAL \n",
    "    \"https://www.ph.emb-japan.go.jp/files/100415047.pdf\", # HOUSEKEEPER OF DIPLOMAT/OFFICIAL\n",
    "    \"https://www.ph.emb-japan.go.jp/files/100415048.pdf\", # NIKKEI-JIN (JAPANESE DESCENDANT)\n",
    "    \"https://www.ph.emb-japan.go.jp/files/100508289.pdf\", # FILIPINO PARENTS TRAVELLING TO JAPAN WITH JAPANESE-FILIPINO CHILDREN\n",
    "]\n",
    "\n",
    "headers = {\n",
    "    \"User-Agent\": \"Mozilla/5.0 (Linux; Android 6.0; Nexus 5 Build/MRA58N) AppleWebKit/537.36 (KHTML, like Gecko) Chrome/131.0.0.0 Mobile Safari/537.36\"\n",
    "    }"
   ]
  },
  {
   "cell_type": "markdown",
   "metadata": {},
   "source": [
    "data cleaning"
   ]
  },
  {
   "cell_type": "code",
   "execution_count": 46,
   "metadata": {},
   "outputs": [
    {
     "name": "stderr",
     "output_type": "stream",
     "text": [
      "[nltk_data] Downloading package stopwords to\n",
      "[nltk_data]     /Users/krimssmirk/nltk_data...\n",
      "[nltk_data]   Package stopwords is already up-to-date!\n"
     ]
    }
   ],
   "source": [
    "import re\n",
    "import nltk\n",
    "from nltk.corpus import stopwords\n",
    "\n",
    "# Download stopwords if you haven't already\n",
    "nltk.download('stopwords')\n",
    "\n",
    "# Function to clean text\n",
    "def clean_text(text):\n",
    "    # Remove URLs (matches both http://, https:// and other URLs)\n",
    "    text = re.sub(r'http[s]?://\\S+', '', text)\n",
    "\n",
    "    # Remove dates (matches common formats like '12/01/2021', '2021-12-01', etc.)\n",
    "    text = re.sub(r'\\b(?:\\d{1,2}[-/]\\d{1,2}[-/]\\d{2,4}|\\d{4}[-/]\\d{1,2}[-/]\\d{1,2})\\b', '', text)\n",
    "\n",
    "    # Convert text to lowercase\n",
    "    text = text.lower()\n",
    "\n",
    "    # Remove non-alphabetic characters (this keeps only words)\n",
    "    text = re.sub(r'[^a-z\\s]', '', text)\n",
    "\n",
    "    # Remove stopwords\n",
    "    stop_words = set(stopwords.words('english'))\n",
    "    words = text.split()\n",
    "    words = [word for word in words if word not in stop_words]\n",
    "\n",
    "    # Join words back into a single string\n",
    "    cleaned_text = ' '.join(words)\n",
    "\n",
    "    return cleaned_text\n"
   ]
  },
  {
   "cell_type": "markdown",
   "metadata": {},
   "source": [
    "prepare documents to index"
   ]
  },
  {
   "cell_type": "code",
   "execution_count": 47,
   "metadata": {},
   "outputs": [],
   "source": [
    "documents = []\n",
    "for url in pdf_urls:\n",
    "    loader = PyPDFLoader(url, headers=headers)\n",
    "    async for doc in loader.alazy_load():\n",
    "        doc.page_content = clean_text(doc.page_content)\n",
    "        documents.append(doc)"
   ]
  },
  {
   "cell_type": "markdown",
   "metadata": {},
   "source": [
    "## Embeddings"
   ]
  },
  {
   "cell_type": "markdown",
   "metadata": {},
   "source": [
    "Things to Consider\n",
    "- Evaluation Metric\n",
    "- dataset\n",
    "- model"
   ]
  },
  {
   "cell_type": "code",
   "execution_count": 48,
   "metadata": {},
   "outputs": [],
   "source": [
    "openai_embeddings = OpenAIEmbeddings(model=\"text-embedding-3-large\")"
   ]
  },
  {
   "cell_type": "markdown",
   "metadata": {},
   "source": [
    "## T5-small Embeddings"
   ]
  },
  {
   "cell_type": "code",
   "execution_count": null,
   "metadata": {},
   "outputs": [],
   "source": [
    "# class T5SmallEmbedding(Embeddings):\n",
    "#     def __init__(self):\n",
    "#         # Load pre-trained T5 small model and tokenizer\n",
    "#         self.model = T5EncoderModel.from_pretrained(\"t5-small\")\n",
    "#         self.tokenizer = T5Tokenizer.from_pretrained(\"t5-small\")\n",
    "    \n",
    "#     def embed_documents(self, documents):\n",
    "#         embeddings = []\n",
    "#         for doc in documents:\n",
    "#             inputs = self.tokenizer(doc, return_tensors='pt', truncation=True, padding=True, max_length=512)\n",
    "#             with torch.no_grad():\n",
    "#                 outputs = self.model(**inputs)\n",
    "#                 # Using the mean of the last hidden state as the document embedding\n",
    "#                 embedding = outputs.last_hidden_state.mean(dim=1).squeeze().numpy()\n",
    "#                 embeddings.append(embedding)\n",
    "#         return embeddings\n",
    "\n",
    "#     def embed_query(self, query):\n",
    "#         inputs = self.tokenizer(query, return_tensors='pt', truncation=True, padding=True, max_length=512)\n",
    "#         with torch.no_grad():\n",
    "#             outputs = self.model(**inputs)\n",
    "#             # Using the mean of the last hidden state as the query embedding\n",
    "#             embedding = outputs.last_hidden_state.mean(dim=1).squeeze().numpy()\n",
    "#         return embedding"
   ]
  },
  {
   "cell_type": "code",
   "execution_count": null,
   "metadata": {},
   "outputs": [
    {
     "name": "stderr",
     "output_type": "stream",
     "text": [
      "You are using the default legacy behaviour of the <class 'transformers.models.t5.tokenization_t5.T5Tokenizer'>. This is expected, and simply means that the `legacy` (previous) behavior will be used so nothing changes for you. If you want to use the new behaviour, set `legacy=False`. This should only be set if you understand what it means, and thoroughly read the reason why this was added as explained in https://github.com/huggingface/transformers/pull/24565\n"
     ]
    }
   ],
   "source": [
    "# Initialize the custom embedding class with your fine-tuned model and tokenizer\n",
    "# custom_embeddings = T5SmallEmbedding()"
   ]
  },
  {
   "cell_type": "code",
   "execution_count": 49,
   "metadata": {},
   "outputs": [],
   "source": [
    "embeddings_list = [\n",
    "    (\"openai embeddings\", openai_embeddings),\n",
    "    # (\"T5-small embeddings\", custom_embeddings)\n",
    "]"
   ]
  },
  {
   "cell_type": "markdown",
   "metadata": {},
   "source": [
    "## Vector Database (HNSW)"
   ]
  },
  {
   "cell_type": "markdown",
   "metadata": {},
   "source": [
    "Things to Consider\n",
    "- Evaluation Metric\n",
    "- HNSW parameters"
   ]
  },
  {
   "cell_type": "markdown",
   "metadata": {},
   "source": [
    "## HNSW"
   ]
  },
  {
   "cell_type": "code",
   "execution_count": 50,
   "metadata": {},
   "outputs": [],
   "source": [
    "class HNSWLibVectorStore(VectorStore):\n",
    "    def __init__(self, index, embedding_model, documents):\n",
    "        self.index = index\n",
    "        self.embedding_model = embedding_model\n",
    "        self.documents = [doc.page_content for doc in documents]\n",
    "\n",
    "    def similarity_search(self, query, k=3):\n",
    "        # Get embedding for the query\n",
    "        query_embedding = self.embedding_model.embed_documents([query])\n",
    "        query_embedding = np.array(query_embedding, dtype=np.float32)\n",
    "\n",
    "        # Perform the knn query\n",
    "        labels, distances = self.index.knn_query(query_embedding, k=k)\n",
    "\n",
    "        # Return the closest documents and their distances\n",
    "        results = [(self.documents[label], distances[0][i]) for i, label in enumerate(labels[0])]\n",
    "        return results\n",
    "    \n",
    "    @classmethod\n",
    "    def from_texts(cls, texts, embedding_model, **kwargs):\n",
    "        # Step 1: Get the embeddings for the texts\n",
    "        embeddings = embedding_model.embed(texts)\n",
    "        \n",
    "        # Step 2: Initialize the HNSW index (dimension should match embedding size)\n",
    "        dim = len(embeddings[0])\n",
    "        index = hnswlib.Index(space='cosine', dim=dim)  # Use cosine distance for similarity\n",
    "        index.init_index(max_elements=len(texts), ef_construction=200, M=16)\n",
    "        \n",
    "        # Step 3: Add embeddings to the index\n",
    "        embeddings = np.array(embeddings, dtype=np.float32)\n",
    "        index.add_items(embeddings)\n",
    "\n",
    "        # Step 4: Return an instance of the custom vector store\n",
    "        return cls(index=index, embedding_model=embedding_model, documents=texts)"
   ]
  },
  {
   "cell_type": "code",
   "execution_count": 37,
   "metadata": {},
   "outputs": [],
   "source": [
    "dim = 3072  # Dimensionality of the embedding vectors (adjust to match your model's output)\n",
    "num_elements = len(documents)  # Number of elements in your dataset\n",
    "\n",
    "# Initialize the HNSW index with 'cosine' similarity space\n",
    "index = hnswlib.Index(space='cosine', dim=dim)\n",
    "\n",
    "\n",
    "# PARAMETERS to tweak\n",
    "ef = 200 # 200 # Controls the quality of the graph construction\n",
    "M = 16  # 16   # Controls the number of neighbors for each node in the graph\n",
    "\n",
    "# Initialize the index with the number of elements\n",
    "index.init_index(max_elements=num_elements, ef_construction=ef, M=M)\n",
    "\n",
    "# Embed the documents\n",
    "texts = [doc.page_content for doc in documents]\n",
    "document_embeddings = embeddings_list[0][1].embed_documents(texts)\n",
    "\n",
    "\n",
    "# Convert document embeddings to numpy array and add them to the index\n",
    "document_embeddings = np.array(document_embeddings, dtype=np.float32)\n",
    "index.add_items(document_embeddings)\n",
    "\n",
    "\n"
   ]
  },
  {
   "cell_type": "code",
   "execution_count": 38,
   "metadata": {},
   "outputs": [
    {
     "name": "stdout",
     "output_type": "stream",
     "text": [
      "Document: business conference cultural exchange etc may purpose visit japan business meeting advertising sales service market research training etc practical training planned certificate eligibility required regardless length stay attend international conference seminar cultural exchange program etc b requirementsdetails downloadable website applicants requirements passportholders signature required application form facial photo cm must attached employment certificatecertificate membership applicant self employed submit certificate business registration travel orderdispatch letter case applicant shoulder partall travel expense bank certificate photocopy income tax return bir form inveiters requirements invitation letter itinerary japan tokibotohon company brochure pamphlet details companyorganization inviter listed company stock exchange photocopy latest quarterl report shikiho alternative inviter person company organization submit hisher employment certificate business license proof activities japan business trip photocopy contract material transaction meeting etc attend conferenceseminar pamphlet material conferenceseminar training acceptance letter trainee training schedule training schedule must include notes necessity training japan content method place period daily schedule person charge language used case guarantor shoulder partall travel expense guarantee letter, Similarity score: 0.7079429626464844\n",
      "Document: tourism may purpose visit japan tourism b requirementsdetails downloadable website passportholders signature required application form facial photo cm must attached psa issued birth certificate marriage certificate married applicants issued within year unnecessary used japan visa passport additional requirements unreadable submit birthmarriage certificate issued local civil registrar birth certificate late registration submit baptismal certificate school record form record birthmarriage psa submit birth certificate issued local civil registrar negative certificate issued psa itinerary japan case applicant shoulder partall travel expense applicants bank certificate balance within last six months must shown average daily balance adb last six months indicated bank statement must submitted prove transactions within last six months applicants tax payment certificate form must signature employer employee business owners proof actual payment tax must submitted addition bir tax payment certificate form copy acceptable applicants employment certificate must indicate period employment salary position business owners department trade industry dti certificate business name registration mayors permit city hall must submitted reason retiree fulltime housewife unemployed applicant unable submit letter explanation reason must submitted students copy school id certificate enrollment school must submitted case guarantor philippines shoulder partall travel expense guarantee letter proof relationship applicant guarantoreg birth certificates photos bank certificate see photocopy tax payment certificate see employment certificate see, Similarity score: 0.7311737537384033\n"
     ]
    }
   ],
   "source": [
    "# Create the custom vector store with HNSWLib\n",
    "vector_store = HNSWLibVectorStore(index=index, embedding_model=embeddings_list[0][1], documents=documents)\n",
    "\n",
    "# Perform a similarity search\n",
    "query = \"tourism\"\n",
    "results = vector_store.similarity_search(query, k=2)\n",
    "\n",
    "# Print the results\n",
    "for doc, score in results:\n",
    "    print(f\"Document: {doc}, Similarity score: {score}\")"
   ]
  },
  {
   "cell_type": "markdown",
   "metadata": {},
   "source": [
    "## RAG"
   ]
  },
  {
   "cell_type": "code",
   "execution_count": 51,
   "metadata": {},
   "outputs": [],
   "source": [
    "\n",
    "# PROMPT TEMPLATE\n",
    "system_template = \"\"\"\n",
    "Answer the following based on this {context}, \n",
    "otherwise just give this url (https://www.ph.emb-japan.go.jp/itpr_en/00_000035.html) \n",
    "for more information about Japan Visa\"\"\"\n",
    "\n",
    "prompt_template = ChatPromptTemplate.from_messages(\n",
    "    [(\"system\", system_template), (\"user\", \"{question}\")]\n",
    ")\n",
    "\n",
    "\n",
    "class RAG:\n",
    "    \n",
    "    def __init__(self, docs, embeddings, ef=200, M=16):\n",
    "        self.llm = ChatOpenAI(model=\"gpt-4o-mini\")\n",
    "        \n",
    "        # INDEX\n",
    "        # Embed the documents\n",
    "        texts = [doc.page_content for doc in documents]\n",
    "        document_embeddings = embeddings.embed_documents(texts)\n",
    "        # Convert document embeddings to numpy array and add them to the index\n",
    "        document_embeddings = np.array(document_embeddings, dtype=np.float32)\n",
    "        dim = len(document_embeddings[0])  # Dimensionality of the embedding vectors (adjust to match your model's output)\n",
    "        num_elements = len(docs)  # Number of elements in your dataset\n",
    "        # Initialize the HNSW index with 'cosine' similarity space\n",
    "        index = hnswlib.Index(space='cosine', dim=dim)\n",
    "        # Initialize the index with the number of elements\n",
    "        index.init_index(max_elements=num_elements, ef_construction=ef, M=M)\n",
    "        \n",
    "        index.add_items(document_embeddings)\n",
    "        \n",
    "        \n",
    "        self.custom_vector_db = HNSWLibVectorStore(index=index, embedding_model=embeddings, documents=docs)\n",
    "        self.vector_store = InMemoryVectorStore.from_documents(docs, embeddings)\n",
    "        system_template = \"\"\"\n",
    "                            Answer the following based on this {context}, \n",
    "                            otherwise just give this url (https://www.ph.emb-japan.go.jp/itpr_en/00_000035.html) \n",
    "                            for more information about Japan Visa\n",
    "                            \"\"\"\n",
    "        self.prompt_template = ChatPromptTemplate.from_messages([(\"system\", system_template), (\"user\", \"{question}\")]\n",
    ")\n",
    "        \n",
    "    \n",
    "    def response(self, question, custom_vector=True):\n",
    "        \"\"\"\"return the response as str\"\"\"\n",
    "        \n",
    "        # SIMILARITY SEARCH\n",
    "        if custom_vector:\n",
    "            context = self.custom_vector_db.similarity_search(question, k=1)\n",
    "        else:\n",
    "            context = self.vector_store.similarity_search(question, k=1)\n",
    "        \n",
    "        \n",
    "        # PROMPT\n",
    "        prompt = self.prompt_template.invoke({\n",
    "            \"context\": context,\n",
    "            \"question\": question \n",
    "        })\n",
    "        \n",
    "        # Generate response from the LLM\n",
    "        response = self.llm.invoke(prompt)\n",
    "        \n",
    "        return response.content"
   ]
  },
  {
   "cell_type": "code",
   "execution_count": 52,
   "metadata": {},
   "outputs": [],
   "source": [
    "rag = RAG(documents, embeddings_list[0][1])"
   ]
  },
  {
   "cell_type": "code",
   "execution_count": 53,
   "metadata": {},
   "outputs": [],
   "source": [
    "response = rag.response(\"what is the requirements for tourism?\")"
   ]
  },
  {
   "cell_type": "code",
   "execution_count": 54,
   "metadata": {},
   "outputs": [
    {
     "name": "stdout",
     "output_type": "stream",
     "text": [
      "For tourism purposes to visit Japan, the following requirements are generally needed:\n",
      "\n",
      "1. **Passport**: Must be valid and should have a signature.\n",
      "2. **Visa Application Form**: A completed application form with a facial photo (4.5 cm x 4.5 cm) must be attached.\n",
      "3. **Birth Certificate**: A PSA-issued birth certificate is required. For married applicants, a marriage certificate issued within the year may also be necessary. If the birth certificate is unreadable, a local civil registrar-issued birth certificate or late registration certificate may be submitted, along with a baptismal certificate or school record.\n",
      "4. **Bank Certificate**: A bank certificate showing a balance within the last six months must be submitted, proving an average daily balance and recent transactions.\n",
      "5. **Tax Payment Certificate**: A certificate form with the employer’s signature for employees or proof of actual tax payment for business owners must be submitted.\n",
      "6. **Employment Certificate**: Must indicate the period of employment, salary, and position. \n",
      "7. **Business Registration**: For business owners, a DTI certificate, business name registration, and mayor's permit from the city hall are required.\n",
      "8. **Guarantor Documents**: If applicable, a guarantee letter and proof of relationship with the guarantor, along with their bank certificate and tax payment certificate.\n",
      "9. **Student Requirements**: If the applicant is a student, a copy of the school ID and enrollment certificate must be provided.\n",
      "10. **Letter of Explanation**: Required for retirees, full-time housewives, or unemployed applicants who cannot submit certain documents.\n",
      "\n",
      "For more detailed information, you can visit the official website [here](https://www.ph.emb-japan.go.jp/itpr_en/00_000035.html).\n"
     ]
    }
   ],
   "source": [
    "print(response)"
   ]
  },
  {
   "cell_type": "markdown",
   "metadata": {},
   "source": [
    "## Evaluation (BLEU SCORE)"
   ]
  },
  {
   "cell_type": "code",
   "execution_count": 16,
   "metadata": {},
   "outputs": [
    {
     "data": {
      "text/html": [
       "<div>\n",
       "<style scoped>\n",
       "    .dataframe tbody tr th:only-of-type {\n",
       "        vertical-align: middle;\n",
       "    }\n",
       "\n",
       "    .dataframe tbody tr th {\n",
       "        vertical-align: top;\n",
       "    }\n",
       "\n",
       "    .dataframe thead th {\n",
       "        text-align: right;\n",
       "    }\n",
       "</style>\n",
       "<table border=\"1\" class=\"dataframe\">\n",
       "  <thead>\n",
       "    <tr style=\"text-align: right;\">\n",
       "      <th></th>\n",
       "      <th>question</th>\n",
       "      <th>answer 1</th>\n",
       "      <th>answer 2</th>\n",
       "      <th>answer 3</th>\n",
       "    </tr>\n",
       "  </thead>\n",
       "  <tbody>\n",
       "    <tr>\n",
       "      <th>0</th>\n",
       "      <td>What is the requirements for tourism?</td>\n",
       "      <td>The requirements for tourism to Japan, as outl...</td>\n",
       "      <td>Here’s a simplified version of the requirement...</td>\n",
       "      <td>Here’s an even simpler version of the requirem...</td>\n",
       "    </tr>\n",
       "    <tr>\n",
       "      <th>1</th>\n",
       "      <td>What is the requirements for visiting relatives?</td>\n",
       "      <td>The requirements for visiting relatives in Jap...</td>\n",
       "      <td>Here’s a simplified version of the requirement...</td>\n",
       "      <td>Here’s an even simpler version of the requirem...</td>\n",
       "    </tr>\n",
       "    <tr>\n",
       "      <th>2</th>\n",
       "      <td>what is the requirements for business puposes?</td>\n",
       "      <td>The requirements for visiting Japan for **busi...</td>\n",
       "      <td>Here’s a simplified version of the requirement...</td>\n",
       "      <td>Here’s an even simpler version:\\n\\n### **For t...</td>\n",
       "    </tr>\n",
       "    <tr>\n",
       "      <th>3</th>\n",
       "      <td>what is the requirements for visiting friends?</td>\n",
       "      <td>The requirements for visiting Japan for **frie...</td>\n",
       "      <td>Here’s a simpler version:\\n\\n### **For the App...</td>\n",
       "      <td>Here’s an even simpler version:\\n\\n### **For t...</td>\n",
       "    </tr>\n",
       "    <tr>\n",
       "      <th>4</th>\n",
       "      <td>what is the requirements for visiting US milit...</td>\n",
       "      <td>The requirements for visiting **US military pe...</td>\n",
       "      <td>Here’s a simplified version:\\n\\n### **For the ...</td>\n",
       "      <td>Here’s the simplest version:\\n\\n### **For the ...</td>\n",
       "    </tr>\n",
       "    <tr>\n",
       "      <th>5</th>\n",
       "      <td>what is the requirements for spouse or child o...</td>\n",
       "      <td>The requirements for the **spouse or child of ...</td>\n",
       "      <td>Here’s a simpler version:\\n\\n### **For the App...</td>\n",
       "      <td>Here’s a more simplified version:\\n\\n### **For...</td>\n",
       "    </tr>\n",
       "    <tr>\n",
       "      <th>6</th>\n",
       "      <td>what is the requirements for transit?</td>\n",
       "      <td>The requirements for **transit** to Japan are ...</td>\n",
       "      <td>Here’s a simplified version for **transit** to...</td>\n",
       "      <td>Here’s the simplest version for **transit** to...</td>\n",
       "    </tr>\n",
       "  </tbody>\n",
       "</table>\n",
       "</div>"
      ],
      "text/plain": [
       "                                            question  \\\n",
       "0              What is the requirements for tourism?   \n",
       "1   What is the requirements for visiting relatives?   \n",
       "2     what is the requirements for business puposes?   \n",
       "3     what is the requirements for visiting friends?   \n",
       "4  what is the requirements for visiting US milit...   \n",
       "5  what is the requirements for spouse or child o...   \n",
       "6              what is the requirements for transit?   \n",
       "\n",
       "                                            answer 1  \\\n",
       "0  The requirements for tourism to Japan, as outl...   \n",
       "1  The requirements for visiting relatives in Jap...   \n",
       "2  The requirements for visiting Japan for **busi...   \n",
       "3  The requirements for visiting Japan for **frie...   \n",
       "4  The requirements for visiting **US military pe...   \n",
       "5  The requirements for the **spouse or child of ...   \n",
       "6  The requirements for **transit** to Japan are ...   \n",
       "\n",
       "                                            answer 2  \\\n",
       "0  Here’s a simplified version of the requirement...   \n",
       "1  Here’s a simplified version of the requirement...   \n",
       "2  Here’s a simplified version of the requirement...   \n",
       "3  Here’s a simpler version:\\n\\n### **For the App...   \n",
       "4  Here’s a simplified version:\\n\\n### **For the ...   \n",
       "5  Here’s a simpler version:\\n\\n### **For the App...   \n",
       "6  Here’s a simplified version for **transit** to...   \n",
       "\n",
       "                                            answer 3  \n",
       "0  Here’s an even simpler version of the requirem...  \n",
       "1  Here’s an even simpler version of the requirem...  \n",
       "2  Here’s an even simpler version:\\n\\n### **For t...  \n",
       "3  Here’s an even simpler version:\\n\\n### **For t...  \n",
       "4  Here’s the simplest version:\\n\\n### **For the ...  \n",
       "5  Here’s a more simplified version:\\n\\n### **For...  \n",
       "6  Here’s the simplest version for **transit** to...  "
      ]
     },
     "execution_count": 16,
     "metadata": {},
     "output_type": "execute_result"
    }
   ],
   "source": [
    "# read Q and A\n",
    "QA_PATH = \"./dataset/qa/QA.xlsx\"\n",
    "qa = pd.read_excel(QA_PATH)\n",
    "qa"
   ]
  },
  {
   "cell_type": "code",
   "execution_count": 17,
   "metadata": {},
   "outputs": [],
   "source": [
    "# tokenizer\n",
    "\n",
    "# Load spaCy model\n",
    "nlp = spacy.load(\"en_core_web_sm\")\n",
    "\n",
    "# Function to tokenize words using spaCy\n",
    "def tokenize_text(text):\n",
    "    # Process the text with spaCy NLP pipeline\n",
    "    doc = nlp(text)\n",
    "    # Extract words (tokens)\n",
    "    tokens = [token.text for token in doc]\n",
    "    return tokens"
   ]
  },
  {
   "cell_type": "markdown",
   "metadata": {},
   "source": [
    "bleu score normal vector database"
   ]
  },
  {
   "cell_type": "code",
   "execution_count": 18,
   "metadata": {},
   "outputs": [
    {
     "name": "stdout",
     "output_type": "stream",
     "text": [
      "average bleu score (openai embeddings) (ef=150) (M=16): 0.4992935423165613\n",
      "average bleu score (T5-small embeddings) (ef=150) (M=16): 0.0030565411765197917\n"
     ]
    }
   ],
   "source": [
    "efs = list(range(150, 250, 100))\n",
    "Ms = [16] * len(efs)\n",
    "\n",
    "bleu_scores = []\n",
    "for name, embeddings in embeddings_list:\n",
    "    temp1_blue_scores = []\n",
    "    for ef, M in zip(efs, Ms):\n",
    "        rag = RAG(documents, embeddings)\n",
    "        \n",
    "        temp2_blue_scores = []\n",
    "        # Using SmoothingFunction() to prevent zero BLEU score\n",
    "        smooth = SmoothingFunction().method1\n",
    "        for row in qa.itertuples():\n",
    "            \n",
    "            question, answer1, answer2, answer3 = row[1], row[2], row[3], row[4]\n",
    "            references = [tokenize_text(answer1), tokenize_text(answer2), tokenize_text(answer3)]\n",
    "            \n",
    "            # Calculate BLEU score (use sentence_bleu for a single sentence)\n",
    "            response = rag.response(question, custom_vector=False)\n",
    "            candidate = tokenize_text(response)\n",
    "\n",
    "            bleu_score = sentence_bleu(references, candidate, smoothing_function=smooth)\n",
    "            temp2_blue_scores.append(bleu_score)\n",
    "        average_bleu_score = sum(temp2_blue_scores)/len(temp2_blue_scores)\n",
    "        temp1_blue_scores.append(average_bleu_score)\n",
    "        print(f\"average bleu score ({name}) (ef={ef}) (M={M}): {sum(temp2_blue_scores)/len(temp2_blue_scores)}\")\n",
    "    bleu_scores.append(temp1_blue_scores)\n",
    "    "
   ]
  },
  {
   "cell_type": "code",
   "execution_count": 19,
   "metadata": {},
   "outputs": [
    {
     "data": {
      "image/png": "[encoded data removed]",
      "text/plain": [
       "<Figure size 640x480 with 1 Axes>"
      ]
     },
     "metadata": {},
     "output_type": "display_data"
    }
   ],
   "source": [
    "import matplotlib.pyplot as plt\n",
    "\n",
    "# Plotting both lines on the same graph\n",
    "plt.plot(efs, bleu_scores[0], label=\"openai embedding\", color='blue', marker='o')  # First line\n",
    "plt.plot(efs, bleu_scores[1], label=\"t5-small embedding\", color='green', marker='x')  # Second line\n",
    "\n",
    "plt.xticks(efs)\n",
    "\n",
    "# Adding titles and labels\n",
    "plt.title('Bleu Score for embedding comparison with ef')\n",
    "plt.xlabel('ef')\n",
    "plt.ylabel('BLEU SCORE')\n",
    "\n",
    "# Showing legend\n",
    "plt.legend()\n",
    "\n",
    "# Displaying the plot\n",
    "plt.show()\n"
   ]
  },
  {
   "cell_type": "markdown",
   "metadata": {},
   "source": [
    "bleu score custom vector database"
   ]
  },
  {
   "cell_type": "code",
   "execution_count": 20,
   "metadata": {},
   "outputs": [
    {
     "name": "stdout",
     "output_type": "stream",
     "text": [
      "average bleu score (openai embeddings) (ef=150) (M=16): 0.5076517162085404\n",
      "average bleu score (T5-small embeddings) (ef=150) (M=16): 0.0037533773870102967\n"
     ]
    }
   ],
   "source": [
    "efs = list(range(150, 250, 100))\n",
    "Ms = [16] * len(efs)\n",
    "\n",
    "bleu_scores = []\n",
    "for name, embeddings in embeddings_list:\n",
    "    temp1_blue_scores = []\n",
    "    for ef, M in zip(efs, Ms):\n",
    "        rag = RAG(documents, embeddings)\n",
    "        \n",
    "        temp2_blue_scores = []\n",
    "        # Using SmoothingFunction() to prevent zero BLEU score\n",
    "        smooth = SmoothingFunction().method1\n",
    "        for row in qa.itertuples():\n",
    "            \n",
    "            question, answer1, answer2, answer3 = row[1], row[2], row[3], row[4]\n",
    "            references = [tokenize_text(answer1), tokenize_text(answer2), tokenize_text(answer3)]\n",
    "            \n",
    "            # Calculate BLEU score (use sentence_bleu for a single sentence)\n",
    "            response = rag.response(question)\n",
    "            candidate = tokenize_text(response)\n",
    "\n",
    "            bleu_score = sentence_bleu(references, candidate, smoothing_function=smooth)\n",
    "            temp2_blue_scores.append(bleu_score)\n",
    "        average_bleu_score = sum(temp2_blue_scores)/len(temp2_blue_scores)\n",
    "        temp1_blue_scores.append(average_bleu_score)\n",
    "        print(f\"average bleu score ({name}) (ef={ef}) (M={M}): {sum(temp2_blue_scores)/len(temp2_blue_scores)}\")\n",
    "    bleu_scores.append(temp1_blue_scores)"
   ]
  },
  {
   "cell_type": "code",
   "execution_count": 21,
   "metadata": {},
   "outputs": [
    {
     "data": {
      "image/png": "[encoded data removed]",
      "text/plain": [
       "<Figure size 640x480 with 1 Axes>"
      ]
     },
     "metadata": {},
     "output_type": "display_data"
    }
   ],
   "source": [
    "import matplotlib.pyplot as plt\n",
    "\n",
    "# Plotting both lines on the same graph\n",
    "plt.plot(efs, bleu_scores[0], label=\"openai embedding\", color='blue', marker='o')  # First line\n",
    "plt.plot(efs, bleu_scores[1], label=\"t5-small embedding\", color='green', marker='x')  # Second line\n",
    "\n",
    "plt.xticks(efs)\n",
    "\n",
    "# Adding titles and labels\n",
    "plt.title('Bleu Score for embedding comparison with ef')\n",
    "plt.xlabel('ef')\n",
    "plt.ylabel('BLEU SCORE')\n",
    "\n",
    "# Showing legend\n",
    "plt.legend()\n",
    "\n",
    "# Displaying the plot\n",
    "plt.show()\n"
   ]
  }
 ],
 "metadata": {
  "kernelspec": {
   "display_name": ".venv",
   "language": "python",
   "name": "python3"
  },
  "language_info": {
   "codemirror_mode": {
    "name": "ipython",
    "version": 3
   },
   "file_extension": ".py",
   "mimetype": "text/x-python",
   "name": "python",
   "nbconvert_exporter": "python",
   "pygments_lexer": "ipython3",
   "version": "3.11.1"
  }
 },
 "nbformat": 4,
 "nbformat_minor": 2
}
