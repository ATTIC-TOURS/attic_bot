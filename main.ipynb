{
 "cells": [
  {
   "cell_type": "markdown",
   "metadata": {},
   "source": [
    "# RAG (main)"
   ]
  },
  {
   "cell_type": "markdown",
   "metadata": {},
   "source": [
    "## Dependencies"
   ]
  },
  {
   "cell_type": "code",
   "execution_count": 198,
   "metadata": {},
   "outputs": [],
   "source": [
    "import os\n",
    "from dotenv import load_dotenv\n",
    "from langchain_openai import OpenAIEmbeddings, ChatOpenAI\n",
    "from langchain_core.prompts import ChatPromptTemplate"
   ]
  },
  {
   "cell_type": "code",
   "execution_count": 199,
   "metadata": {},
   "outputs": [
    {
     "data": {
      "text/plain": [
       "True"
      ]
     },
     "execution_count": 199,
     "metadata": {},
     "output_type": "execute_result"
    }
   ],
   "source": [
    "# load the environment variables\n",
    "load_dotenv() "
   ]
  },
  {
   "cell_type": "code",
   "execution_count": 200,
   "metadata": {},
   "outputs": [],
   "source": [
    "# setup\n",
    "\n",
    "# LangChain\n",
    "os.environ[\"LANGCHAIN_TRACING_V2\"] = \"true\"\n",
    "os.environ[\"LANGCHAIN_API_KEY\"] = os.getenv(\"LANGCHAIN_API_KEY\")\n",
    "os.environ[\"LANGCHAIN_ENDPOINT\"] = os.getenv(\"LANGCHAIN_ENDPOINT\")\n",
    "os.environ[\"LANGCHAIN_PROJECT\"] = os.getenv(\"LANGCHAIN_PROJECT\")\n",
    "\n",
    "# OpenAI\n",
    "os.environ[\"OPENAI_API_KEY\"] = os.getenv(\"OPENAI_API_KEY\")"
   ]
  },
  {
   "cell_type": "markdown",
   "metadata": {},
   "source": [
    "## Documents"
   ]
  },
  {
   "cell_type": "markdown",
   "metadata": {},
   "source": [
    "Things to Consider\n",
    "- chunking level\n",
    "- data cleaning\n",
    "- meta data"
   ]
  },
  {
   "cell_type": "code",
   "execution_count": 201,
   "metadata": {},
   "outputs": [],
   "source": [
    "from langchain_community.document_loaders import PyPDFLoader\n",
    "\n",
    "pdf_paths = [\n",
    "    \"https://www.ph.emb-japan.go.jp/files/100508281.pdf\", # TOURISM\n",
    "    \"https://www.ph.emb-japan.go.jp/files/100412012.pdf\", # PACKAGE TOUR\n",
    "    \"https://www.ph.emb-japan.go.jp/files/100508282.pdf\", # BUSINESS, CONFERENCE or CULTURAL EXCHANGE, etc.\n",
    "    \"https://www.ph.emb-japan.go.jp/files/100508283.pdf\", # VISITING RELATIVES\n",
    "    \"https://www.ph.emb-japan.go.jp/files/100508284.pdf\", # VISITING FRIENDS OR DISTANT RELATIVES\n",
    "    \"https://www.ph.emb-japan.go.jp/files/100508285.pdf\", # VISITING US MILITARY PERSONNEL\n",
    "    \"https://www.ph.emb-japan.go.jp/files/100585068.pdf\", # SPOUSE OR CHLID OF JAPANESE NATIONAL RESIDING IN THE PHILIPPINES\n",
    "    \"https://www.ph.emb-japan.go.jp/files/100508287.pdf\", # TRANSIT\n",
    "    \"https://www.ph.emb-japan.go.jp/files/100508288.pdf\", # MULTIPLE-ENTRY VISA FOR TEMPORARY VISITOR\n",
    "    \"https://www.ph.emb-japan.go.jp/files/100674192.pdf\", # MULTIPLE-ENTRY TEMPORARY VISITOR VISA (PHILIPPINE NATIONALS WITH CONSIDERABLE FINANCIAL CAPACITY) \n",
    "    \"https://www.ph.emb-japan.go.jp/files/100404404.pdf\", # MULTIPLE-ENTRY VISA FOR TEMPORARY VISITOR\n",
    "    \"https://www.ph.emb-japan.go.jp/files/100479463.pdf\", # STUDENT, WORKER AND DEPENDENT\n",
    "    \"https://www.ph.emb-japan.go.jp/files/100415046.pdf\", # OFFICIAL \n",
    "    \"https://www.ph.emb-japan.go.jp/files/100415047.pdf\", # HOUSEKEEPER OF DIPLOMAT/OFFICIAL\n",
    "    \"https://www.ph.emb-japan.go.jp/files/100415048.pdf\", # NIKKEI-JIN (JAPANESE DESCENDANT)\n",
    "    \"https://www.ph.emb-japan.go.jp/files/100508289.pdf\", # FILIPINO PARENTS TRAVELLING TO JAPAN WITH JAPANESE-FILIPINO CHILDREN\n",
    "]\n",
    "headers = {\n",
    "    \"User-Agent\": \"Mozilla/5.0 (Linux; Android 6.0; Nexus 5 Build/MRA58N) AppleWebKit/537.36 (KHTML, like Gecko) Chrome/131.0.0.0 Mobile Safari/537.36\"\n",
    "    }\n",
    "\n",
    "pages = []\n",
    "for pdf_path in pdf_paths:\n",
    "    loader = PyPDFLoader(pdf_path, headers=headers)\n",
    "    async for page in loader.alazy_load():\n",
    "        pages.append(page)"
   ]
  },
  {
   "cell_type": "code",
   "execution_count": 202,
   "metadata": {},
   "outputs": [
    {
     "data": {
      "text/plain": [
       "Document(metadata={'source': 'https://www.ph.emb-japan.go.jp/files/100508281.pdf', 'page': 0}, page_content='TOURISM   \\nMay 2024  \\n  \\nA. PURPOSE  \\nVisit Japan for tourism.  \\n  \\nB. Requirements（Details→https://www.ph.emb-japan.go.jp/itpr_ja/11_000001_00898.html）  \\n    \\n※ Downloadable from this website   \\n      \\n(1) Passport（Holder’s signature required）  \\n(2) Application Form ※（A facial Photo (4.5×3.5cm) must be attached.）  \\n(3) PSA issued Birth Certificate and Marriage Certificate (for married applicants), issued within 1 year \\n☞ Unnecessary if there is used Japan Visa on passport. \\n【ADDITIONAL REQUIREMENTS】  \\n- If (3) is unreadable, submit Birth/Marriage certificate issued by Local Civil Registrar.  \\n- If Birth Certificate is “LATE REGISTRATION”, submit Baptismal Certificate and School Record (Form 137).  \\n-If there is no record of Birth/Marriage in PSA, submit Birth Certificate issued by Local Civil Registrar and Negative  \\nCertificate issued by PSA.  \\n(4) Itinerary in Japan  \\n \\n【In case that applicant will shoulder part/all of travel expense】   \\n \\n(5) Applicant’s Bank Certificate (balance within the last six months must be shown)  \\n* If the Average Daily Balance (ADB) in the last six months is not indicated, bank statement must be \\nsubmitted to prove transactions within the last six months. \\n(6) Applicant’s Tax Payment Certificate  \\n* Form 2316, must have signature of the Employer and Employee \\n* For business owners, proof of actual payment of tax must be submitted in addition to the BIR Tax \\nPayment Certificate Form (copy acceptable) \\n(7) Applicant’s Employment Certificate (must indicate period of employment, salary and position) \\n* For business owners, Department of Trade and Industry (DTI) “Certificate of Business Name \\nRegistration” and Mayor’s Permit from the City Hall must be submitted.  \\n* If for any reason other than being a retiree, full-time housewife or unemployed, applicant is unable to \\nsubmit (6) and (7) above, a letter of explanation about the reason must be submitted. For students, a \\ncopy of School ID or Certificate of Enrollment in School must be submitted. \\n  \\n【In case that guarantor in the Philippines will shoulder part/all of travel expense】  \\n(8) Guarantee Letter ※  \\n(9) Proof of relationship between applicant and guarantor(e.g. Birth Certificates or Photos)  \\n(10) Bank Certificate [see (5) above] \\n(11) Photocopy of Tax Payment Certificate [see (6) above]  \\n(12) Employment Certificate [see (7) above] \\n  \\n  ')"
      ]
     },
     "execution_count": 202,
     "metadata": {},
     "output_type": "execute_result"
    }
   ],
   "source": [
    "pages[0]"
   ]
  },
  {
   "cell_type": "code",
   "execution_count": 203,
   "metadata": {},
   "outputs": [
    {
     "name": "stdout",
     "output_type": "stream",
     "text": [
      "page_content='TOURISM   \n",
      "May 2024  \n",
      "  \n",
      "A. PURPOSE  \n",
      "Visit Japan for tourism.  \n",
      "  \n",
      "B. Requirements（Details→https://www.ph.emb-japan.go.jp/itpr_ja/11_000001_00898.html）  \n",
      "    \n",
      "※ Downloadable from this website   \n",
      "      \n",
      "(1) Passport（Holder’s signature required）  \n",
      "(2) Application Form ※（A facial Photo (4.5×3.5cm) must be attached.）  \n",
      "(3) PSA issued Birth Certificate and Marriage Certificate (for married applicants), issued within 1 year \n",
      "☞ Unnecessary if there is used Japan Visa on passport. \n",
      "【ADDITIONAL REQUIREMENTS】  \n",
      "- If (3) is unreadable, submit Birth/Marriage certificate issued by Local Civil Registrar.  \n",
      "- If Birth Certificate is “LATE REGISTRATION”, submit Baptismal Certificate and School Record (Form 137).  \n",
      "-If there is no record of Birth/Marriage in PSA, submit Birth Certificate issued by Local Civil Registrar and Negative  \n",
      "Certificate issued by PSA.  \n",
      "(4) Itinerary in Japan  \n",
      " \n",
      "【In case that applicant will shoulder part/all of travel expense】   \n",
      " \n",
      "(5) Applicant’s Bank Certificate (balance within the last six months must be shown)  \n",
      "* If the Average Daily Balance (ADB) in the last six months is not indicated, bank statement must be \n",
      "submitted to prove transactions within the last six months. \n",
      "(6) Applicant’s Tax Payment Certificate  \n",
      "* Form 2316, must have signature of the Employer and Employee \n",
      "* For business owners, proof of actual payment of tax must be submitted in addition to the BIR Tax \n",
      "Payment Certificate Form (copy acceptable) \n",
      "(7) Applicant’s Employment Certificate (must indicate period of employment, salary and position) \n",
      "* For business owners, Department of Trade and Industry (DTI) “Certificate of Business Name \n",
      "Registration” and Mayor’s Permit from the City Hall must be submitted.  \n",
      "* If for any reason other than being a retiree, full-time housewife or unemployed, applicant is unable to \n",
      "submit (6) and (7) above, a letter of explanation about the reason must be submitted. For students, a \n",
      "copy of School ID or Certificate of Enrollment in School must be submitted. \n",
      "  \n",
      "【In case that guarantor in the Philippines will shoulder part/all of travel expense】  \n",
      "(8) Guarantee Letter ※  \n",
      "(9) Proof of relationship between applicant and guarantor(e.g. Birth Certificates or Photos)  \n",
      "(10) Bank Certificate [see (5) above] \n",
      "(11) Photocopy of Tax Payment Certificate [see (6) above]  \n",
      "(12) Employment Certificate [see (7) above] \n",
      "  \n",
      "  ' metadata={'source': 'https://www.ph.emb-japan.go.jp/files/100508281.pdf', 'page': 0}\n"
     ]
    }
   ],
   "source": [
    "print(pages[0])"
   ]
  },
  {
   "cell_type": "markdown",
   "metadata": {},
   "source": [
    "## Embeddings"
   ]
  },
  {
   "cell_type": "markdown",
   "metadata": {},
   "source": [
    "Things to Consider\n",
    "- Evaluation Metric\n",
    "- dataset\n",
    "- model"
   ]
  },
  {
   "cell_type": "code",
   "execution_count": 204,
   "metadata": {},
   "outputs": [],
   "source": [
    "embeddings = OpenAIEmbeddings(model=\"text-embedding-3-large\")"
   ]
  },
  {
   "cell_type": "code",
   "execution_count": 205,
   "metadata": {},
   "outputs": [
    {
     "data": {
      "text/plain": [
       "OpenAIEmbeddings(client=<openai.resources.embeddings.Embeddings object at 0x1579fbbd0>, async_client=<openai.resources.embeddings.AsyncEmbeddings object at 0x157d3e490>, model='text-embedding-3-large', dimensions=None, deployment='text-embedding-ada-002', openai_api_version=None, openai_api_base=None, openai_api_type=None, openai_proxy=None, embedding_ctx_length=8191, openai_api_key=SecretStr('**********'), openai_organization=None, allowed_special=None, disallowed_special=None, chunk_size=1000, max_retries=2, request_timeout=None, headers=None, tiktoken_enabled=True, tiktoken_model_name=None, show_progress_bar=False, model_kwargs={}, skip_empty=False, default_headers=None, default_query=None, retry_min_seconds=4, retry_max_seconds=20, http_client=None, http_async_client=None, check_embedding_ctx_length=True)"
      ]
     },
     "execution_count": 205,
     "metadata": {},
     "output_type": "execute_result"
    }
   ],
   "source": [
    "embeddings"
   ]
  },
  {
   "cell_type": "markdown",
   "metadata": {},
   "source": [
    "## Custom embeddings"
   ]
  },
  {
   "cell_type": "code",
   "execution_count": 206,
   "metadata": {},
   "outputs": [
    {
     "name": "stderr",
     "output_type": "stream",
     "text": [
      "Some weights of RobertaModel were not initialized from the model checkpoint at roberta-base and are newly initialized: ['roberta.pooler.dense.bias', 'roberta.pooler.dense.weight']\n",
      "You should probably TRAIN this model on a down-stream task to be able to use it for predictions and inference.\n",
      "Some weights of RobertaModel were not initialized from the model checkpoint at ./fine_tuned_roberta and are newly initialized: ['roberta.pooler.dense.bias', 'roberta.pooler.dense.weight']\n",
      "You should probably TRAIN this model on a down-stream task to be able to use it for predictions and inference.\n"
     ]
    }
   ],
   "source": [
    "from langchain_core.embeddings import Embeddings\n",
    "import torch\n",
    "from transformers import RobertaTokenizer, RobertaModel\n",
    "\n",
    "# Load pre-trained RoBERTa model\n",
    "model = RobertaModel.from_pretrained('roberta-base')\n",
    "\n",
    "# Load the model and tokenizer from the saved directory\n",
    "custom_model = RobertaModel.from_pretrained('./fine_tuned_roberta')\n",
    "tokenizer = RobertaTokenizer.from_pretrained('./fine_tuned_roberta')\n",
    "\n",
    "\n",
    "class RoBERTaEmbedding(Embeddings):\n",
    "    def __init__(self, model_name='roberta-base'):\n",
    "        # Load pre-trained RoBERTa model and tokenizer\n",
    "        self.model = model\n",
    "        self.tokenizer = tokenizer\n",
    "    \n",
    "    def embed_documents(self, documents):\n",
    "        embeddings = []\n",
    "        for doc in documents:\n",
    "            inputs = self.tokenizer(doc, return_tensors='pt', truncation=True, padding=True, max_length=512)\n",
    "            with torch.no_grad():\n",
    "                outputs = self.model(**inputs)\n",
    "                # Using the mean of the last hidden state as the document embedding\n",
    "                embedding = outputs.last_hidden_state.mean(dim=1).squeeze().numpy()\n",
    "                embeddings.append(embedding)\n",
    "        return embeddings\n",
    "\n",
    "    def embed_query(self, query):\n",
    "        inputs = self.tokenizer(query, return_tensors='pt', truncation=True, padding=True, max_length=512)\n",
    "        with torch.no_grad():\n",
    "            outputs = self.model(**inputs)\n",
    "            # Using the mean of the last hidden state as the query embedding\n",
    "            embedding = outputs.last_hidden_state.mean(dim=1).squeeze().numpy()\n",
    "        return embedding"
   ]
  },
  {
   "cell_type": "code",
   "execution_count": 207,
   "metadata": {},
   "outputs": [],
   "source": [
    "# Initialize the custom embedding class with your fine-tuned model and tokenizer\n",
    "custom_embedding = RoBERTaEmbedding()"
   ]
  },
  {
   "cell_type": "markdown",
   "metadata": {},
   "source": [
    "## Vector Database"
   ]
  },
  {
   "cell_type": "markdown",
   "metadata": {},
   "source": [
    "Things to Consider\n",
    "- Evaluation Metric\n",
    "- HNSW parameters"
   ]
  },
  {
   "cell_type": "code",
   "execution_count": 220,
   "metadata": {},
   "outputs": [],
   "source": [
    "from langchain_core.vectorstores import InMemoryVectorStore\n",
    "\n",
    "vector_store = InMemoryVectorStore.from_documents(pages, embeddings)"
   ]
  },
  {
   "cell_type": "code",
   "execution_count": 209,
   "metadata": {},
   "outputs": [
    {
     "name": "stdout",
     "output_type": "stream",
     "text": [
      "Page 2: (4) We might request  to submit additional docume nts for examinations . If you don’t submit them within 3 \n",
      "months from the date of request , we will cease the examination and return your passport.  \n",
      "(5) We might  have an interview with applicant or his/her relatives. In such a case, we wil l take a contact \n",
      "with appli cant directly or through accredited agencies/ registered Nikkei-Jin agencies to arrange  the date \n",
      "and time of interview.    \n",
      "\n",
      "Page 1: B. Requirements（Details→https://www.ph.emb-japan.go.jp/itpr_ja/11_000001_00898.html）  \n",
      "submitted. For students, a copy of School ID or Certificate of Enrollment in School must be \n",
      "submitted.  \n",
      "  \n",
      "II. Spouse or Child of (I) \n",
      "(1) Proof of relationship with (I) above (PSA issued Birth Certificate and Marriage Certificate, if \n",
      "applicable)  \n",
      "(2) Passport and multiple entry visa copy or documents of (I) above.  \n",
      "\n",
      "Page 1: *Used Japanese Visa and landing permission as temporary visitor in the last 3 years    \n",
      "*Used visas and landing permissions of G7 countries (except Japan) in the last 3 years  \n",
      "  \n",
      "III. Applicant with sufficient financial capacity  \n",
      "* In case [ those with sufficient financial capacity] is checked, the embassy examine and determine whether \n",
      "the applicant falls under [Multiple-Entry Visa for Temporary Visitor] or [Multiple-Entry Visa Temporary \n",
      "Visitor Visa for Philippine Nationals with Considerable Financial Capacity].  \n",
      " \n",
      "IV. Spouse/Child of “III” (Applicant with sufficient financial capacity)  \n",
      "(1) Proof of relationship with (III) above (PSA issued Birth Certificate and Marriage Certificate, if \n",
      "applicable)  \n",
      "(2) Passport and multiple entry visa copy and documents (6) , (7)  and (8) of (III.) above. \n",
      " \n",
      "-   \n",
      "  \n",
      "\n",
      "Page 1: (1) Passport（Holder’s signature requi red） \n",
      "- If the child has his/her Japanese passport, unnecessary (submit a photocopy of it instead).  \n",
      "(2) Application Form ※（A facial Photo (4.5×3.5cm) must be attached. ） \n",
      "- If the child has his/her Japanese passport, unnecessary.  \n",
      "(3) Birth Certificate (issue d by PSA within 1 year)  \n",
      "- See I (3) for additional documents  \n",
      "    (4) Certificate of Enrollment/Graduation  (if the child goes to/has finished school in the Philippines)  \n",
      "    (5) Admission Letter from Japanese school, etc. (if the child has a schooling plan in Japan) \n",
      "      - It must include the address, the phone number and contact person of the school.  \n",
      " \n",
      "III.  REQUIREMENTS FOR INVITER, GUARANTOR OR SUPPORTING ORGANIZATION \n",
      "ATTENTION: Please be aware that some unscrupulous brokers, criminal organizations and human \n",
      "trafficking syndicates may approach you as a guarantor or agent to exploit you under JFC visa. \n",
      "(1) Invitation Letter \n",
      "(2) Letter of Guarantee \n",
      "(3) Employment Certificate of Inviter/Guarantor (if applicable)  \n",
      "      - If self-employed, submit a certified copy of the incorporation register.  \n",
      "【In case that guarantor shoulder expenses of travel and stay in Japan】 \n",
      "(4) Income Certificate (issued by municipal office) \n",
      "(5) Tax Certificate (issued by municipals office, i t must include description of the total income amount.) \n",
      "(6) Bank Certificate  \n",
      "(7) Photocopy of Final Tax Return File  \n",
      "(8) Certificate of Tax Payment (Form 2, issued by a taxation office)  \n",
      " 【In case that inviter/guarantor is applicant’s relative in Japan 】 \n",
      "    (9) Documents to prove the relationship  (Birth or Marriage Certificate, etc.)  \n",
      "【In case that inviter/guarantor has visited the Philippines before 】 \n",
      "   (10) Photocopy of passport indicating the record of the previous travel(s) to the Philippines  \n",
      "【In case that applicant is supported by NGO, Incorporation or other organization】 \n",
      "  (11) Certified Copy of register of the org anization or an overview  of the activities and achievements  \n",
      "  (12) Documents to indicate the relationship with counterpart in the Philippines (if applicable)  \n",
      "【In case that intermediary intr oduced to applicant inviter, guarantor or supporting organization 】 \n",
      "  (13) Photocopy of Intermediary’s passport, residence card or an  original residence certificate (Jumin-hyo)  \n",
      "【In case that supporting organization will shoulder e xpenses of travel and stay in Japan】 \n",
      "   (14) Certificate of Corporation  issued by Securities and Exchange Commission Philippines (SEC)  \n",
      "   (15) Certificate of registration issued by Department of Social Welfare and Development (DSWD)  \n",
      " \n",
      "C. Procedure of Application  \n",
      "(1) You can apply for the visa through the accredited agencies or  directly to us by yourself. \n",
      "(2) It might take about 3 months or more to examine your application due to  referral to the Ministry of \n",
      "Foreign Affairs and Immigration Services Agency in Japan and interview with you , etc. If you cannot \n",
      "submit all the requirements at the time of application, the term might be longer. Please apply for the \n",
      "visa well-ahead of the desired date of departure.  \n",
      "(3) We might request to submit additional documents  for examinations. If you don’t  submit them within 3 \n",
      "months from the date of request , we cease the examination and return your passport.  \n",
      "\n",
      "Page 1:   \n",
      " \n",
      " \n",
      "【SPECIFIC REQUIREMENTS】 \n",
      "- A1 (Business Purpose) → Document to explain the necessity of multiple  visa (e.g. Letter of mission or  \n",
      " travel requisition by employer, etc.) \n",
      "- A1 (7) or (8) → Current or old passport with used visa and entry stamps of Japan or G7 countri es.  \n",
      "- A2 (2) → Photocopy of ID card issued by Profession Regulation Commission  \n",
      "- “Lawyer” of A2 (2) → Photocopy of membership card issued by Integrated Bar of the Philippines  \n",
      "- Spouse/Child of A1 or A2  → Marriage Certificate/Birth Certificate issued by PS A \n",
      "- Spouse/Child of A1 or A2 (If applying separately from the above-mentioned in A1 and A2) \n",
      "→ Photocopy of his/her passport (Pages of ID and Japanese multiple -entry visa) \n",
      " \n",
      " \n",
      "\n",
      "Page 0: NIKKEI-JIN (JAPANESE DESCENDANT)  \n",
      " NOVEMBER 2022  \n",
      " \n",
      "A. ELIGIBILITY FOR APPLICATION  \n",
      "(1) Children of Japanese Nationals who migrated to the Philippines before or during the World War II \n",
      "(refered to as the 2 nd Generation). To be recognized as the 2nd Generation, they are required to have \n",
      "been in the Philippines at the end of the War. \n",
      "(2) Descendants of the 2nd Generation  \n",
      "(3) Spouse of the 2nd Generation and their descendants  \n",
      " \n",
      "B. REQUIREMENTS（Details→https://www.ph.emb-japan.go.jp/itpr_ja/11_000001_00898.html ） \n",
      "   \n",
      "※ Downloadable from this website   \n",
      "I.  APPLICATION WITH CERTIFICATE OF ELIGIBILITY  (COE) \n",
      "(1) Passport（Holder’s signature required） \n",
      "      - If you apply the Consulate General in Cebu or Davao, submit a photocopy of passport together.  \n",
      "(2) Application Form ※（A facial Photo (4.5×3.5cm) must be attached. ） \n",
      "(3) Koseki-tohon of the 1st and 2nd Generation  \n",
      "(4) Birth Certificate (issued by PSA within 1 year)  \n",
      "   【ADDITIONAL REQUIREMENTS 】 \n",
      "    - If the certifica te is unreadable, submit Birth Certificate issued by Local Civil Regist rar. \n",
      "    - If the Birth Certificate is “LATE REGISTRATION”, submit Baptismal Certificate and School Record (DepEd: \n",
      "Form 137). \n",
      "    - If there is no record of birth in PSA, submit Birth Certificate issued by Local Civil Registrar and Negative \n",
      "Certificate iss ued by PSA.  \n",
      "(5) Marriage Certificate (issued by PSA with in 1 year, for the married only) \n",
      "   【ADDITIONAL REQUIREMENTS 】 \n",
      "    - If the certificate is unreadable, submit Marriage Certificate issued by Local Civil Registrar.  \n",
      "- If there is no record of marriage in PSA, submit Marriage Certificate issued by Local Civil Registrar and \n",
      "Negative Certificate issued by PSA.  \n",
      "(6) Family Tree ※ \n",
      "- It must include all the descendants from the 1 st Generation to the present  and the deceased.  \n",
      "(7) Family Photo (old and new)  \n",
      "- Taken with parents, siblings and other relatives. Digital modification is forbidd en.  \n",
      "(8) Wedding Photo (for the married only) \n",
      "(9) Certificate of Eligibility (Original and photocopy)  \n",
      " \n",
      "II.  APPLICATION WITHOUT COE (The followings are required in addition to “I”) \n",
      "(1) Photocopy of passport \n",
      "(2) Baptismal Certificate  \n",
      "(3) School Record (DepEd: Form 137) \n",
      "(4) Philippines National Police (PNP) Clearance \n",
      "(5) National Bureau of Investigation (NBI) Clearance \n",
      "【In case that applicant is planning to work for a living in Japan 】 \n",
      "(6) Photocopy of employment contract with Japanese c ompany, etc. \n",
      " \n",
      "\n",
      "Page 0: STUDENT, WORKER AND DEPENDENT  \n",
      " MARCH 2023   \n",
      " \n",
      "A. PURPOSE \n",
      "Study, work (including “Technical Trainee Intern” and “Entertainer”) or live with a spouse or parent(s) \n",
      "(Your Inviter needs to apply Japan Immigration for a Certificate of Eligibility  (COE) in advance.) \n",
      " \n",
      "☞ As of Diplomat, Official , Medical Stay and House keeper hired by Dipl omat/Official, please check its own \n",
      "requirements on this website. \n",
      " \n",
      "B. REQUIREMENTS（Details→https://www.ph.emb-japan.go.jp/itpr_ja/11_000001_00898.html ） \n",
      "   \n",
      "※ Downloadable from this website   \n",
      "    (1) Passport（Holder’s signature required） \n",
      "(2) Application Form ※（A facial Photo (4.5×3.5cm) must be attached.） \n",
      "(3) Certificate of Eligibility ( photocopy, no need original ) \n",
      "* If you receive d a Certificate of eligi bility by email from Japan Immigration, submit a \n",
      "photocopy of the email.  \n",
      " \n",
      " \n",
      "   【For COE Holders of SPOUSE/CHILD OF JAPANESE, SPOUSE/CHLILD OF PERMANETN RESIDENT ,  \n",
      "LONG TERM RESIDENT and DEPENDENT】 \n",
      " \n",
      "   (4) Birth Certificate (issued by PSA within 1 year)  \n",
      "   【ADDITIONAL REQUIREMENTS 】 \n",
      "    - If the certificate is unreadable, submit Birth certificate issued by Local Civil Registrar.  \n",
      "    - If the birth certificate i s “LATE REGISTRATION”, submit Baptismal Certificate and School Record \n",
      "(DepEd: Form 137). \n",
      "    - If there is no r ecord of birth in PSA, submit Birth Certificate issu ed by Local Civil Registrar and \n",
      "Negative Certificate issued by PSA.  \n",
      " \n",
      "   (5) Marriage Certificate (issued by PSA within 1 year. For the married only.)  \n",
      "    【ADDITIONAL REQUIREMENTS 】 \n",
      "    - If the certificate is unreadable, submit Marriage certificate issued b y Local Civil Registrar. \n",
      "- If there is no reco rd of marriage in PSA, submit Marriage Certificate issued by Local Civil Registrar \n",
      "and Negative Certificate issued by PSA.  \n",
      " \n",
      " \n",
      "\n"
     ]
    }
   ],
   "source": [
    "# check\n",
    "docs = vector_store.similarity_search(\"What is the requirements for tourism?\", k=7)\n",
    "for doc in docs:\n",
    "    print(f'Page {doc.metadata[\"page\"]}: {doc.page_content}\\n')"
   ]
  },
  {
   "cell_type": "markdown",
   "metadata": {},
   "source": [
    "## Prompt Template"
   ]
  },
  {
   "cell_type": "code",
   "execution_count": 210,
   "metadata": {},
   "outputs": [],
   "source": [
    "system_template = \"\"\"\n",
    "Answer the following based on this {context}, \n",
    "otherwise just give this url (https://www.ph.emb-japan.go.jp/itpr_en/00_000035.html) \n",
    "for more information about Japan Visa\"\"\"\n",
    "\n",
    "prompt_template = ChatPromptTemplate.from_messages(\n",
    "    [(\"system\", system_template), (\"user\", \"{question}\")]\n",
    ")"
   ]
  },
  {
   "cell_type": "markdown",
   "metadata": {},
   "source": [
    "## LLM"
   ]
  },
  {
   "cell_type": "code",
   "execution_count": 211,
   "metadata": {},
   "outputs": [],
   "source": [
    "llm = ChatOpenAI(model=\"gpt-4o-mini\")"
   ]
  },
  {
   "cell_type": "markdown",
   "metadata": {},
   "source": [
    "## RAG"
   ]
  },
  {
   "cell_type": "markdown",
   "metadata": {},
   "source": [
    "Things to Consider\n",
    "- Evaluation Metric"
   ]
  },
  {
   "cell_type": "markdown",
   "metadata": {},
   "source": [
    "## Evaluation (BLUE SCORE)"
   ]
  },
  {
   "cell_type": "code",
   "execution_count": 221,
   "metadata": {},
   "outputs": [],
   "source": [
    "# Define a function to change the question and generate the response\n",
    "def change_question_and_generate_response(question):\n",
    "    # Dynamically change the question\n",
    "    \n",
    "    # RAG model\n",
    "    context = vector_store.similarity_search(question, k=1)\n",
    "    # Invoke the prompt template with the new question\n",
    "    prompt = prompt_template.invoke({\n",
    "        \"context\": context,\n",
    "        \"question\": question  # Provide the new question here\n",
    "    })\n",
    "    \n",
    "    # Generate response from the LLM\n",
    "    response = llm.invoke(prompt)\n",
    "    \n",
    "    return response"
   ]
  },
  {
   "cell_type": "code",
   "execution_count": 222,
   "metadata": {},
   "outputs": [],
   "source": [
    "import spacy\n",
    "\n",
    "# Load spaCy model\n",
    "nlp = spacy.load(\"en_core_web_sm\")\n",
    "\n",
    "# Function to tokenize words using spaCy\n",
    "def tokenize_text(text):\n",
    "    # Process the text with spaCy NLP pipeline\n",
    "    doc = nlp(text)\n",
    "    # Extract words (tokens)\n",
    "    tokens = [token.text for token in doc]\n",
    "    return tokens"
   ]
  },
  {
   "cell_type": "code",
   "execution_count": 223,
   "metadata": {},
   "outputs": [
    {
     "data": {
      "text/html": [
       "<div>\n",
       "<style scoped>\n",
       "    .dataframe tbody tr th:only-of-type {\n",
       "        vertical-align: middle;\n",
       "    }\n",
       "\n",
       "    .dataframe tbody tr th {\n",
       "        vertical-align: top;\n",
       "    }\n",
       "\n",
       "    .dataframe thead th {\n",
       "        text-align: right;\n",
       "    }\n",
       "</style>\n",
       "<table border=\"1\" class=\"dataframe\">\n",
       "  <thead>\n",
       "    <tr style=\"text-align: right;\">\n",
       "      <th></th>\n",
       "      <th>question</th>\n",
       "      <th>answer 1</th>\n",
       "      <th>answer 2</th>\n",
       "      <th>answer 3</th>\n",
       "    </tr>\n",
       "  </thead>\n",
       "  <tbody>\n",
       "    <tr>\n",
       "      <th>0</th>\n",
       "      <td>What is the requirements for tourism?</td>\n",
       "      <td>The requirements for tourism to Japan, as outl...</td>\n",
       "      <td>Here’s a simplified version of the requirement...</td>\n",
       "      <td>Here’s an even simpler version of the requirem...</td>\n",
       "    </tr>\n",
       "    <tr>\n",
       "      <th>1</th>\n",
       "      <td>What is the requirements for visiting relatives?</td>\n",
       "      <td>The requirements for visiting relatives in Jap...</td>\n",
       "      <td>Here’s a simplified version of the requirement...</td>\n",
       "      <td>Here’s an even simpler version of the requirem...</td>\n",
       "    </tr>\n",
       "    <tr>\n",
       "      <th>2</th>\n",
       "      <td>what is the requirements for business puposes?</td>\n",
       "      <td>The requirements for visiting Japan for **busi...</td>\n",
       "      <td>Here’s a simplified version of the requirement...</td>\n",
       "      <td>Here’s an even simpler version:\\n\\n### **For t...</td>\n",
       "    </tr>\n",
       "    <tr>\n",
       "      <th>3</th>\n",
       "      <td>what is the requirements for visiting friends?</td>\n",
       "      <td>The requirements for visiting Japan for **frie...</td>\n",
       "      <td>Here’s a simpler version:\\n\\n### **For the App...</td>\n",
       "      <td>Here’s an even simpler version:\\n\\n### **For t...</td>\n",
       "    </tr>\n",
       "    <tr>\n",
       "      <th>4</th>\n",
       "      <td>what is the requirements for visiting US milit...</td>\n",
       "      <td>The requirements for visiting **US military pe...</td>\n",
       "      <td>Here’s a simplified version:\\n\\n### **For the ...</td>\n",
       "      <td>Here’s the simplest version:\\n\\n### **For the ...</td>\n",
       "    </tr>\n",
       "    <tr>\n",
       "      <th>5</th>\n",
       "      <td>what is the requirements for spouse or child o...</td>\n",
       "      <td>The requirements for the **spouse or child of ...</td>\n",
       "      <td>Here’s a simpler version:\\n\\n### **For the App...</td>\n",
       "      <td>Here’s a more simplified version:\\n\\n### **For...</td>\n",
       "    </tr>\n",
       "    <tr>\n",
       "      <th>6</th>\n",
       "      <td>what is the requirements for transit?</td>\n",
       "      <td>The requirements for **transit** to Japan are ...</td>\n",
       "      <td>Here’s a simplified version for **transit** to...</td>\n",
       "      <td>Here’s the simplest version for **transit** to...</td>\n",
       "    </tr>\n",
       "  </tbody>\n",
       "</table>\n",
       "</div>"
      ],
      "text/plain": [
       "                                            question  \\\n",
       "0              What is the requirements for tourism?   \n",
       "1   What is the requirements for visiting relatives?   \n",
       "2     what is the requirements for business puposes?   \n",
       "3     what is the requirements for visiting friends?   \n",
       "4  what is the requirements for visiting US milit...   \n",
       "5  what is the requirements for spouse or child o...   \n",
       "6              what is the requirements for transit?   \n",
       "\n",
       "                                            answer 1  \\\n",
       "0  The requirements for tourism to Japan, as outl...   \n",
       "1  The requirements for visiting relatives in Jap...   \n",
       "2  The requirements for visiting Japan for **busi...   \n",
       "3  The requirements for visiting Japan for **frie...   \n",
       "4  The requirements for visiting **US military pe...   \n",
       "5  The requirements for the **spouse or child of ...   \n",
       "6  The requirements for **transit** to Japan are ...   \n",
       "\n",
       "                                            answer 2  \\\n",
       "0  Here’s a simplified version of the requirement...   \n",
       "1  Here’s a simplified version of the requirement...   \n",
       "2  Here’s a simplified version of the requirement...   \n",
       "3  Here’s a simpler version:\\n\\n### **For the App...   \n",
       "4  Here’s a simplified version:\\n\\n### **For the ...   \n",
       "5  Here’s a simpler version:\\n\\n### **For the App...   \n",
       "6  Here’s a simplified version for **transit** to...   \n",
       "\n",
       "                                            answer 3  \n",
       "0  Here’s an even simpler version of the requirem...  \n",
       "1  Here’s an even simpler version of the requirem...  \n",
       "2  Here’s an even simpler version:\\n\\n### **For t...  \n",
       "3  Here’s an even simpler version:\\n\\n### **For t...  \n",
       "4  Here’s the simplest version:\\n\\n### **For the ...  \n",
       "5  Here’s a more simplified version:\\n\\n### **For...  \n",
       "6  Here’s the simplest version for **transit** to...  "
      ]
     },
     "execution_count": 223,
     "metadata": {},
     "output_type": "execute_result"
    }
   ],
   "source": [
    "import pandas as pd\n",
    "\n",
    "\n",
    "QA_PATH = \"./dataset/qa/QA.xlsx\"\n",
    "qa = pd.read_excel(QA_PATH)\n",
    "qa"
   ]
  },
  {
   "cell_type": "code",
   "execution_count": 224,
   "metadata": {},
   "outputs": [
    {
     "name": "stdout",
     "output_type": "stream",
     "text": [
      "average bleu score: 0.5229361315213505\n"
     ]
    }
   ],
   "source": [
    "from nltk.translate.bleu_score import sentence_bleu, SmoothingFunction\n",
    "\n",
    "bleu_scores = []\n",
    "# Using SmoothingFunction() to prevent zero BLEU score\n",
    "smooth = SmoothingFunction().method1\n",
    "for row in qa.itertuples():\n",
    "    question, answer1, answer2, answer3 = row[1], row[2], row[3], row[4]\n",
    "    references = [tokenize_text(answer1), tokenize_text(answer2), tokenize_text(answer3)]\n",
    "    # do something\n",
    "    # Calculate BLEU score (use sentence_bleu for a single sentence)\n",
    "    response = change_question_and_generate_response(question)\n",
    "    candidate = tokenize_text(response.content)\n",
    "\n",
    "    bleu_score = sentence_bleu(references, candidate, smoothing_function=smooth)\n",
    "    bleu_scores.append(bleu_score)\n",
    "\n",
    "print(f\"average bleu score: {sum(bleu_scores)/len(bleu_scores)}\")\n",
    "    "
   ]
  }
 ],
 "metadata": {
  "kernelspec": {
   "display_name": ".venv",
   "language": "python",
   "name": "python3"
  },
  "language_info": {
   "codemirror_mode": {
    "name": "ipython",
    "version": 3
   },
   "file_extension": ".py",
   "mimetype": "text/x-python",
   "name": "python",
   "nbconvert_exporter": "python",
   "pygments_lexer": "ipython3",
   "version": "3.11.1"
  }
 },
 "nbformat": 4,
 "nbformat_minor": 2
}
