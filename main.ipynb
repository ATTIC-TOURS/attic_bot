{
 "cells": [
  {
   "cell_type": "markdown",
   "metadata": {},
   "source": [
    "# RAG (main)"
   ]
  },
  {
   "cell_type": "markdown",
   "metadata": {},
   "source": [
    "## Dependencies"
   ]
  },
  {
   "cell_type": "code",
   "execution_count": 129,
   "metadata": {},
   "outputs": [],
   "source": [
    "import os\n",
    "from dotenv import load_dotenv\n",
    "from langchain_openai import OpenAIEmbeddings, ChatOpenAI\n",
    "from langchain_core.prompts import ChatPromptTemplate\n",
    "import hnswlib\n",
    "import numpy as np\n",
    "from langchain.vectorstores import VectorStore\n",
    "from langchain_community.document_loaders import PyPDFLoader\n",
    "from langchain_core.embeddings import Embeddings\n",
    "import torch\n",
    "from transformers import RobertaTokenizer, RobertaModel\n",
    "from langchain_core.vectorstores import InMemoryVectorStore\n",
    "import pandas as pd\n",
    "import spacy\n",
    "from nltk.translate.bleu_score import sentence_bleu, SmoothingFunction\n",
    "from transformers import T5ForConditionalGeneration, T5Tokenizer, T5EncoderModel"
   ]
  },
  {
   "cell_type": "markdown",
   "metadata": {},
   "source": [
    "## Environment Setup"
   ]
  },
  {
   "cell_type": "code",
   "execution_count": 130,
   "metadata": {},
   "outputs": [],
   "source": [
    "# load the environment variables\n",
    "load_dotenv() \n",
    "\n",
    "os.environ[\"LANGCHAIN_TRACING_V2\"] = \"true\"\n",
    "os.environ[\"LANGCHAIN_API_KEY\"] = os.getenv(\"LANGCHAIN_API_KEY\")\n",
    "os.environ[\"LANGCHAIN_ENDPOINT\"] = os.getenv(\"LANGCHAIN_ENDPOINT\")\n",
    "os.environ[\"LANGCHAIN_PROJECT\"] = os.getenv(\"LANGCHAIN_PROJECT\")\n",
    "os.environ[\"OPENAI_API_KEY\"] = os.getenv(\"OPENAI_API_KEY\")"
   ]
  },
  {
   "cell_type": "markdown",
   "metadata": {},
   "source": [
    "## Retrieve PDFs (target)"
   ]
  },
  {
   "cell_type": "markdown",
   "metadata": {},
   "source": [
    "Things to Consider\n",
    "- chunking level\n",
    "- data cleaning\n",
    "- meta data"
   ]
  },
  {
   "cell_type": "code",
   "execution_count": 131,
   "metadata": {},
   "outputs": [],
   "source": [
    "# PDFs (target)\n",
    "pdf_urls = [\n",
    "    \"https://www.ph.emb-japan.go.jp/files/100508281.pdf\", # TOURISM\n",
    "    \"https://www.ph.emb-japan.go.jp/files/100412012.pdf\", # PACKAGE TOUR\n",
    "    \"https://www.ph.emb-japan.go.jp/files/100508282.pdf\", # BUSINESS, CONFERENCE or CULTURAL EXCHANGE, etc.\n",
    "    \"https://www.ph.emb-japan.go.jp/files/100508283.pdf\", # VISITING RELATIVES\n",
    "    \"https://www.ph.emb-japan.go.jp/files/100508284.pdf\", # VISITING FRIENDS OR DISTANT RELATIVES\n",
    "    \"https://www.ph.emb-japan.go.jp/files/100508285.pdf\", # VISITING US MILITARY PERSONNEL\n",
    "    \"https://www.ph.emb-japan.go.jp/files/100585068.pdf\", # SPOUSE OR CHLID OF JAPANESE NATIONAL RESIDING IN THE PHILIPPINES\n",
    "    \"https://www.ph.emb-japan.go.jp/files/100508287.pdf\", # TRANSIT\n",
    "    \"https://www.ph.emb-japan.go.jp/files/100508288.pdf\", # MULTIPLE-ENTRY VISA FOR TEMPORARY VISITOR\n",
    "    \"https://www.ph.emb-japan.go.jp/files/100674192.pdf\", # MULTIPLE-ENTRY TEMPORARY VISITOR VISA (PHILIPPINE NATIONALS WITH CONSIDERABLE FINANCIAL CAPACITY) \n",
    "    \"https://www.ph.emb-japan.go.jp/files/100404404.pdf\", # MULTIPLE-ENTRY VISA FOR TEMPORARY VISITOR\n",
    "    \"https://www.ph.emb-japan.go.jp/files/100479463.pdf\", # STUDENT, WORKER AND DEPENDENT\n",
    "    \"https://www.ph.emb-japan.go.jp/files/100415046.pdf\", # OFFICIAL \n",
    "    \"https://www.ph.emb-japan.go.jp/files/100415047.pdf\", # HOUSEKEEPER OF DIPLOMAT/OFFICIAL\n",
    "    \"https://www.ph.emb-japan.go.jp/files/100415048.pdf\", # NIKKEI-JIN (JAPANESE DESCENDANT)\n",
    "    \"https://www.ph.emb-japan.go.jp/files/100508289.pdf\", # FILIPINO PARENTS TRAVELLING TO JAPAN WITH JAPANESE-FILIPINO CHILDREN\n",
    "]\n",
    "\n",
    "headers = {\n",
    "    \"User-Agent\": \"Mozilla/5.0 (Linux; Android 6.0; Nexus 5 Build/MRA58N) AppleWebKit/537.36 (KHTML, like Gecko) Chrome/131.0.0.0 Mobile Safari/537.36\"\n",
    "    }"
   ]
  },
  {
   "cell_type": "code",
   "execution_count": 132,
   "metadata": {},
   "outputs": [],
   "source": [
    "documents = []\n",
    "for url in pdf_urls:\n",
    "    loader = PyPDFLoader(url, headers=headers)\n",
    "    async for doc in loader.alazy_load():\n",
    "        documents.append(doc)"
   ]
  },
  {
   "cell_type": "markdown",
   "metadata": {},
   "source": [
    "## Embeddings"
   ]
  },
  {
   "cell_type": "markdown",
   "metadata": {},
   "source": [
    "Things to Consider\n",
    "- Evaluation Metric\n",
    "- dataset\n",
    "- model"
   ]
  },
  {
   "cell_type": "code",
   "execution_count": 133,
   "metadata": {},
   "outputs": [],
   "source": [
    "openai_embeddings = OpenAIEmbeddings(model=\"text-embedding-3-large\")"
   ]
  },
  {
   "cell_type": "markdown",
   "metadata": {},
   "source": [
    "## T5-small Embeddings"
   ]
  },
  {
   "cell_type": "code",
   "execution_count": 134,
   "metadata": {},
   "outputs": [],
   "source": [
    "class T5SmallEmbedding(Embeddings):\n",
    "    def __init__(self):\n",
    "        # Load pre-trained T5 small model and tokenizer\n",
    "        self.model = T5EncoderModel.from_pretrained(\"t5-small\")\n",
    "        self.tokenizer = T5Tokenizer.from_pretrained(\"t5-small\")\n",
    "    \n",
    "    def embed_documents(self, documents):\n",
    "        embeddings = []\n",
    "        for doc in documents:\n",
    "            inputs = self.tokenizer(doc, return_tensors='pt', truncation=True, padding=True, max_length=512)\n",
    "            with torch.no_grad():\n",
    "                outputs = self.model(**inputs)\n",
    "                # Using the mean of the last hidden state as the document embedding\n",
    "                embedding = outputs.last_hidden_state.mean(dim=1).squeeze().numpy()\n",
    "                embeddings.append(embedding)\n",
    "        return embeddings\n",
    "\n",
    "    def embed_query(self, query):\n",
    "        inputs = self.tokenizer(query, return_tensors='pt', truncation=True, padding=True, max_length=512)\n",
    "        with torch.no_grad():\n",
    "            outputs = self.model(**inputs)\n",
    "            # Using the mean of the last hidden state as the query embedding\n",
    "            embedding = outputs.last_hidden_state.mean(dim=1).squeeze().numpy()\n",
    "        return embedding"
   ]
  },
  {
   "cell_type": "code",
   "execution_count": 135,
   "metadata": {},
   "outputs": [],
   "source": [
    "# Initialize the custom embedding class with your fine-tuned model and tokenizer\n",
    "custom_embeddings = T5SmallEmbedding()"
   ]
  },
  {
   "cell_type": "code",
   "execution_count": 136,
   "metadata": {},
   "outputs": [],
   "source": [
    "embeddings_list = [\n",
    "    (\"openai embeddings\", openai_embeddings),\n",
    "    (\"T5-small embeddings\", custom_embeddings)\n",
    "]"
   ]
  },
  {
   "cell_type": "markdown",
   "metadata": {},
   "source": [
    "## Vector Database (HNSW)"
   ]
  },
  {
   "cell_type": "markdown",
   "metadata": {},
   "source": [
    "Things to Consider\n",
    "- Evaluation Metric\n",
    "- HNSW parameters"
   ]
  },
  {
   "cell_type": "markdown",
   "metadata": {},
   "source": [
    "## HNSW"
   ]
  },
  {
   "cell_type": "code",
   "execution_count": 137,
   "metadata": {},
   "outputs": [],
   "source": [
    "class HNSWLibVectorStore(VectorStore):\n",
    "    def __init__(self, index, embedding_model, documents):\n",
    "        self.index = index\n",
    "        self.embedding_model = embedding_model\n",
    "        self.documents = [doc.page_content for doc in documents]\n",
    "\n",
    "    def similarity_search(self, query, k=3):\n",
    "        # Get embedding for the query\n",
    "        query_embedding = self.embedding_model.embed_documents([query])\n",
    "        query_embedding = np.array(query_embedding, dtype=np.float32)\n",
    "\n",
    "        # Perform the knn query\n",
    "        labels, distances = self.index.knn_query(query_embedding, k=k)\n",
    "\n",
    "        # Return the closest documents and their distances\n",
    "        results = [(self.documents[label], distances[0][i]) for i, label in enumerate(labels[0])]\n",
    "        return results\n",
    "    \n",
    "    @classmethod\n",
    "    def from_texts(cls, texts, embedding_model, **kwargs):\n",
    "        # Step 1: Get the embeddings for the texts\n",
    "        embeddings = embedding_model.embed(texts)\n",
    "        \n",
    "        # Step 2: Initialize the HNSW index (dimension should match embedding size)\n",
    "        dim = len(embeddings[0])\n",
    "        index = hnswlib.Index(space='cosine', dim=dim)  # Use cosine distance for similarity\n",
    "        index.init_index(max_elements=len(texts), ef_construction=200, M=16)\n",
    "        \n",
    "        # Step 3: Add embeddings to the index\n",
    "        embeddings = np.array(embeddings, dtype=np.float32)\n",
    "        index.add_items(embeddings)\n",
    "\n",
    "        # Step 4: Return an instance of the custom vector store\n",
    "        return cls(index=index, embedding_model=embedding_model, documents=texts)"
   ]
  },
  {
   "cell_type": "code",
   "execution_count": 138,
   "metadata": {},
   "outputs": [],
   "source": [
    "dim = 3072  # Dimensionality of the embedding vectors (adjust to match your model's output)\n",
    "num_elements = len(documents)  # Number of elements in your dataset\n",
    "\n",
    "# Initialize the HNSW index with 'cosine' similarity space\n",
    "index = hnswlib.Index(space='cosine', dim=dim)\n",
    "\n",
    "\n",
    "# PARAMETERS to tweak\n",
    "ef = 200 # 200 # Controls the quality of the graph construction\n",
    "M = 16  # 16   # Controls the number of neighbors for each node in the graph\n",
    "\n",
    "# Initialize the index with the number of elements\n",
    "index.init_index(max_elements=num_elements, ef_construction=ef, M=M)\n",
    "\n",
    "# Embed the documents\n",
    "texts = [doc.page_content for doc in documents]\n",
    "document_embeddings = embeddings_list[0][1].embed_documents(texts)\n",
    "\n",
    "\n",
    "# Convert document embeddings to numpy array and add them to the index\n",
    "document_embeddings = np.array(document_embeddings, dtype=np.float32)\n",
    "index.add_items(document_embeddings)\n",
    "\n",
    "\n"
   ]
  },
  {
   "cell_type": "code",
   "execution_count": 139,
   "metadata": {},
   "outputs": [
    {
     "name": "stdout",
     "output_type": "stream",
     "text": [
      "Document: TOURISM   \n",
      "May 2024  \n",
      "  \n",
      "A. PURPOSE  \n",
      "Visit Japan for tourism.  \n",
      "  \n",
      "B. Requirements（Details→https://www.ph.emb-japan.go.jp/itpr_ja/11_000001_00898.html）  \n",
      "    \n",
      "※ Downloadable from this website   \n",
      "      \n",
      "(1) Passport（Holder’s signature required）  \n",
      "(2) Application Form ※（A facial Photo (4.5×3.5cm) must be attached.）  \n",
      "(3) PSA issued Birth Certificate and Marriage Certificate (for married applicants), issued within 1 year \n",
      "☞ Unnecessary if there is used Japan Visa on passport. \n",
      "【ADDITIONAL REQUIREMENTS】  \n",
      "- If (3) is unreadable, submit Birth/Marriage certificate issued by Local Civil Registrar.  \n",
      "- If Birth Certificate is “LATE REGISTRATION”, submit Baptismal Certificate and School Record (Form 137).  \n",
      "-If there is no record of Birth/Marriage in PSA, submit Birth Certificate issued by Local Civil Registrar and Negative  \n",
      "Certificate issued by PSA.  \n",
      "(4) Itinerary in Japan  \n",
      " \n",
      "【In case that applicant will shoulder part/all of travel expense】   \n",
      " \n",
      "(5) Applicant’s Bank Certificate (balance within the last six months must be shown)  \n",
      "* If the Average Daily Balance (ADB) in the last six months is not indicated, bank statement must be \n",
      "submitted to prove transactions within the last six months. \n",
      "(6) Applicant’s Tax Payment Certificate  \n",
      "* Form 2316, must have signature of the Employer and Employee \n",
      "* For business owners, proof of actual payment of tax must be submitted in addition to the BIR Tax \n",
      "Payment Certificate Form (copy acceptable) \n",
      "(7) Applicant’s Employment Certificate (must indicate period of employment, salary and position) \n",
      "* For business owners, Department of Trade and Industry (DTI) “Certificate of Business Name \n",
      "Registration” and Mayor’s Permit from the City Hall must be submitted.  \n",
      "* If for any reason other than being a retiree, full-time housewife or unemployed, applicant is unable to \n",
      "submit (6) and (7) above, a letter of explanation about the reason must be submitted. For students, a \n",
      "copy of School ID or Certificate of Enrollment in School must be submitted. \n",
      "  \n",
      "【In case that guarantor in the Philippines will shoulder part/all of travel expense】  \n",
      "(8) Guarantee Letter ※  \n",
      "(9) Proof of relationship between applicant and guarantor(e.g. Birth Certificates or Photos)  \n",
      "(10) Bank Certificate [see (5) above] \n",
      "(11) Photocopy of Tax Payment Certificate [see (6) above]  \n",
      "(12) Employment Certificate [see (7) above] \n",
      "  \n",
      "  , Similarity score: 0.6359444260597229\n",
      "Document: PACKAGE TOUR ARRANGED BY REGISTERED TRAVEL AGENCIES  \n",
      "OCTOBER 2022 \n",
      "A. PURPOSE \n",
      "Join a package tour for sightseeing arranged by registered travel agency of the Embassy. \n",
      "(For the Philippine nationals only . T he term of stay in Japan must be within 15 days. The lis t of \n",
      "registered travel agencies is on our website.)  \n",
      "B. Requirements（Details→https://www.ph.emb-japan.go.jp/itpr_ja/11_000001_00898.html ） \n",
      "  ※ Downloadable from this website   \n",
      "APPLICANT’S REQUIREMENTS  \n",
      "(1) Passport（Holder’s signature required ） \n",
      "(2) Application Form  ※（A facial Photo ( 4.5×3.5cm) must be attached. ） \n",
      "   (3) (For a corporate incentive tour) Documents to show an outline of the sponsor corporation \n",
      "       (e.g., a hard copy of the website , a photocopy of a certificate of business registration, etc.)   \n",
      "☞ If there is a used Japanese visa on your passport, the following (4) and (5) are unnecessary. \n",
      "   (4) Birth Certificate (issued by PSA within 1 year)  \n",
      "    【ADDITIONAL REQUIREMENTS 】 \n",
      "    - If the certificate is unreadable, submit a Birth certificate issued by Local Civil Registrar.  \n",
      "    - If the birth certificate is “LATE REGIS TRATION”, submit a Baptismal Certificate and School Record \n",
      "(Form 137). \n",
      "    - If there is no record of birth in PSA, submit a Birth Certificate issued by Local Civil Registrar and \n",
      "Negative Certificate issued by PSA.  \n",
      "   (5) Marriage Certificate ( issued by PSA within 1 year. For the married only.) \n",
      "    【ADDITIONAL REQUIREMENTS 】 \n",
      "    - If the certificate is unreadable, submit a Marriage certificate issued by Local Civil Registrar.  \n",
      "- If there is no record of marriage in PSA , submit a Marriage  Certificate issued by Local Civil Registrar \n",
      "and Negative Certificate issued by PSA. \n",
      " \n",
      " \n",
      " REQUIREMENTS OF REGISTERED TRAVEL AGENCY IN THE PHILIPPINES  \n",
      "(6) List of tour participants  \n",
      "(7) Itinerary (including flight, hotel and transportation information and addresses that tour participants are \n",
      "individually visiting during the  tour and their contact numbers in Japan) \n",
      "   (8) A copy of the advertisement(s) for the tour (website, leaflet, etc.)  \n",
      "(9) Round-trip airplane ticket reservation slips (air tickets need not to be issued at the time of visa \n",
      "application) \n",
      "(10) (For a tour accompanied by a tour conductor ) Tour conductor’s certificate of employment  \n",
      " - If the tour conductor is not full -time employee of the registered travel agency , submit a copy of \n",
      "the tour conductor’s employment contract  \n",
      "       \n",
      " \n",
      "REQUIREMENTS OF CONTRACT JAPANESE TRAVEL AGENCY \n",
      "(11) Itinerary in Japanese  \n",
      "(12) Copies of hotel reservation slips  \n",
      "(13) Copies of domestic transportation service reservation slips (for domestic flights, Shinkansen and express \n",
      "trains, buses, etc.) if applicable  \n",
      "         \n",
      " , Similarity score: 0.713921070098877\n"
     ]
    }
   ],
   "source": [
    "# Create the custom vector store with HNSWLib\n",
    "vector_store = HNSWLibVectorStore(index=index, embedding_model=embeddings_list[0][1], documents=documents)\n",
    "\n",
    "# Perform a similarity search\n",
    "query = \"tourism\"\n",
    "results = vector_store.similarity_search(query, k=2)\n",
    "\n",
    "# Print the results\n",
    "for doc, score in results:\n",
    "    print(f\"Document: {doc}, Similarity score: {score}\")"
   ]
  },
  {
   "cell_type": "markdown",
   "metadata": {},
   "source": [
    "## RAG"
   ]
  },
  {
   "cell_type": "code",
   "execution_count": 140,
   "metadata": {},
   "outputs": [],
   "source": [
    "\n",
    "# PROMPT TEMPLATE\n",
    "system_template = \"\"\"\n",
    "Answer the following based on this {context}, \n",
    "otherwise just give this url (https://www.ph.emb-japan.go.jp/itpr_en/00_000035.html) \n",
    "for more information about Japan Visa\"\"\"\n",
    "\n",
    "prompt_template = ChatPromptTemplate.from_messages(\n",
    "    [(\"system\", system_template), (\"user\", \"{question}\")]\n",
    ")\n",
    "\n",
    "\n",
    "class RAG:\n",
    "    \n",
    "    def __init__(self, docs, embeddings, ef=200, M=16):\n",
    "        self.llm = ChatOpenAI(model=\"gpt-4o-mini\")\n",
    "        \n",
    "        # INDEX\n",
    "        # Embed the documents\n",
    "        texts = [doc.page_content for doc in documents]\n",
    "        document_embeddings = embeddings.embed_documents(texts)\n",
    "        # Convert document embeddings to numpy array and add them to the index\n",
    "        document_embeddings = np.array(document_embeddings, dtype=np.float32)\n",
    "        dim = len(document_embeddings[0])  # Dimensionality of the embedding vectors (adjust to match your model's output)\n",
    "        num_elements = len(docs)  # Number of elements in your dataset\n",
    "        # Initialize the HNSW index with 'cosine' similarity space\n",
    "        index = hnswlib.Index(space='cosine', dim=dim)\n",
    "        # Initialize the index with the number of elements\n",
    "        index.init_index(max_elements=num_elements, ef_construction=ef, M=M)\n",
    "        \n",
    "        index.add_items(document_embeddings)\n",
    "        \n",
    "        \n",
    "        self.custom_vector_db = HNSWLibVectorStore(index=index, embedding_model=embeddings, documents=docs)\n",
    "        self.vector_store = InMemoryVectorStore.from_documents(docs, embeddings)\n",
    "        system_template = \"\"\"\n",
    "                            Answer the following based on this {context}, \n",
    "                            otherwise just give this url (https://www.ph.emb-japan.go.jp/itpr_en/00_000035.html) \n",
    "                            for more information about Japan Visa\n",
    "                            \"\"\"\n",
    "        self.prompt_template = ChatPromptTemplate.from_messages([(\"system\", system_template), (\"user\", \"{question}\")]\n",
    ")\n",
    "        \n",
    "    \n",
    "    def response(self, question, custom_vector=True):\n",
    "        \"\"\"\"return the response as str\"\"\"\n",
    "        \n",
    "        # SIMILARITY SEARCH\n",
    "        if custom_vector:\n",
    "            context = self.custom_vector_db.similarity_search(question, k=1)\n",
    "        else:\n",
    "            context = self.vector_store.similarity_search(question, k=1)\n",
    "        \n",
    "        \n",
    "        # PROMPT\n",
    "        prompt = self.prompt_template.invoke({\n",
    "            \"context\": context,\n",
    "            \"question\": question \n",
    "        })\n",
    "        \n",
    "        # Generate response from the LLM\n",
    "        response = self.llm.invoke(prompt)\n",
    "        \n",
    "        return response.content"
   ]
  },
  {
   "cell_type": "code",
   "execution_count": 141,
   "metadata": {},
   "outputs": [],
   "source": [
    "rag = RAG(documents, embeddings_list[0][1])"
   ]
  },
  {
   "cell_type": "code",
   "execution_count": 142,
   "metadata": {},
   "outputs": [
    {
     "data": {
      "text/plain": [
       "'The requirements for tourism to Japan are as follows:\\n\\n1. **Passport** (Holder’s signature required)\\n2. **Application Form** (A facial photo (4.5×3.5cm) must be attached)\\n3. **PSA issued Birth Certificate and Marriage Certificate** (for married applicants), issued within 1 year. This is unnecessary if there is a used Japan Visa on the passport.\\n   - If the documents are unreadable, submit a Birth/Marriage certificate issued by Local Civil Registrar.\\n   - If the Birth Certificate is a \"LATE REGISTRATION\", submit a Baptismal Certificate and School Record (Form 137).\\n   - If there is no record of Birth/Marriage in PSA, submit a Birth Certificate issued by Local Civil Registrar and a Negative Certificate issued by PSA.\\n4. **Itinerary in Japan**\\n5. **Applicant’s Bank Certificate** (balance within the last six months must be shown). If the Average Daily Balance (ADB) in the last six months is not indicated, a bank statement must be submitted.\\n6. **Applicant’s Tax Payment Certificate** (Form 2316, must have the signature of the Employer and Employee). For business owners, proof of actual payment of tax must be submitted in addition to the BIR Tax Payment Certificate Form (copy acceptable).\\n7. **Applicant’s Employment Certificate** (must indicate period of employment, salary, and position). For business owners, a Department of Trade and Industry (DTI) “Certificate of Business Name Registration” and Mayor’s Permit from the City Hall must be submitted. If the applicant is unable to submit items 6 and 7 for any reason other than being a retiree, full-time housewife, or unemployed, a letter of explanation must be submitted. For students, a copy of School ID or Certificate of Enrollment must be submitted.\\n\\nIf a guarantor in the Philippines will shoulder part/all of the travel expenses, the following additional requirements are needed:\\n\\n8. **Guarantee Letter**\\n9. **Proof of relationship** between applicant and guarantor (e.g., Birth Certificates or Photos)\\n10. **Bank Certificate** (see item 5 above)\\n11. **Photocopy of Tax Payment Certificate** (see item 6 above)\\n12. **Employment Certificate** (see item 7 above)\\n\\nFor more information about Japan Visa, you can visit [this link](https://www.ph.emb-japan.go.jp/itpr_en/00_000035.html).'"
      ]
     },
     "execution_count": 142,
     "metadata": {},
     "output_type": "execute_result"
    }
   ],
   "source": [
    "rag.response(\"what is the requirements for tourism?\")"
   ]
  },
  {
   "cell_type": "markdown",
   "metadata": {},
   "source": [
    "## Evaluation (BLUE SCORE)"
   ]
  },
  {
   "cell_type": "code",
   "execution_count": 143,
   "metadata": {},
   "outputs": [
    {
     "data": {
      "text/html": [
       "<div>\n",
       "<style scoped>\n",
       "    .dataframe tbody tr th:only-of-type {\n",
       "        vertical-align: middle;\n",
       "    }\n",
       "\n",
       "    .dataframe tbody tr th {\n",
       "        vertical-align: top;\n",
       "    }\n",
       "\n",
       "    .dataframe thead th {\n",
       "        text-align: right;\n",
       "    }\n",
       "</style>\n",
       "<table border=\"1\" class=\"dataframe\">\n",
       "  <thead>\n",
       "    <tr style=\"text-align: right;\">\n",
       "      <th></th>\n",
       "      <th>question</th>\n",
       "      <th>answer 1</th>\n",
       "      <th>answer 2</th>\n",
       "      <th>answer 3</th>\n",
       "    </tr>\n",
       "  </thead>\n",
       "  <tbody>\n",
       "    <tr>\n",
       "      <th>0</th>\n",
       "      <td>What is the requirements for tourism?</td>\n",
       "      <td>The requirements for tourism to Japan, as outl...</td>\n",
       "      <td>Here’s a simplified version of the requirement...</td>\n",
       "      <td>Here’s an even simpler version of the requirem...</td>\n",
       "    </tr>\n",
       "    <tr>\n",
       "      <th>1</th>\n",
       "      <td>What is the requirements for visiting relatives?</td>\n",
       "      <td>The requirements for visiting relatives in Jap...</td>\n",
       "      <td>Here’s a simplified version of the requirement...</td>\n",
       "      <td>Here’s an even simpler version of the requirem...</td>\n",
       "    </tr>\n",
       "    <tr>\n",
       "      <th>2</th>\n",
       "      <td>what is the requirements for business puposes?</td>\n",
       "      <td>The requirements for visiting Japan for **busi...</td>\n",
       "      <td>Here’s a simplified version of the requirement...</td>\n",
       "      <td>Here’s an even simpler version:\\n\\n### **For t...</td>\n",
       "    </tr>\n",
       "    <tr>\n",
       "      <th>3</th>\n",
       "      <td>what is the requirements for visiting friends?</td>\n",
       "      <td>The requirements for visiting Japan for **frie...</td>\n",
       "      <td>Here’s a simpler version:\\n\\n### **For the App...</td>\n",
       "      <td>Here’s an even simpler version:\\n\\n### **For t...</td>\n",
       "    </tr>\n",
       "    <tr>\n",
       "      <th>4</th>\n",
       "      <td>what is the requirements for visiting US milit...</td>\n",
       "      <td>The requirements for visiting **US military pe...</td>\n",
       "      <td>Here’s a simplified version:\\n\\n### **For the ...</td>\n",
       "      <td>Here’s the simplest version:\\n\\n### **For the ...</td>\n",
       "    </tr>\n",
       "    <tr>\n",
       "      <th>5</th>\n",
       "      <td>what is the requirements for spouse or child o...</td>\n",
       "      <td>The requirements for the **spouse or child of ...</td>\n",
       "      <td>Here’s a simpler version:\\n\\n### **For the App...</td>\n",
       "      <td>Here’s a more simplified version:\\n\\n### **For...</td>\n",
       "    </tr>\n",
       "    <tr>\n",
       "      <th>6</th>\n",
       "      <td>what is the requirements for transit?</td>\n",
       "      <td>The requirements for **transit** to Japan are ...</td>\n",
       "      <td>Here’s a simplified version for **transit** to...</td>\n",
       "      <td>Here’s the simplest version for **transit** to...</td>\n",
       "    </tr>\n",
       "  </tbody>\n",
       "</table>\n",
       "</div>"
      ],
      "text/plain": [
       "                                            question  \\\n",
       "0              What is the requirements for tourism?   \n",
       "1   What is the requirements for visiting relatives?   \n",
       "2     what is the requirements for business puposes?   \n",
       "3     what is the requirements for visiting friends?   \n",
       "4  what is the requirements for visiting US milit...   \n",
       "5  what is the requirements for spouse or child o...   \n",
       "6              what is the requirements for transit?   \n",
       "\n",
       "                                            answer 1  \\\n",
       "0  The requirements for tourism to Japan, as outl...   \n",
       "1  The requirements for visiting relatives in Jap...   \n",
       "2  The requirements for visiting Japan for **busi...   \n",
       "3  The requirements for visiting Japan for **frie...   \n",
       "4  The requirements for visiting **US military pe...   \n",
       "5  The requirements for the **spouse or child of ...   \n",
       "6  The requirements for **transit** to Japan are ...   \n",
       "\n",
       "                                            answer 2  \\\n",
       "0  Here’s a simplified version of the requirement...   \n",
       "1  Here’s a simplified version of the requirement...   \n",
       "2  Here’s a simplified version of the requirement...   \n",
       "3  Here’s a simpler version:\\n\\n### **For the App...   \n",
       "4  Here’s a simplified version:\\n\\n### **For the ...   \n",
       "5  Here’s a simpler version:\\n\\n### **For the App...   \n",
       "6  Here’s a simplified version for **transit** to...   \n",
       "\n",
       "                                            answer 3  \n",
       "0  Here’s an even simpler version of the requirem...  \n",
       "1  Here’s an even simpler version of the requirem...  \n",
       "2  Here’s an even simpler version:\\n\\n### **For t...  \n",
       "3  Here’s an even simpler version:\\n\\n### **For t...  \n",
       "4  Here’s the simplest version:\\n\\n### **For the ...  \n",
       "5  Here’s a more simplified version:\\n\\n### **For...  \n",
       "6  Here’s the simplest version for **transit** to...  "
      ]
     },
     "execution_count": 143,
     "metadata": {},
     "output_type": "execute_result"
    }
   ],
   "source": [
    "# read Q and A\n",
    "QA_PATH = \"./dataset/qa/QA.xlsx\"\n",
    "qa = pd.read_excel(QA_PATH)\n",
    "qa"
   ]
  },
  {
   "cell_type": "code",
   "execution_count": 144,
   "metadata": {},
   "outputs": [],
   "source": [
    "# tokenizer\n",
    "\n",
    "# Load spaCy model\n",
    "nlp = spacy.load(\"en_core_web_sm\")\n",
    "\n",
    "# Function to tokenize words using spaCy\n",
    "def tokenize_text(text):\n",
    "    # Process the text with spaCy NLP pipeline\n",
    "    doc = nlp(text)\n",
    "    # Extract words (tokens)\n",
    "    tokens = [token.text for token in doc]\n",
    "    return tokens"
   ]
  },
  {
   "cell_type": "markdown",
   "metadata": {},
   "source": [
    "bleu score normal vector database"
   ]
  },
  {
   "cell_type": "code",
   "execution_count": 145,
   "metadata": {},
   "outputs": [
    {
     "name": "stdout",
     "output_type": "stream",
     "text": [
      "average bleu score (openai embeddings) (ef=150) (M=16): 0.5288301015261061\n",
      "average bleu score (T5-small embeddings) (ef=150) (M=16): 0.003418193090743239\n"
     ]
    }
   ],
   "source": [
    "efs = list(range(150, 250, 100))\n",
    "Ms = [16] * len(efs)\n",
    "\n",
    "bleu_scores = []\n",
    "for name, embeddings in embeddings_list:\n",
    "    temp1_blue_scores = []\n",
    "    for ef, M in zip(efs, Ms):\n",
    "        rag = RAG(documents, embeddings)\n",
    "        \n",
    "        temp2_blue_scores = []\n",
    "        # Using SmoothingFunction() to prevent zero BLEU score\n",
    "        smooth = SmoothingFunction().method1\n",
    "        for row in qa.itertuples():\n",
    "            \n",
    "            question, answer1, answer2, answer3 = row[1], row[2], row[3], row[4]\n",
    "            references = [tokenize_text(answer1), tokenize_text(answer2), tokenize_text(answer3)]\n",
    "            \n",
    "            # Calculate BLEU score (use sentence_bleu for a single sentence)\n",
    "            response = rag.response(question, custom_vector=False)\n",
    "            candidate = tokenize_text(response)\n",
    "\n",
    "            bleu_score = sentence_bleu(references, candidate, smoothing_function=smooth)\n",
    "            temp2_blue_scores.append(bleu_score)\n",
    "        average_bleu_score = sum(temp2_blue_scores)/len(temp2_blue_scores)\n",
    "        temp1_blue_scores.append(average_bleu_score)\n",
    "        print(f\"average bleu score ({name}) (ef={ef}) (M={M}): {sum(temp2_blue_scores)/len(temp2_blue_scores)}\")\n",
    "    bleu_scores.append(temp1_blue_scores)\n",
    "    "
   ]
  },
  {
   "cell_type": "code",
   "execution_count": 146,
   "metadata": {},
   "outputs": [
    {
     "data": {
      "image/png": "[encoded data removed]",
      "text/plain": [
       "<Figure size 640x480 with 1 Axes>"
      ]
     },
     "metadata": {},
     "output_type": "display_data"
    }
   ],
   "source": [
    "import matplotlib.pyplot as plt\n",
    "\n",
    "# Plotting both lines on the same graph\n",
    "plt.plot(efs, bleu_scores[0], label=\"openai embedding\", color='blue', marker='o')  # First line\n",
    "plt.plot(efs, bleu_scores[1], label=\"t5-small embedding\", color='green', marker='x')  # Second line\n",
    "\n",
    "plt.xticks(efs)\n",
    "\n",
    "# Adding titles and labels\n",
    "plt.title('Bleu Score for embedding comparison with ef')\n",
    "plt.xlabel('ef')\n",
    "plt.ylabel('BLEU SCORE')\n",
    "\n",
    "# Showing legend\n",
    "plt.legend()\n",
    "\n",
    "# Displaying the plot\n",
    "plt.show()\n"
   ]
  },
  {
   "cell_type": "markdown",
   "metadata": {},
   "source": [
    "bleu score custom vector database"
   ]
  },
  {
   "cell_type": "code",
   "execution_count": 147,
   "metadata": {},
   "outputs": [
    {
     "name": "stdout",
     "output_type": "stream",
     "text": [
      "average bleu score (openai embeddings) (ef=150) (M=16): 0.5626073323630132\n",
      "average bleu score (T5-small embeddings) (ef=150) (M=16): 0.005421190203675351\n"
     ]
    }
   ],
   "source": [
    "efs = list(range(150, 250, 100))\n",
    "Ms = [16] * len(efs)\n",
    "\n",
    "bleu_scores = []\n",
    "for name, embeddings in embeddings_list:\n",
    "    temp1_blue_scores = []\n",
    "    for ef, M in zip(efs, Ms):\n",
    "        rag = RAG(documents, embeddings)\n",
    "        \n",
    "        temp2_blue_scores = []\n",
    "        # Using SmoothingFunction() to prevent zero BLEU score\n",
    "        smooth = SmoothingFunction().method1\n",
    "        for row in qa.itertuples():\n",
    "            \n",
    "            question, answer1, answer2, answer3 = row[1], row[2], row[3], row[4]\n",
    "            references = [tokenize_text(answer1), tokenize_text(answer2), tokenize_text(answer3)]\n",
    "            \n",
    "            # Calculate BLEU score (use sentence_bleu for a single sentence)\n",
    "            response = rag.response(question)\n",
    "            candidate = tokenize_text(response)\n",
    "\n",
    "            bleu_score = sentence_bleu(references, candidate, smoothing_function=smooth)\n",
    "            temp2_blue_scores.append(bleu_score)\n",
    "        average_bleu_score = sum(temp2_blue_scores)/len(temp2_blue_scores)\n",
    "        temp1_blue_scores.append(average_bleu_score)\n",
    "        print(f\"average bleu score ({name}) (ef={ef}) (M={M}): {sum(temp2_blue_scores)/len(temp2_blue_scores)}\")\n",
    "    bleu_scores.append(temp1_blue_scores)"
   ]
  },
  {
   "cell_type": "code",
   "execution_count": 148,
   "metadata": {},
   "outputs": [
    {
     "data": {
      "image/png": "[encoded data removed]",
      "text/plain": [
       "<Figure size 640x480 with 1 Axes>"
      ]
     },
     "metadata": {},
     "output_type": "display_data"
    }
   ],
   "source": [
    "import matplotlib.pyplot as plt\n",
    "\n",
    "# Plotting both lines on the same graph\n",
    "plt.plot(efs, bleu_scores[0], label=\"openai embedding\", color='blue', marker='o')  # First line\n",
    "plt.plot(efs, bleu_scores[1], label=\"t5-small embedding\", color='green', marker='x')  # Second line\n",
    "\n",
    "plt.xticks(efs)\n",
    "\n",
    "# Adding titles and labels\n",
    "plt.title('Bleu Score for embedding comparison with ef')\n",
    "plt.xlabel('ef')\n",
    "plt.ylabel('BLEU SCORE')\n",
    "\n",
    "# Showing legend\n",
    "plt.legend()\n",
    "\n",
    "# Displaying the plot\n",
    "plt.show()\n"
   ]
  }
 ],
 "metadata": {
  "kernelspec": {
   "display_name": ".venv",
   "language": "python",
   "name": "python3"
  },
  "language_info": {
   "codemirror_mode": {
    "name": "ipython",
    "version": 3
   },
   "file_extension": ".py",
   "mimetype": "text/x-python",
   "name": "python",
   "nbconvert_exporter": "python",
   "pygments_lexer": "ipython3",
   "version": "3.11.1"
  }
 },
 "nbformat": 4,
 "nbformat_minor": 2
}
